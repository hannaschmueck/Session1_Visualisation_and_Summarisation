{
 "cells": [
  {
   "cell_type": "markdown",
   "metadata": {
    "colab_type": "text",
    "id": "view-in-github"
   },
   "source": [
    "<a href=\"https://colab.research.google.com/github/UCREL/Session1_Visualisation_and_Summarisation/blob/main/NoteBooks/1_Visualisation_SpaCy_Tutorial.ipynb\" target=\"_parent\"><img src=\"https://colab.research.google.com/assets/colab-badge.svg\" alt=\"Open In Colab\"/></a>"
   ]
  },
  {
   "cell_type": "markdown",
   "metadata": {
    "id": "bb2e17a6"
   },
   "source": [
    "# Visualisation with spaCy Tutorial\n",
    "\n",
    "This notebook demonstrates how to use spaCy for text visualisation, focusing on named entity recognition and syntactic dependency parsing."
   ]
  },
  {
   "cell_type": "markdown",
   "metadata": {
    "id": "24641e8e"
   },
   "source": [
    "# Step 1: Install and Import Libraries\n",
    "\n",
    "In this step, we will install the required libraries and import them. We will primarily use spaCy for text processing and visualisation."
   ]
  },
  {
   "cell_type": "markdown",
   "metadata": {
    "id": "-b_Hr6NbRd-c"
   },
   "source": [
    "In Natural Language Processing (NLP), preparing the text data correctly is crucial for effective analysis and model training. This part focuses on the initial steps of text preprocessing which involve cleaning the input text."
   ]
  },
  {
   "cell_type": "markdown",
   "metadata": {
    "id": "u0DVVRjBqRiq"
   },
   "source": [
    "\n",
    "\n",
    "---\n",
    "\n",
    "> Let's execute it to see the results.\n",
    "---"
   ]
  },
  {
   "cell_type": "code",
   "execution_count": 1,
   "metadata": {
    "colab": {
     "base_uri": "https://localhost:8080/"
    },
    "id": "Sb7baqUFkqMQ",
    "outputId": "c86454c2-ced2-4da0-c3d6-6dc70d68b0f9"
   },
   "outputs": [
    {
     "name": "stdout",
     "output_type": "stream",
     "text": [
      "Requirement already satisfied: spacy in /Users/hannaschmueck/Documents/GitHub/NLP_Visualisation/nlp_env/lib/python3.11/site-packages (3.7.5)\n",
      "Requirement already satisfied: spacy-legacy<3.1.0,>=3.0.11 in /Users/hannaschmueck/Documents/GitHub/NLP_Visualisation/nlp_env/lib/python3.11/site-packages (from spacy) (3.0.12)\n",
      "Requirement already satisfied: spacy-loggers<2.0.0,>=1.0.0 in /Users/hannaschmueck/Documents/GitHub/NLP_Visualisation/nlp_env/lib/python3.11/site-packages (from spacy) (1.0.5)\n",
      "Requirement already satisfied: murmurhash<1.1.0,>=0.28.0 in /Users/hannaschmueck/Documents/GitHub/NLP_Visualisation/nlp_env/lib/python3.11/site-packages (from spacy) (1.0.10)\n",
      "Requirement already satisfied: cymem<2.1.0,>=2.0.2 in /Users/hannaschmueck/Documents/GitHub/NLP_Visualisation/nlp_env/lib/python3.11/site-packages (from spacy) (2.0.8)\n",
      "Requirement already satisfied: preshed<3.1.0,>=3.0.2 in /Users/hannaschmueck/Documents/GitHub/NLP_Visualisation/nlp_env/lib/python3.11/site-packages (from spacy) (3.0.9)\n",
      "Requirement already satisfied: thinc<8.3.0,>=8.2.2 in /Users/hannaschmueck/Documents/GitHub/NLP_Visualisation/nlp_env/lib/python3.11/site-packages (from spacy) (8.2.5)\n",
      "Requirement already satisfied: wasabi<1.2.0,>=0.9.1 in /Users/hannaschmueck/Documents/GitHub/NLP_Visualisation/nlp_env/lib/python3.11/site-packages (from spacy) (1.1.3)\n",
      "Requirement already satisfied: srsly<3.0.0,>=2.4.3 in /Users/hannaschmueck/Documents/GitHub/NLP_Visualisation/nlp_env/lib/python3.11/site-packages (from spacy) (2.4.8)\n",
      "Requirement already satisfied: catalogue<2.1.0,>=2.0.6 in /Users/hannaschmueck/Documents/GitHub/NLP_Visualisation/nlp_env/lib/python3.11/site-packages (from spacy) (2.0.10)\n",
      "Requirement already satisfied: weasel<0.5.0,>=0.1.0 in /Users/hannaschmueck/Documents/GitHub/NLP_Visualisation/nlp_env/lib/python3.11/site-packages (from spacy) (0.4.1)\n",
      "Requirement already satisfied: typer<1.0.0,>=0.3.0 in /Users/hannaschmueck/Documents/GitHub/NLP_Visualisation/nlp_env/lib/python3.11/site-packages (from spacy) (0.12.3)\n",
      "Requirement already satisfied: tqdm<5.0.0,>=4.38.0 in /Users/hannaschmueck/Documents/GitHub/NLP_Visualisation/nlp_env/lib/python3.11/site-packages (from spacy) (4.66.4)\n",
      "Requirement already satisfied: requests<3.0.0,>=2.13.0 in /Users/hannaschmueck/Documents/GitHub/NLP_Visualisation/nlp_env/lib/python3.11/site-packages (from spacy) (2.32.3)\n",
      "Requirement already satisfied: pydantic!=1.8,!=1.8.1,<3.0.0,>=1.7.4 in /Users/hannaschmueck/Documents/GitHub/NLP_Visualisation/nlp_env/lib/python3.11/site-packages (from spacy) (2.8.2)\n",
      "Requirement already satisfied: jinja2 in /Users/hannaschmueck/Documents/GitHub/NLP_Visualisation/nlp_env/lib/python3.11/site-packages (from spacy) (3.1.4)\n",
      "Requirement already satisfied: setuptools in /Users/hannaschmueck/Documents/GitHub/NLP_Visualisation/nlp_env/lib/python3.11/site-packages (from spacy) (65.5.0)\n",
      "Requirement already satisfied: packaging>=20.0 in /Users/hannaschmueck/Documents/GitHub/NLP_Visualisation/nlp_env/lib/python3.11/site-packages (from spacy) (24.1)\n",
      "Requirement already satisfied: langcodes<4.0.0,>=3.2.0 in /Users/hannaschmueck/Documents/GitHub/NLP_Visualisation/nlp_env/lib/python3.11/site-packages (from spacy) (3.4.0)\n",
      "Requirement already satisfied: numpy>=1.19.0 in /Users/hannaschmueck/Documents/GitHub/NLP_Visualisation/nlp_env/lib/python3.11/site-packages (from spacy) (1.26.4)\n",
      "Requirement already satisfied: language-data>=1.2 in /Users/hannaschmueck/Documents/GitHub/NLP_Visualisation/nlp_env/lib/python3.11/site-packages (from langcodes<4.0.0,>=3.2.0->spacy) (1.2.0)\n",
      "Requirement already satisfied: annotated-types>=0.4.0 in /Users/hannaschmueck/Documents/GitHub/NLP_Visualisation/nlp_env/lib/python3.11/site-packages (from pydantic!=1.8,!=1.8.1,<3.0.0,>=1.7.4->spacy) (0.7.0)\n",
      "Requirement already satisfied: pydantic-core==2.20.1 in /Users/hannaschmueck/Documents/GitHub/NLP_Visualisation/nlp_env/lib/python3.11/site-packages (from pydantic!=1.8,!=1.8.1,<3.0.0,>=1.7.4->spacy) (2.20.1)\n",
      "Requirement already satisfied: typing-extensions>=4.6.1 in /Users/hannaschmueck/Documents/GitHub/NLP_Visualisation/nlp_env/lib/python3.11/site-packages (from pydantic!=1.8,!=1.8.1,<3.0.0,>=1.7.4->spacy) (4.12.2)\n",
      "Requirement already satisfied: charset-normalizer<4,>=2 in /Users/hannaschmueck/Documents/GitHub/NLP_Visualisation/nlp_env/lib/python3.11/site-packages (from requests<3.0.0,>=2.13.0->spacy) (3.3.2)\n",
      "Requirement already satisfied: idna<4,>=2.5 in /Users/hannaschmueck/Documents/GitHub/NLP_Visualisation/nlp_env/lib/python3.11/site-packages (from requests<3.0.0,>=2.13.0->spacy) (3.7)\n",
      "Requirement already satisfied: urllib3<3,>=1.21.1 in /Users/hannaschmueck/Documents/GitHub/NLP_Visualisation/nlp_env/lib/python3.11/site-packages (from requests<3.0.0,>=2.13.0->spacy) (2.2.2)\n",
      "Requirement already satisfied: certifi>=2017.4.17 in /Users/hannaschmueck/Documents/GitHub/NLP_Visualisation/nlp_env/lib/python3.11/site-packages (from requests<3.0.0,>=2.13.0->spacy) (2024.7.4)\n",
      "Requirement already satisfied: blis<0.8.0,>=0.7.8 in /Users/hannaschmueck/Documents/GitHub/NLP_Visualisation/nlp_env/lib/python3.11/site-packages (from thinc<8.3.0,>=8.2.2->spacy) (0.7.11)\n",
      "Requirement already satisfied: confection<1.0.0,>=0.0.1 in /Users/hannaschmueck/Documents/GitHub/NLP_Visualisation/nlp_env/lib/python3.11/site-packages (from thinc<8.3.0,>=8.2.2->spacy) (0.1.5)\n",
      "Requirement already satisfied: click>=8.0.0 in /Users/hannaschmueck/Documents/GitHub/NLP_Visualisation/nlp_env/lib/python3.11/site-packages (from typer<1.0.0,>=0.3.0->spacy) (8.1.7)\n",
      "Requirement already satisfied: shellingham>=1.3.0 in /Users/hannaschmueck/Documents/GitHub/NLP_Visualisation/nlp_env/lib/python3.11/site-packages (from typer<1.0.0,>=0.3.0->spacy) (1.5.4)\n",
      "Requirement already satisfied: rich>=10.11.0 in /Users/hannaschmueck/Documents/GitHub/NLP_Visualisation/nlp_env/lib/python3.11/site-packages (from typer<1.0.0,>=0.3.0->spacy) (13.7.1)\n",
      "Requirement already satisfied: cloudpathlib<1.0.0,>=0.7.0 in /Users/hannaschmueck/Documents/GitHub/NLP_Visualisation/nlp_env/lib/python3.11/site-packages (from weasel<0.5.0,>=0.1.0->spacy) (0.18.1)\n",
      "Requirement already satisfied: smart-open<8.0.0,>=5.2.1 in /Users/hannaschmueck/Documents/GitHub/NLP_Visualisation/nlp_env/lib/python3.11/site-packages (from weasel<0.5.0,>=0.1.0->spacy) (7.0.4)\n",
      "Requirement already satisfied: MarkupSafe>=2.0 in /Users/hannaschmueck/Documents/GitHub/NLP_Visualisation/nlp_env/lib/python3.11/site-packages (from jinja2->spacy) (2.1.5)\n",
      "Requirement already satisfied: marisa-trie>=0.7.7 in /Users/hannaschmueck/Documents/GitHub/NLP_Visualisation/nlp_env/lib/python3.11/site-packages (from language-data>=1.2->langcodes<4.0.0,>=3.2.0->spacy) (1.2.0)\n",
      "Requirement already satisfied: markdown-it-py>=2.2.0 in /Users/hannaschmueck/Documents/GitHub/NLP_Visualisation/nlp_env/lib/python3.11/site-packages (from rich>=10.11.0->typer<1.0.0,>=0.3.0->spacy) (3.0.0)\n",
      "Requirement already satisfied: pygments<3.0.0,>=2.13.0 in /Users/hannaschmueck/Documents/GitHub/NLP_Visualisation/nlp_env/lib/python3.11/site-packages (from rich>=10.11.0->typer<1.0.0,>=0.3.0->spacy) (2.18.0)\n",
      "Requirement already satisfied: wrapt in /Users/hannaschmueck/Documents/GitHub/NLP_Visualisation/nlp_env/lib/python3.11/site-packages (from smart-open<8.0.0,>=5.2.1->weasel<0.5.0,>=0.1.0->spacy) (1.16.0)\n",
      "Requirement already satisfied: mdurl~=0.1 in /Users/hannaschmueck/Documents/GitHub/NLP_Visualisation/nlp_env/lib/python3.11/site-packages (from markdown-it-py>=2.2.0->rich>=10.11.0->typer<1.0.0,>=0.3.0->spacy) (0.1.2)\n",
      "Requirement already satisfied: spacy-lookups-data in /Users/hannaschmueck/Documents/GitHub/NLP_Visualisation/nlp_env/lib/python3.11/site-packages (1.0.5)\n",
      "Requirement already satisfied: setuptools in /Users/hannaschmueck/Documents/GitHub/NLP_Visualisation/nlp_env/lib/python3.11/site-packages (from spacy-lookups-data) (65.5.0)\n",
      "Collecting en-core-web-sm==3.7.1\n",
      "  Downloading https://github.com/explosion/spacy-models/releases/download/en_core_web_sm-3.7.1/en_core_web_sm-3.7.1-py3-none-any.whl (12.8 MB)\n",
      "\u001b[2K     \u001b[90m━━━━━━━━━━━━━━━━━━━━━━━━━━━━━━━━━━━━━━━━\u001b[0m \u001b[32m12.8/12.8 MB\u001b[0m \u001b[31m14.3 MB/s\u001b[0m eta \u001b[36m0:00:00\u001b[0m00:01\u001b[0m00:01\u001b[0m\n",
      "\u001b[?25hRequirement already satisfied: spacy<3.8.0,>=3.7.2 in /Users/hannaschmueck/Documents/GitHub/NLP_Visualisation/nlp_env/lib/python3.11/site-packages (from en-core-web-sm==3.7.1) (3.7.5)\n",
      "Requirement already satisfied: spacy-legacy<3.1.0,>=3.0.11 in /Users/hannaschmueck/Documents/GitHub/NLP_Visualisation/nlp_env/lib/python3.11/site-packages (from spacy<3.8.0,>=3.7.2->en-core-web-sm==3.7.1) (3.0.12)\n",
      "Requirement already satisfied: spacy-loggers<2.0.0,>=1.0.0 in /Users/hannaschmueck/Documents/GitHub/NLP_Visualisation/nlp_env/lib/python3.11/site-packages (from spacy<3.8.0,>=3.7.2->en-core-web-sm==3.7.1) (1.0.5)\n",
      "Requirement already satisfied: murmurhash<1.1.0,>=0.28.0 in /Users/hannaschmueck/Documents/GitHub/NLP_Visualisation/nlp_env/lib/python3.11/site-packages (from spacy<3.8.0,>=3.7.2->en-core-web-sm==3.7.1) (1.0.10)\n",
      "Requirement already satisfied: cymem<2.1.0,>=2.0.2 in /Users/hannaschmueck/Documents/GitHub/NLP_Visualisation/nlp_env/lib/python3.11/site-packages (from spacy<3.8.0,>=3.7.2->en-core-web-sm==3.7.1) (2.0.8)\n",
      "Requirement already satisfied: preshed<3.1.0,>=3.0.2 in /Users/hannaschmueck/Documents/GitHub/NLP_Visualisation/nlp_env/lib/python3.11/site-packages (from spacy<3.8.0,>=3.7.2->en-core-web-sm==3.7.1) (3.0.9)\n",
      "Requirement already satisfied: thinc<8.3.0,>=8.2.2 in /Users/hannaschmueck/Documents/GitHub/NLP_Visualisation/nlp_env/lib/python3.11/site-packages (from spacy<3.8.0,>=3.7.2->en-core-web-sm==3.7.1) (8.2.5)\n",
      "Requirement already satisfied: wasabi<1.2.0,>=0.9.1 in /Users/hannaschmueck/Documents/GitHub/NLP_Visualisation/nlp_env/lib/python3.11/site-packages (from spacy<3.8.0,>=3.7.2->en-core-web-sm==3.7.1) (1.1.3)\n",
      "Requirement already satisfied: srsly<3.0.0,>=2.4.3 in /Users/hannaschmueck/Documents/GitHub/NLP_Visualisation/nlp_env/lib/python3.11/site-packages (from spacy<3.8.0,>=3.7.2->en-core-web-sm==3.7.1) (2.4.8)\n",
      "Requirement already satisfied: catalogue<2.1.0,>=2.0.6 in /Users/hannaschmueck/Documents/GitHub/NLP_Visualisation/nlp_env/lib/python3.11/site-packages (from spacy<3.8.0,>=3.7.2->en-core-web-sm==3.7.1) (2.0.10)\n",
      "Requirement already satisfied: weasel<0.5.0,>=0.1.0 in /Users/hannaschmueck/Documents/GitHub/NLP_Visualisation/nlp_env/lib/python3.11/site-packages (from spacy<3.8.0,>=3.7.2->en-core-web-sm==3.7.1) (0.4.1)\n",
      "Requirement already satisfied: typer<1.0.0,>=0.3.0 in /Users/hannaschmueck/Documents/GitHub/NLP_Visualisation/nlp_env/lib/python3.11/site-packages (from spacy<3.8.0,>=3.7.2->en-core-web-sm==3.7.1) (0.12.3)\n",
      "Requirement already satisfied: tqdm<5.0.0,>=4.38.0 in /Users/hannaschmueck/Documents/GitHub/NLP_Visualisation/nlp_env/lib/python3.11/site-packages (from spacy<3.8.0,>=3.7.2->en-core-web-sm==3.7.1) (4.66.4)\n",
      "Requirement already satisfied: requests<3.0.0,>=2.13.0 in /Users/hannaschmueck/Documents/GitHub/NLP_Visualisation/nlp_env/lib/python3.11/site-packages (from spacy<3.8.0,>=3.7.2->en-core-web-sm==3.7.1) (2.32.3)\n",
      "Requirement already satisfied: pydantic!=1.8,!=1.8.1,<3.0.0,>=1.7.4 in /Users/hannaschmueck/Documents/GitHub/NLP_Visualisation/nlp_env/lib/python3.11/site-packages (from spacy<3.8.0,>=3.7.2->en-core-web-sm==3.7.1) (2.8.2)\n",
      "Requirement already satisfied: jinja2 in /Users/hannaschmueck/Documents/GitHub/NLP_Visualisation/nlp_env/lib/python3.11/site-packages (from spacy<3.8.0,>=3.7.2->en-core-web-sm==3.7.1) (3.1.4)\n",
      "Requirement already satisfied: setuptools in /Users/hannaschmueck/Documents/GitHub/NLP_Visualisation/nlp_env/lib/python3.11/site-packages (from spacy<3.8.0,>=3.7.2->en-core-web-sm==3.7.1) (65.5.0)\n",
      "Requirement already satisfied: packaging>=20.0 in /Users/hannaschmueck/Documents/GitHub/NLP_Visualisation/nlp_env/lib/python3.11/site-packages (from spacy<3.8.0,>=3.7.2->en-core-web-sm==3.7.1) (24.1)\n",
      "Requirement already satisfied: langcodes<4.0.0,>=3.2.0 in /Users/hannaschmueck/Documents/GitHub/NLP_Visualisation/nlp_env/lib/python3.11/site-packages (from spacy<3.8.0,>=3.7.2->en-core-web-sm==3.7.1) (3.4.0)\n",
      "Requirement already satisfied: numpy>=1.19.0 in /Users/hannaschmueck/Documents/GitHub/NLP_Visualisation/nlp_env/lib/python3.11/site-packages (from spacy<3.8.0,>=3.7.2->en-core-web-sm==3.7.1) (1.26.4)\n",
      "Requirement already satisfied: language-data>=1.2 in /Users/hannaschmueck/Documents/GitHub/NLP_Visualisation/nlp_env/lib/python3.11/site-packages (from langcodes<4.0.0,>=3.2.0->spacy<3.8.0,>=3.7.2->en-core-web-sm==3.7.1) (1.2.0)\n",
      "Requirement already satisfied: annotated-types>=0.4.0 in /Users/hannaschmueck/Documents/GitHub/NLP_Visualisation/nlp_env/lib/python3.11/site-packages (from pydantic!=1.8,!=1.8.1,<3.0.0,>=1.7.4->spacy<3.8.0,>=3.7.2->en-core-web-sm==3.7.1) (0.7.0)\n",
      "Requirement already satisfied: pydantic-core==2.20.1 in /Users/hannaschmueck/Documents/GitHub/NLP_Visualisation/nlp_env/lib/python3.11/site-packages (from pydantic!=1.8,!=1.8.1,<3.0.0,>=1.7.4->spacy<3.8.0,>=3.7.2->en-core-web-sm==3.7.1) (2.20.1)\n",
      "Requirement already satisfied: typing-extensions>=4.6.1 in /Users/hannaschmueck/Documents/GitHub/NLP_Visualisation/nlp_env/lib/python3.11/site-packages (from pydantic!=1.8,!=1.8.1,<3.0.0,>=1.7.4->spacy<3.8.0,>=3.7.2->en-core-web-sm==3.7.1) (4.12.2)\n",
      "Requirement already satisfied: charset-normalizer<4,>=2 in /Users/hannaschmueck/Documents/GitHub/NLP_Visualisation/nlp_env/lib/python3.11/site-packages (from requests<3.0.0,>=2.13.0->spacy<3.8.0,>=3.7.2->en-core-web-sm==3.7.1) (3.3.2)\n",
      "Requirement already satisfied: idna<4,>=2.5 in /Users/hannaschmueck/Documents/GitHub/NLP_Visualisation/nlp_env/lib/python3.11/site-packages (from requests<3.0.0,>=2.13.0->spacy<3.8.0,>=3.7.2->en-core-web-sm==3.7.1) (3.7)\n",
      "Requirement already satisfied: urllib3<3,>=1.21.1 in /Users/hannaschmueck/Documents/GitHub/NLP_Visualisation/nlp_env/lib/python3.11/site-packages (from requests<3.0.0,>=2.13.0->spacy<3.8.0,>=3.7.2->en-core-web-sm==3.7.1) (2.2.2)\n",
      "Requirement already satisfied: certifi>=2017.4.17 in /Users/hannaschmueck/Documents/GitHub/NLP_Visualisation/nlp_env/lib/python3.11/site-packages (from requests<3.0.0,>=2.13.0->spacy<3.8.0,>=3.7.2->en-core-web-sm==3.7.1) (2024.7.4)\n",
      "Requirement already satisfied: blis<0.8.0,>=0.7.8 in /Users/hannaschmueck/Documents/GitHub/NLP_Visualisation/nlp_env/lib/python3.11/site-packages (from thinc<8.3.0,>=8.2.2->spacy<3.8.0,>=3.7.2->en-core-web-sm==3.7.1) (0.7.11)\n",
      "Requirement already satisfied: confection<1.0.0,>=0.0.1 in /Users/hannaschmueck/Documents/GitHub/NLP_Visualisation/nlp_env/lib/python3.11/site-packages (from thinc<8.3.0,>=8.2.2->spacy<3.8.0,>=3.7.2->en-core-web-sm==3.7.1) (0.1.5)\n",
      "Requirement already satisfied: click>=8.0.0 in /Users/hannaschmueck/Documents/GitHub/NLP_Visualisation/nlp_env/lib/python3.11/site-packages (from typer<1.0.0,>=0.3.0->spacy<3.8.0,>=3.7.2->en-core-web-sm==3.7.1) (8.1.7)\n",
      "Requirement already satisfied: shellingham>=1.3.0 in /Users/hannaschmueck/Documents/GitHub/NLP_Visualisation/nlp_env/lib/python3.11/site-packages (from typer<1.0.0,>=0.3.0->spacy<3.8.0,>=3.7.2->en-core-web-sm==3.7.1) (1.5.4)\n",
      "Requirement already satisfied: rich>=10.11.0 in /Users/hannaschmueck/Documents/GitHub/NLP_Visualisation/nlp_env/lib/python3.11/site-packages (from typer<1.0.0,>=0.3.0->spacy<3.8.0,>=3.7.2->en-core-web-sm==3.7.1) (13.7.1)\n",
      "Requirement already satisfied: cloudpathlib<1.0.0,>=0.7.0 in /Users/hannaschmueck/Documents/GitHub/NLP_Visualisation/nlp_env/lib/python3.11/site-packages (from weasel<0.5.0,>=0.1.0->spacy<3.8.0,>=3.7.2->en-core-web-sm==3.7.1) (0.18.1)\n",
      "Requirement already satisfied: smart-open<8.0.0,>=5.2.1 in /Users/hannaschmueck/Documents/GitHub/NLP_Visualisation/nlp_env/lib/python3.11/site-packages (from weasel<0.5.0,>=0.1.0->spacy<3.8.0,>=3.7.2->en-core-web-sm==3.7.1) (7.0.4)\n",
      "Requirement already satisfied: MarkupSafe>=2.0 in /Users/hannaschmueck/Documents/GitHub/NLP_Visualisation/nlp_env/lib/python3.11/site-packages (from jinja2->spacy<3.8.0,>=3.7.2->en-core-web-sm==3.7.1) (2.1.5)\n",
      "Requirement already satisfied: marisa-trie>=0.7.7 in /Users/hannaschmueck/Documents/GitHub/NLP_Visualisation/nlp_env/lib/python3.11/site-packages (from language-data>=1.2->langcodes<4.0.0,>=3.2.0->spacy<3.8.0,>=3.7.2->en-core-web-sm==3.7.1) (1.2.0)\n",
      "Requirement already satisfied: markdown-it-py>=2.2.0 in /Users/hannaschmueck/Documents/GitHub/NLP_Visualisation/nlp_env/lib/python3.11/site-packages (from rich>=10.11.0->typer<1.0.0,>=0.3.0->spacy<3.8.0,>=3.7.2->en-core-web-sm==3.7.1) (3.0.0)\n",
      "Requirement already satisfied: pygments<3.0.0,>=2.13.0 in /Users/hannaschmueck/Documents/GitHub/NLP_Visualisation/nlp_env/lib/python3.11/site-packages (from rich>=10.11.0->typer<1.0.0,>=0.3.0->spacy<3.8.0,>=3.7.2->en-core-web-sm==3.7.1) (2.18.0)\n",
      "Requirement already satisfied: wrapt in /Users/hannaschmueck/Documents/GitHub/NLP_Visualisation/nlp_env/lib/python3.11/site-packages (from smart-open<8.0.0,>=5.2.1->weasel<0.5.0,>=0.1.0->spacy<3.8.0,>=3.7.2->en-core-web-sm==3.7.1) (1.16.0)\n",
      "Requirement already satisfied: mdurl~=0.1 in /Users/hannaschmueck/Documents/GitHub/NLP_Visualisation/nlp_env/lib/python3.11/site-packages (from markdown-it-py>=2.2.0->rich>=10.11.0->typer<1.0.0,>=0.3.0->spacy<3.8.0,>=3.7.2->en-core-web-sm==3.7.1) (0.1.2)\n",
      "\u001b[38;5;2m✔ Download and installation successful\u001b[0m\n",
      "You can now load the package via spacy.load('en_core_web_sm')\n",
      "Collecting de-core-news-sm==3.7.0\n",
      "  Downloading https://github.com/explosion/spacy-models/releases/download/de_core_news_sm-3.7.0/de_core_news_sm-3.7.0-py3-none-any.whl (14.6 MB)\n",
      "\u001b[2K     \u001b[90m━━━━━━━━━━━━━━━━━━━━━━━━━━━━━━━━━━━━━━━━\u001b[0m \u001b[32m14.6/14.6 MB\u001b[0m \u001b[31m9.2 MB/s\u001b[0m eta \u001b[36m0:00:00\u001b[0m00:01\u001b[0m00:01\u001b[0m\n",
      "\u001b[?25hRequirement already satisfied: spacy<3.8.0,>=3.7.0 in /Users/hannaschmueck/Documents/GitHub/NLP_Visualisation/nlp_env/lib/python3.11/site-packages (from de-core-news-sm==3.7.0) (3.7.5)\n",
      "Requirement already satisfied: spacy-legacy<3.1.0,>=3.0.11 in /Users/hannaschmueck/Documents/GitHub/NLP_Visualisation/nlp_env/lib/python3.11/site-packages (from spacy<3.8.0,>=3.7.0->de-core-news-sm==3.7.0) (3.0.12)\n",
      "Requirement already satisfied: spacy-loggers<2.0.0,>=1.0.0 in /Users/hannaschmueck/Documents/GitHub/NLP_Visualisation/nlp_env/lib/python3.11/site-packages (from spacy<3.8.0,>=3.7.0->de-core-news-sm==3.7.0) (1.0.5)\n",
      "Requirement already satisfied: murmurhash<1.1.0,>=0.28.0 in /Users/hannaschmueck/Documents/GitHub/NLP_Visualisation/nlp_env/lib/python3.11/site-packages (from spacy<3.8.0,>=3.7.0->de-core-news-sm==3.7.0) (1.0.10)\n",
      "Requirement already satisfied: cymem<2.1.0,>=2.0.2 in /Users/hannaschmueck/Documents/GitHub/NLP_Visualisation/nlp_env/lib/python3.11/site-packages (from spacy<3.8.0,>=3.7.0->de-core-news-sm==3.7.0) (2.0.8)\n",
      "Requirement already satisfied: preshed<3.1.0,>=3.0.2 in /Users/hannaschmueck/Documents/GitHub/NLP_Visualisation/nlp_env/lib/python3.11/site-packages (from spacy<3.8.0,>=3.7.0->de-core-news-sm==3.7.0) (3.0.9)\n",
      "Requirement already satisfied: thinc<8.3.0,>=8.2.2 in /Users/hannaschmueck/Documents/GitHub/NLP_Visualisation/nlp_env/lib/python3.11/site-packages (from spacy<3.8.0,>=3.7.0->de-core-news-sm==3.7.0) (8.2.5)\n",
      "Requirement already satisfied: wasabi<1.2.0,>=0.9.1 in /Users/hannaschmueck/Documents/GitHub/NLP_Visualisation/nlp_env/lib/python3.11/site-packages (from spacy<3.8.0,>=3.7.0->de-core-news-sm==3.7.0) (1.1.3)\n",
      "Requirement already satisfied: srsly<3.0.0,>=2.4.3 in /Users/hannaschmueck/Documents/GitHub/NLP_Visualisation/nlp_env/lib/python3.11/site-packages (from spacy<3.8.0,>=3.7.0->de-core-news-sm==3.7.0) (2.4.8)\n",
      "Requirement already satisfied: catalogue<2.1.0,>=2.0.6 in /Users/hannaschmueck/Documents/GitHub/NLP_Visualisation/nlp_env/lib/python3.11/site-packages (from spacy<3.8.0,>=3.7.0->de-core-news-sm==3.7.0) (2.0.10)\n",
      "Requirement already satisfied: weasel<0.5.0,>=0.1.0 in /Users/hannaschmueck/Documents/GitHub/NLP_Visualisation/nlp_env/lib/python3.11/site-packages (from spacy<3.8.0,>=3.7.0->de-core-news-sm==3.7.0) (0.4.1)\n",
      "Requirement already satisfied: typer<1.0.0,>=0.3.0 in /Users/hannaschmueck/Documents/GitHub/NLP_Visualisation/nlp_env/lib/python3.11/site-packages (from spacy<3.8.0,>=3.7.0->de-core-news-sm==3.7.0) (0.12.3)\n",
      "Requirement already satisfied: tqdm<5.0.0,>=4.38.0 in /Users/hannaschmueck/Documents/GitHub/NLP_Visualisation/nlp_env/lib/python3.11/site-packages (from spacy<3.8.0,>=3.7.0->de-core-news-sm==3.7.0) (4.66.4)\n",
      "Requirement already satisfied: requests<3.0.0,>=2.13.0 in /Users/hannaschmueck/Documents/GitHub/NLP_Visualisation/nlp_env/lib/python3.11/site-packages (from spacy<3.8.0,>=3.7.0->de-core-news-sm==3.7.0) (2.32.3)\n",
      "Requirement already satisfied: pydantic!=1.8,!=1.8.1,<3.0.0,>=1.7.4 in /Users/hannaschmueck/Documents/GitHub/NLP_Visualisation/nlp_env/lib/python3.11/site-packages (from spacy<3.8.0,>=3.7.0->de-core-news-sm==3.7.0) (2.8.2)\n",
      "Requirement already satisfied: jinja2 in /Users/hannaschmueck/Documents/GitHub/NLP_Visualisation/nlp_env/lib/python3.11/site-packages (from spacy<3.8.0,>=3.7.0->de-core-news-sm==3.7.0) (3.1.4)\n",
      "Requirement already satisfied: setuptools in /Users/hannaschmueck/Documents/GitHub/NLP_Visualisation/nlp_env/lib/python3.11/site-packages (from spacy<3.8.0,>=3.7.0->de-core-news-sm==3.7.0) (65.5.0)\n",
      "Requirement already satisfied: packaging>=20.0 in /Users/hannaschmueck/Documents/GitHub/NLP_Visualisation/nlp_env/lib/python3.11/site-packages (from spacy<3.8.0,>=3.7.0->de-core-news-sm==3.7.0) (24.1)\n",
      "Requirement already satisfied: langcodes<4.0.0,>=3.2.0 in /Users/hannaschmueck/Documents/GitHub/NLP_Visualisation/nlp_env/lib/python3.11/site-packages (from spacy<3.8.0,>=3.7.0->de-core-news-sm==3.7.0) (3.4.0)\n",
      "Requirement already satisfied: numpy>=1.19.0 in /Users/hannaschmueck/Documents/GitHub/NLP_Visualisation/nlp_env/lib/python3.11/site-packages (from spacy<3.8.0,>=3.7.0->de-core-news-sm==3.7.0) (1.26.4)\n",
      "Requirement already satisfied: language-data>=1.2 in /Users/hannaschmueck/Documents/GitHub/NLP_Visualisation/nlp_env/lib/python3.11/site-packages (from langcodes<4.0.0,>=3.2.0->spacy<3.8.0,>=3.7.0->de-core-news-sm==3.7.0) (1.2.0)\n",
      "Requirement already satisfied: annotated-types>=0.4.0 in /Users/hannaschmueck/Documents/GitHub/NLP_Visualisation/nlp_env/lib/python3.11/site-packages (from pydantic!=1.8,!=1.8.1,<3.0.0,>=1.7.4->spacy<3.8.0,>=3.7.0->de-core-news-sm==3.7.0) (0.7.0)\n",
      "Requirement already satisfied: pydantic-core==2.20.1 in /Users/hannaschmueck/Documents/GitHub/NLP_Visualisation/nlp_env/lib/python3.11/site-packages (from pydantic!=1.8,!=1.8.1,<3.0.0,>=1.7.4->spacy<3.8.0,>=3.7.0->de-core-news-sm==3.7.0) (2.20.1)\n",
      "Requirement already satisfied: typing-extensions>=4.6.1 in /Users/hannaschmueck/Documents/GitHub/NLP_Visualisation/nlp_env/lib/python3.11/site-packages (from pydantic!=1.8,!=1.8.1,<3.0.0,>=1.7.4->spacy<3.8.0,>=3.7.0->de-core-news-sm==3.7.0) (4.12.2)\n",
      "Requirement already satisfied: charset-normalizer<4,>=2 in /Users/hannaschmueck/Documents/GitHub/NLP_Visualisation/nlp_env/lib/python3.11/site-packages (from requests<3.0.0,>=2.13.0->spacy<3.8.0,>=3.7.0->de-core-news-sm==3.7.0) (3.3.2)\n",
      "Requirement already satisfied: idna<4,>=2.5 in /Users/hannaschmueck/Documents/GitHub/NLP_Visualisation/nlp_env/lib/python3.11/site-packages (from requests<3.0.0,>=2.13.0->spacy<3.8.0,>=3.7.0->de-core-news-sm==3.7.0) (3.7)\n",
      "Requirement already satisfied: urllib3<3,>=1.21.1 in /Users/hannaschmueck/Documents/GitHub/NLP_Visualisation/nlp_env/lib/python3.11/site-packages (from requests<3.0.0,>=2.13.0->spacy<3.8.0,>=3.7.0->de-core-news-sm==3.7.0) (2.2.2)\n",
      "Requirement already satisfied: certifi>=2017.4.17 in /Users/hannaschmueck/Documents/GitHub/NLP_Visualisation/nlp_env/lib/python3.11/site-packages (from requests<3.0.0,>=2.13.0->spacy<3.8.0,>=3.7.0->de-core-news-sm==3.7.0) (2024.7.4)\n",
      "Requirement already satisfied: blis<0.8.0,>=0.7.8 in /Users/hannaschmueck/Documents/GitHub/NLP_Visualisation/nlp_env/lib/python3.11/site-packages (from thinc<8.3.0,>=8.2.2->spacy<3.8.0,>=3.7.0->de-core-news-sm==3.7.0) (0.7.11)\n",
      "Requirement already satisfied: confection<1.0.0,>=0.0.1 in /Users/hannaschmueck/Documents/GitHub/NLP_Visualisation/nlp_env/lib/python3.11/site-packages (from thinc<8.3.0,>=8.2.2->spacy<3.8.0,>=3.7.0->de-core-news-sm==3.7.0) (0.1.5)\n",
      "Requirement already satisfied: click>=8.0.0 in /Users/hannaschmueck/Documents/GitHub/NLP_Visualisation/nlp_env/lib/python3.11/site-packages (from typer<1.0.0,>=0.3.0->spacy<3.8.0,>=3.7.0->de-core-news-sm==3.7.0) (8.1.7)\n",
      "Requirement already satisfied: shellingham>=1.3.0 in /Users/hannaschmueck/Documents/GitHub/NLP_Visualisation/nlp_env/lib/python3.11/site-packages (from typer<1.0.0,>=0.3.0->spacy<3.8.0,>=3.7.0->de-core-news-sm==3.7.0) (1.5.4)\n",
      "Requirement already satisfied: rich>=10.11.0 in /Users/hannaschmueck/Documents/GitHub/NLP_Visualisation/nlp_env/lib/python3.11/site-packages (from typer<1.0.0,>=0.3.0->spacy<3.8.0,>=3.7.0->de-core-news-sm==3.7.0) (13.7.1)\n",
      "Requirement already satisfied: cloudpathlib<1.0.0,>=0.7.0 in /Users/hannaschmueck/Documents/GitHub/NLP_Visualisation/nlp_env/lib/python3.11/site-packages (from weasel<0.5.0,>=0.1.0->spacy<3.8.0,>=3.7.0->de-core-news-sm==3.7.0) (0.18.1)\n",
      "Requirement already satisfied: smart-open<8.0.0,>=5.2.1 in /Users/hannaschmueck/Documents/GitHub/NLP_Visualisation/nlp_env/lib/python3.11/site-packages (from weasel<0.5.0,>=0.1.0->spacy<3.8.0,>=3.7.0->de-core-news-sm==3.7.0) (7.0.4)\n",
      "Requirement already satisfied: MarkupSafe>=2.0 in /Users/hannaschmueck/Documents/GitHub/NLP_Visualisation/nlp_env/lib/python3.11/site-packages (from jinja2->spacy<3.8.0,>=3.7.0->de-core-news-sm==3.7.0) (2.1.5)\n",
      "Requirement already satisfied: marisa-trie>=0.7.7 in /Users/hannaschmueck/Documents/GitHub/NLP_Visualisation/nlp_env/lib/python3.11/site-packages (from language-data>=1.2->langcodes<4.0.0,>=3.2.0->spacy<3.8.0,>=3.7.0->de-core-news-sm==3.7.0) (1.2.0)\n",
      "Requirement already satisfied: markdown-it-py>=2.2.0 in /Users/hannaschmueck/Documents/GitHub/NLP_Visualisation/nlp_env/lib/python3.11/site-packages (from rich>=10.11.0->typer<1.0.0,>=0.3.0->spacy<3.8.0,>=3.7.0->de-core-news-sm==3.7.0) (3.0.0)\n",
      "Requirement already satisfied: pygments<3.0.0,>=2.13.0 in /Users/hannaschmueck/Documents/GitHub/NLP_Visualisation/nlp_env/lib/python3.11/site-packages (from rich>=10.11.0->typer<1.0.0,>=0.3.0->spacy<3.8.0,>=3.7.0->de-core-news-sm==3.7.0) (2.18.0)\n",
      "Requirement already satisfied: wrapt in /Users/hannaschmueck/Documents/GitHub/NLP_Visualisation/nlp_env/lib/python3.11/site-packages (from smart-open<8.0.0,>=5.2.1->weasel<0.5.0,>=0.1.0->spacy<3.8.0,>=3.7.0->de-core-news-sm==3.7.0) (1.16.0)\n",
      "Requirement already satisfied: mdurl~=0.1 in /Users/hannaschmueck/Documents/GitHub/NLP_Visualisation/nlp_env/lib/python3.11/site-packages (from markdown-it-py>=2.2.0->rich>=10.11.0->typer<1.0.0,>=0.3.0->spacy<3.8.0,>=3.7.0->de-core-news-sm==3.7.0) (0.1.2)\n",
      "\u001b[38;5;2m✔ Download and installation successful\u001b[0m\n",
      "You can now load the package via spacy.load('de_core_news_sm')\n",
      "Requirement already satisfied: kaleido in /Users/hannaschmueck/Documents/GitHub/NLP_Visualisation/nlp_env/lib/python3.11/site-packages (0.2.1)\n",
      "Requirement already satisfied: tabulate in /Users/hannaschmueck/Documents/GitHub/NLP_Visualisation/nlp_env/lib/python3.11/site-packages (0.9.0)\n"
     ]
    }
   ],
   "source": [
    "#installing spaCy\n",
    "#https://spacy.io/usage\n",
    "!pip install -U spacy\n",
    "!pip install -U spacy-lookups-data\n",
    "!python -m spacy download en_core_web_sm\n",
    "!python -m spacy download de_core_news_sm\n",
    "!pip install kaleido\n",
    "!pip install tabulate\n"
   ]
  },
  {
   "cell_type": "code",
   "execution_count": null,
   "metadata": {},
   "outputs": [],
   "source": []
  },
  {
   "cell_type": "markdown",
   "metadata": {
    "id": "W1VY6217qrIq"
   },
   "source": [
    "### Creating a Directory for Plots\n",
    "\n",
    "In this section, we create a new directory named `plots` to organize and store our generated plots. This ensures that all visualizations are saved in a dedicated location, making it easier to manage and access them.\n",
    "\n",
    "**Command Explanation**:\n",
    "```python\n",
    "!mkdir plots\n",
    "```\n",
    "- **`!`**: The exclamation mark is used in Jupyter and Colab notebooks to execute system shell commands directly from a code cell. It allows us to run terminal commands within the notebook environment.\n",
    "- **`mkdir`**: This stands for \"make directory.\" It is a command used in Unix-based systems (such as Linux and macOS) to create a new directory.\n",
    "- **`plots`**: This is the name of the new directory we are creating. Once executed, a folder named `plots` will be created in the current working directory of the notebook.\n",
    "\n",
    "**Purpose**:\n",
    "- Organizing Output: By storing all plot files in a specific folder, we keep the workspace tidy and make it easier to locate and manage visualizations.\n",
    "- Preparation for Saving: Before generating and saving plots, ensuring the target directory exists prevents errors related to missing directories.\n",
    "\n",
    "\n",
    "\n"
   ]
  },
  {
   "cell_type": "markdown",
   "metadata": {
    "id": "tjlHHuL3qX29"
   },
   "source": [
    "\n",
    "\n",
    "\n",
    "---\n",
    "\n",
    ">  Let's execute it to see the results.\n",
    "---"
   ]
  },
  {
   "cell_type": "code",
   "execution_count": 2,
   "metadata": {
    "id": "8XXoxHm1l27y"
   },
   "outputs": [
    {
     "name": "stdout",
     "output_type": "stream",
     "text": [
      "mkdir: plots: File exists\n"
     ]
    }
   ],
   "source": [
    "!mkdir plots"
   ]
  },
  {
   "cell_type": "markdown",
   "metadata": {
    "id": "3m-6FQ_tUkQ4"
   },
   "source": [
    "### Load SpaCy Models and Tokenizer Setup\n",
    "setting up the SpaCy natural language processing (NLP) library to perform various linguistic tasks such as tokenization, parsing, and named entity recognition.\n",
    "\n",
    "1. **Importing Modules**:\n",
    "   Before using SpaCy's functionalities, you first need to import the necessary components. The `Tokenizer` class is specifically imported to handle the tokenization process.\n",
    "\n",
    "   ```python\n",
    "   from spacy.tokenizer import Tokenizer\n",
    "   import spacy\n",
    "   ```\n",
    "\n",
    "2. **Loading the SpaCy Model**:\n",
    "   The SpaCy model for English (`en_core_web_sm`) is loaded using `spacy.load()`. This model includes data and algorithms necessary for language processing tasks. If you're processing text in another language, you would load the corresponding model (e.g., `de_core_news_sm` for German).\n",
    "\n",
    "   ```python\n",
    "   nlp = spacy.load(\"en_core_web_sm\")  # loading language model\n",
    "   ```\n",
    "\n",
    "   This model loading step is crucial because it prepares SpaCy with the tools and data needed for processing English text, including pre-trained weights for understanding the structure and meaning of the language.\n",
    "\n",
    "3. **Alternative Model Importing Method**:\n",
    "   The commented-out lines provide an alternative way to load the SpaCy model. This method involves directly importing the model package and calling the `load()` method on it, which is useful if you want to avoid using the string name and prefer a more explicit import statement.\n",
    "\n",
    "   ```python\n",
    "   #import en_core_web_sm\n",
    "   #nlp = en_core_web_sm.load()\n",
    "   ```\n",
    "\n",
    "4. **Tokenizer Initialization**:\n",
    "   After loading the language model, a `Tokenizer` object is created using the vocabulary from the loaded `nlp` object. This tokenizer is configured to split text into tokens using the vocabulary of the English model.\n",
    "\n",
    "   ```python\n",
    "   tokenizer = Tokenizer(nlp.vocab)  # Create a blank Tokenizer with just the English vocab\n",
    "   ```\n",
    "\n",
    "\n",
    "### Note on Errors:\n",
    "   If you encounter a `ModuleNotFoundError`, it typically means that the SpaCy language model isn't installed on your system. The initial comment in the code snippet guides you to download the necessary language model using installation commands provided in a prior cell.\n",
    "\n",
    "\n"
   ]
  },
  {
   "cell_type": "markdown",
   "metadata": {
    "id": "cc_cJN7YVb00"
   },
   "source": [
    "\n",
    "\n",
    "\n",
    "---\n",
    "\n",
    "> The following code cell is designed to perform the operations described above. Let's execute it to see the results.\n",
    "---"
   ]
  },
  {
   "cell_type": "code",
   "execution_count": 3,
   "metadata": {
    "id": "ZJSwmVr0UmOG"
   },
   "outputs": [],
   "source": [
    "# Load the SpaCy English model. This model will be used for tokenisation, parsing, and named entity recognition.\n",
    "# SpaCy Tokenizer Construction\n",
    "# If running the following returns with ModuleNotFoundError then you need to download the language needed (see cell above)\n",
    "from spacy.tokenizer import Tokenizer\n",
    "\n",
    "import spacy\n",
    "\n",
    "nlp = spacy.load(\"en_core_web_sm\") #loading language model. Use de_core_news_sm for German for e.g..\n",
    "\n",
    "#otherwise you can use import of spacy.load()\n",
    "    #import en_core_web_sm\n",
    "    #nlp = en_core_web_sm.load()\n",
    "\n",
    "# Create a blank Tokenizer with just the English vocab\n",
    "tokenizer = Tokenizer(nlp.vocab)"
   ]
  },
  {
   "cell_type": "markdown",
   "metadata": {
    "id": "ddb5506e"
   },
   "source": [
    "# Step 2: Load and Preprocess Data\n",
    "\n",
    "We will load the text data that will be used for visualisation. For this tutorial, we will use a small sample text."
   ]
  },
  {
   "cell_type": "markdown",
   "metadata": {
    "id": "d8653212"
   },
   "source": [
    "### Define a Sentence\n",
    "\n"
   ]
  },
  {
   "cell_type": "markdown",
   "metadata": {
    "id": "v7BeYkhRrAur"
   },
   "source": [
    "\n",
    "\n",
    "\n",
    "---\n",
    "\n",
    "> The following code cell is designed to perform the operations described above. Let's execute it to see the results.\n",
    "---"
   ]
  },
  {
   "cell_type": "code",
   "execution_count": 4,
   "metadata": {
    "id": "mROq2JAolWRZ"
   },
   "outputs": [],
   "source": [
    "sentence = \"Today is July 24th, 2024, and Mo and Nouran are showing us how to visualise text online at Lancaster University. This is part of a UCREL NLP Summer School at Lancaster    University, which will   run at    InfoLab21 at Lancaster    from July 24th to 26th. There will be speakers and NLP tutorials as well as breakfast, lunch, and dinners. Attendees will have the opportunity to learn from experts in the field and network with peers.\""
   ]
  },
  {
   "cell_type": "markdown",
   "metadata": {
    "id": "5960edc1"
   },
   "source": [
    "### Tokenisation with Punctuation Considerations\n",
    "\n",
    "1. **tokenisation**: The primary operation is the tokenisation of the `sentence`. tokenisation is a process that splits the text into individual elements or \"tokens,\" which are typically words or significant punctuation marks. This is crucial for many NLP tasks as it converts unstructured text into a structured form that algorithms can work with.\n",
    "\n",
    "   ```python\n",
    "   tokens = tokenizer(sentence)  # Tokenise the cleaned sentence\n",
    "   ```\n",
    "\n",
    "   Here, it's important to note that the tokenisation is sensitive to punctuation. This means punctuation like the Arabic comma '،' is recognised and treated as a separate token, which can be vital for language-specific processing.\n",
    "\n",
    "2. **Token Count**: After tokenisation, the code calculates and prints the number of tokens in the sentence. This metric is useful for understanding the size of the data being processed, which can impact both performance and the approach to further analysis.\n",
    "\n",
    "   ```python\n",
    "   print('Number of words: ', len(tokens))\n",
    "   ```\n",
    "\n",
    "3. **Display Tokens**: The last part involves printing out each token. This is helpful for debugging and verifying that the tokenisation process has correctly identified and separated each word and relevant punctuation as intended.\n",
    "\n",
    "   ```python\n",
    "   print('\\n>>>>>>>Tokens<<<<<<<:')\n",
    "   for t in tokens:\n",
    "       print(t)\n",
    "   ```\n",
    "\n",
    "This setup not only prepares the text for more complex processing but also ensures that specific linguistic elements, such as punctuation in different languages, are appropriately recognized and handled, which is critical for maintaining the semantic integrity of the text in NLP applications.\n",
    "\n"
   ]
  },
  {
   "cell_type": "markdown",
   "metadata": {
    "id": "LEILuV27rDq2"
   },
   "source": [
    "\n",
    "\n",
    "\n",
    "---\n",
    "\n",
    "> The following code cell is designed to perform the operations described above. Let's execute it to see the results.\n",
    "---"
   ]
  },
  {
   "cell_type": "code",
   "execution_count": 5,
   "metadata": {
    "colab": {
     "base_uri": "https://localhost:8080/"
    },
    "id": "228_FpdLmExE",
    "outputId": "46e6a18c-16df-4fc0-ff66-254dde450452"
   },
   "outputs": [
    {
     "name": "stdout",
     "output_type": "stream",
     "text": [
      "Number of words:  78\n",
      "\n",
      ">>>>>>>Tokens<<<<<<<:\n",
      "Today\n",
      "is\n",
      "July\n",
      "24th,\n",
      "2024,\n",
      "and\n",
      "Mo\n",
      "and\n",
      "Nouran\n",
      "are\n",
      "showing\n",
      "us\n",
      "how\n",
      "to\n",
      "visualise\n",
      "text\n",
      "online\n",
      "at\n",
      "Lancaster\n",
      "University.\n",
      "This\n",
      "is\n",
      "part\n",
      "of\n",
      "a\n",
      "UCREL\n",
      "NLP\n",
      "Summer\n",
      "School\n",
      "at\n",
      "Lancaster\n",
      "   \n",
      "University,\n",
      "which\n",
      "will\n",
      "  \n",
      "run\n",
      "at\n",
      "   \n",
      "InfoLab21\n",
      "at\n",
      "Lancaster\n",
      "   \n",
      "from\n",
      "July\n",
      "24th\n",
      "to\n",
      "26th.\n",
      "There\n",
      "will\n",
      "be\n",
      "speakers\n",
      "and\n",
      "NLP\n",
      "tutorials\n",
      "as\n",
      "well\n",
      "as\n",
      "breakfast,\n",
      "lunch,\n",
      "and\n",
      "dinners.\n",
      "Attendees\n",
      "will\n",
      "have\n",
      "the\n",
      "opportunity\n",
      "to\n",
      "learn\n",
      "from\n",
      "experts\n",
      "in\n",
      "the\n",
      "field\n",
      "and\n",
      "network\n",
      "with\n",
      "peers.\n"
     ]
    }
   ],
   "source": [
    "tokens = tokenizer(sentence) #' '.join(sentence.split()) needed to avoid excess whitespaces.\n",
    "# notice that a punctuation such as ، (a comma in Arabic), is considered a token!\n",
    "print('Number of words: ',len(tokens))\n",
    "print('\\n>>>>>>>Tokens<<<<<<<:')\n",
    "for t in tokens:\n",
    "    print(t)"
   ]
  },
  {
   "cell_type": "markdown",
   "metadata": {
    "id": "2c636c99"
   },
   "source": [
    "The output demonstrates the list of tokens after preprocessing the text. Note the removal of extra spaces and punctuation, which simplifies further analysis by focusing only on meaningful words.\n",
    "\n",
    "### What Next??\n"
   ]
  },
  {
   "cell_type": "markdown",
   "metadata": {
    "id": "840b7def"
   },
   "source": [
    "1. **Whitespace Normalization**: The first step reduces any consecutive spaces in the text to a single space. This helps in standardizing the text format and avoiding inconsistencies that could arise from varied spacing (such as spaces, tabs, or newlines).\n",
    "\n",
    "   ```python\n",
    "   sentence = ' '.join(sentence.split())  # remove extra white spaces\n",
    "   ```\n",
    "\n",
    "2. **Punctuation Removal**: The second line removes all punctuation from the text using a regular expression. This is useful in many text processing tasks where punctuation does not add value, such as tokenisation or when building a bag-of-words model.\n",
    "\n",
    "   ```python\n",
    "   sentence = re.sub(r'[^\\w\\s]', '', sentence)  # use regex to remove punctuations\n",
    "   ```\n",
    "\n",
    "3. **tokenisation**: After cleaning the text, the next step is tokenisation, where the cleaned sentence is split into individual elements or \"tokens\". tokenisation is fundamental in NLP for breaking down text into manageable pieces for further analysis.\n",
    "\n",
    "   ```python\n",
    "   tokens = tokenizer(sentence)  # we call the tokenizer again over the cleaned sentence\n",
    "   ```\n",
    "\n",
    "4. **Output Display**: Finally, the number of tokens is printed followed by the tokens themselves. This output helps in verifying the effectiveness of the preprocessing steps.\n",
    "\n",
    "   ```python\n",
    "   print('Number of words: ', len(tokens))\n",
    "   print('\\n>>>>>>>Tokens<<<<<<<:')\n",
    "   for t in tokens:\n",
    "       print(t)\n",
    "   ```"
   ]
  },
  {
   "cell_type": "markdown",
   "metadata": {
    "id": "Sf1d-91urI42"
   },
   "source": [
    "\n",
    "\n",
    "\n",
    "---\n",
    "\n",
    "> The following code cell is designed to perform the operations described above. Let's execute it to see the results.\n",
    "---"
   ]
  },
  {
   "cell_type": "code",
   "execution_count": 6,
   "metadata": {
    "colab": {
     "base_uri": "https://localhost:8080/"
    },
    "id": "uUZVTMMFm7Av",
    "outputId": "20ef8a29-2553-4750-e375-111941e5f732"
   },
   "outputs": [
    {
     "name": "stdout",
     "output_type": "stream",
     "text": [
      "Numer of words:  74\n",
      "\n",
      ">>>>>>>Tokens<<<<<<<:\n",
      "Today\n",
      "is\n",
      "July\n",
      "24th\n",
      "2024\n",
      "and\n",
      "Mo\n",
      "and\n",
      "Nouran\n",
      "are\n",
      "showing\n",
      "us\n",
      "how\n",
      "to\n",
      "visualise\n",
      "text\n",
      "online\n",
      "at\n",
      "Lancaster\n",
      "University\n",
      "This\n",
      "is\n",
      "part\n",
      "of\n",
      "a\n",
      "UCREL\n",
      "NLP\n",
      "Summer\n",
      "School\n",
      "at\n",
      "Lancaster\n",
      "University\n",
      "which\n",
      "will\n",
      "run\n",
      "at\n",
      "InfoLab21\n",
      "at\n",
      "Lancaster\n",
      "from\n",
      "July\n",
      "24th\n",
      "to\n",
      "26th\n",
      "There\n",
      "will\n",
      "be\n",
      "speakers\n",
      "and\n",
      "NLP\n",
      "tutorials\n",
      "as\n",
      "well\n",
      "as\n",
      "breakfast\n",
      "lunch\n",
      "and\n",
      "dinners\n",
      "Attendees\n",
      "will\n",
      "have\n",
      "the\n",
      "opportunity\n",
      "to\n",
      "learn\n",
      "from\n",
      "experts\n",
      "in\n",
      "the\n",
      "field\n",
      "and\n",
      "network\n",
      "with\n",
      "peers\n"
     ]
    }
   ],
   "source": [
    "import re\n",
    "sentence = ' '.join(sentence.split())#remove extra white spaces\n",
    "sentence = re.sub(r'[^\\w\\s]','',sentence)#use regex to remove puncatuations\n",
    "\n",
    "tokens = tokenizer(sentence) #we call the tokenizer again over the cleaned sentence\n",
    "\n",
    "print('Numer of words: ',len(tokens))\n",
    "print('\\n>>>>>>>Tokens<<<<<<<:')\n",
    "for t in tokens:\n",
    "    print(t)"
   ]
  },
  {
   "cell_type": "markdown",
   "metadata": {
    "id": "fhLsSkbxWpTh"
   },
   "source": [
    "---\n",
    "\n",
    "## Simplifying preprocessing with SpaCy\n",
    "\n",
    "Emphasize the ease of use and privilege the capabilities of SpaCy, a leading library in Natural Language Processing (NLP). SpaCy offers efficient, robust tools designed to streamline complex linguistic tasks.\n"
   ]
  },
  {
   "cell_type": "markdown",
   "metadata": {
    "id": "Y_SE7FnbWccz"
   },
   "source": [
    "---\n",
    "\n",
    "### Function `tokenise_sentence`\n",
    "\n",
    "This function, `tokenise_sentence`, is designed to process a given sentence through the SpaCy Natural Language Processing (NLP) framework to extract and return tokens. It is designed to provide a clean, whitespace-free list of tokens from a sentence using SpaCy's robust NLP capabilities. This function can be extremely useful in preprocessing text data for deeper NLP tasks where precise token-level analysis is required.\n",
    "\n",
    "Below is a breakdown of its components and functionality:\n",
    "\n",
    "1. **Function Definition**:\n",
    "   ```python\n",
    "   def tokenise_sentence(sentence):\n",
    "   ```\n",
    "   The function `tokenise_sentence` takes one parameter, `sentence`, which is expected to be a string representing the sentence to be tokenised.\n",
    "\n",
    "2. **Processing the Sentence**:\n",
    "   ```python\n",
    "   doc = nlp(sentence)\n",
    "   ```\n",
    "   Inside the function, the input `sentence` is processed by the `nlp` object. This object, which should have been previously loaded with a language model (as discussed in the previous explanation), applies various NLP tasks such as tokenisation, parsing, and named entity recognition. The result is a `Doc` object that contains a sequence of token objects.\n",
    "\n",
    "3. **Token Extraction**:\n",
    "   ```python\n",
    "   tokens = [token for token in doc if token.text.strip()]  # Keep the tokens as spaCy objects\n",
    "   ```\n",
    "   This line comprehensively filters through all tokens generated by the `nlp` object. It uses a list comprehension to extract each token, ensuring each token's text is non-empty (after stripping any surrounding whitespace). This step is crucial as it removes any tokens that might only consist of whitespace, which are generally not useful for further analysis.\n",
    "\n",
    "4. **Return Value**:\n",
    "   ```python\n",
    "   return tokens\n",
    "   ```\n",
    "   The function returns a list of tokens. These tokens are still in their original SpaCy `Token` object form, which allows subsequent processing steps to leverage other SpaCy functionalities directly linked to each token (like lemmas, part-of-speech tags, and syntactic dependencies).\n",
    "\n",
    "\n"
   ]
  },
  {
   "cell_type": "markdown",
   "metadata": {
    "id": "Qn7DpY1zrLgd"
   },
   "source": [
    "\n",
    "\n",
    "\n",
    "---\n",
    "\n",
    "> The following code cell is designed to perform the operations described above. Let's execute it to see the results.\n",
    "---"
   ]
  },
  {
   "cell_type": "code",
   "execution_count": 7,
   "metadata": {
    "id": "bYFqAuu_nJQI"
   },
   "outputs": [],
   "source": [
    "def tokenise_sentence(sentence):\n",
    "    doc = nlp(sentence)\n",
    "    tokens = [token for token in doc if token.text.strip()] # Keep the tokens as spaCy objects\n",
    "    return tokens"
   ]
  },
  {
   "cell_type": "markdown",
   "metadata": {
    "id": "kVxYcL3fYYda"
   },
   "source": [
    "Here, efficiently tokenises a sentence and displays the resulting tokens and their count, leveraging the functionality encapsulated within the `tokenise_sentence` function.\n"
   ]
  },
  {
   "cell_type": "markdown",
   "metadata": {
    "id": "YIYJiESmrOVb"
   },
   "source": [
    "\n",
    "\n",
    "\n",
    "---\n",
    "\n",
    "> The following code cell is designed to perform the operations described above. Let's execute it to see the results.\n",
    "---"
   ]
  },
  {
   "cell_type": "code",
   "execution_count": 8,
   "metadata": {
    "colab": {
     "base_uri": "https://localhost:8080/"
    },
    "id": "NPbcyn8onKPC",
    "outputId": "103eb951-c5f9-4aac-a4da-d61464fd055b"
   },
   "outputs": [
    {
     "name": "stdout",
     "output_type": "stream",
     "text": [
      "Number of words: 74\n",
      "\n",
      ">>>>>>> Tokens <<<<<<<:\n",
      "Today\n",
      "is\n",
      "July\n",
      "24th\n",
      "2024\n",
      "and\n",
      "Mo\n",
      "and\n",
      "Nouran\n",
      "are\n",
      "showing\n",
      "us\n",
      "how\n",
      "to\n",
      "visualise\n",
      "text\n",
      "online\n",
      "at\n",
      "Lancaster\n",
      "University\n",
      "This\n",
      "is\n",
      "part\n",
      "of\n",
      "a\n",
      "UCREL\n",
      "NLP\n",
      "Summer\n",
      "School\n",
      "at\n",
      "Lancaster\n",
      "University\n",
      "which\n",
      "will\n",
      "run\n",
      "at\n",
      "InfoLab21\n",
      "at\n",
      "Lancaster\n",
      "from\n",
      "July\n",
      "24th\n",
      "to\n",
      "26th\n",
      "There\n",
      "will\n",
      "be\n",
      "speakers\n",
      "and\n",
      "NLP\n",
      "tutorials\n",
      "as\n",
      "well\n",
      "as\n",
      "breakfast\n",
      "lunch\n",
      "and\n",
      "dinners\n",
      "Attendees\n",
      "will\n",
      "have\n",
      "the\n",
      "opportunity\n",
      "to\n",
      "learn\n",
      "from\n",
      "experts\n",
      "in\n",
      "the\n",
      "field\n",
      "and\n",
      "network\n",
      "with\n",
      "peers\n"
     ]
    }
   ],
   "source": [
    "tokens = tokenise_sentence(sentence)\n",
    "print('Number of words:', len(tokens))\n",
    "print('\\n>>>>>>> Tokens <<<<<<<:')\n",
    "for t in tokens:\n",
    "    print(t)"
   ]
  },
  {
   "cell_type": "markdown",
   "metadata": {
    "id": "aAuQBeYdZQqZ"
   },
   "source": [
    "---\n",
    "# Do you think of Better visualisation?\n",
    "---"
   ]
  },
  {
   "cell_type": "markdown",
   "metadata": {
    "id": "s2Wl5lDLrSGB"
   },
   "source": [
    "\n",
    "\n",
    "\n",
    "---\n",
    "\n",
    "> The following code cell is designed to perform the operations described above. Let's execute it to see the results.\n",
    "---"
   ]
  },
  {
   "cell_type": "code",
   "execution_count": 9,
   "metadata": {
    "colab": {
     "base_uri": "https://localhost:8080/"
    },
    "id": "02aMVZbGp-wq",
    "outputId": "1a37f283-7813-4a87-bb60-d84e505fc0fb"
   },
   "outputs": [
    {
     "name": "stdout",
     "output_type": "stream",
     "text": [
      "+-------------+-------------+\n",
      "| Token Index |    Token    |\n",
      "+-------------+-------------+\n",
      "|      1      |    Today    |\n",
      "|      2      |     is      |\n",
      "|      3      |    July     |\n",
      "|      4      |    24th     |\n",
      "|      5      |    2024     |\n",
      "|      6      |     and     |\n",
      "|      7      |     Mo      |\n",
      "|      8      |     and     |\n",
      "|      9      |   Nouran    |\n",
      "|     10      |     are     |\n",
      "|     11      |   showing   |\n",
      "|     12      |     us      |\n",
      "|     13      |     how     |\n",
      "|     14      |     to      |\n",
      "|     15      |  visualise  |\n",
      "|     16      |    text     |\n",
      "|     17      |   online    |\n",
      "|     18      |     at      |\n",
      "|     19      |  Lancaster  |\n",
      "|     20      | University  |\n",
      "|     21      |    This     |\n",
      "|     22      |     is      |\n",
      "|     23      |    part     |\n",
      "|     24      |     of      |\n",
      "|     25      |      a      |\n",
      "|     26      |    UCREL    |\n",
      "|     27      |     NLP     |\n",
      "|     28      |   Summer    |\n",
      "|     29      |   School    |\n",
      "|     30      |     at      |\n",
      "|     31      |  Lancaster  |\n",
      "|     32      | University  |\n",
      "|     33      |    which    |\n",
      "|     34      |    will     |\n",
      "|     35      |     run     |\n",
      "|     36      |     at      |\n",
      "|     37      |  InfoLab21  |\n",
      "|     38      |     at      |\n",
      "|     39      |  Lancaster  |\n",
      "|     40      |    from     |\n",
      "|     41      |    July     |\n",
      "|     42      |    24th     |\n",
      "|     43      |     to      |\n",
      "|     44      |    26th     |\n",
      "|     45      |    There    |\n",
      "|     46      |    will     |\n",
      "|     47      |     be      |\n",
      "|     48      |  speakers   |\n",
      "|     49      |     and     |\n",
      "|     50      |     NLP     |\n",
      "|     51      |  tutorials  |\n",
      "|     52      |     as      |\n",
      "|     53      |    well     |\n",
      "|     54      |     as      |\n",
      "|     55      |  breakfast  |\n",
      "|     56      |    lunch    |\n",
      "|     57      |     and     |\n",
      "|     58      |   dinners   |\n",
      "|     59      |  Attendees  |\n",
      "|     60      |    will     |\n",
      "|     61      |    have     |\n",
      "|     62      |     the     |\n",
      "|     63      | opportunity |\n",
      "|     64      |     to      |\n",
      "|     65      |    learn    |\n",
      "|     66      |    from     |\n",
      "|     67      |   experts   |\n",
      "|     68      |     in      |\n",
      "|     69      |     the     |\n",
      "|     70      |    field    |\n",
      "|     71      |     and     |\n",
      "|     72      |   network   |\n",
      "|     73      |    with     |\n",
      "|     74      |    peers    |\n",
      "+-------------+-------------+\n"
     ]
    }
   ],
   "source": [
    "from tabulate import tabulate\n",
    "# Prepare data for tabulation\n",
    "table_data = [[i + 1, token] for i, token in enumerate(tokens)]\n",
    "table_headers = [\"Token Index\", \"Token\"]\n",
    "\n",
    "# Display the table using tabulate\n",
    "print(tabulate(table_data, headers=table_headers, tablefmt=\"pretty\"))\n"
   ]
  },
  {
   "cell_type": "markdown",
   "metadata": {
    "id": "xg3ldGqLZ5OT"
   },
   "source": [
    "---\n",
    "What about POS Tags?\n",
    "---\n",
    "Displaying the part-of-speech (POS) tags for each token using SpaCy enhancing the understanding of the sentence structure by revealing the grammatical role of each word."
   ]
  },
  {
   "cell_type": "markdown",
   "metadata": {
    "id": "6oonDF0dreEl"
   },
   "source": [
    "\n",
    "\n",
    "\n",
    "---\n",
    "\n",
    "> The following code cell is designed to perform the operations described above. Let's execute it to see the results.\n",
    "---"
   ]
  },
  {
   "cell_type": "code",
   "execution_count": 10,
   "metadata": {
    "colab": {
     "base_uri": "https://localhost:8080/"
    },
    "id": "Bg6yR_j-Zx89",
    "outputId": "4631a5ec-c924-4a10-9809-00fb6f887aab"
   },
   "outputs": [
    {
     "name": "stdout",
     "output_type": "stream",
     "text": [
      "Number of words: 74\n",
      "\n",
      ">>>>>>> Tokens and POS Tags <<<<<<<:\n",
      "Today (NOUN)\n",
      "is (AUX)\n",
      "July (PROPN)\n",
      "24th (NOUN)\n",
      "2024 (NUM)\n",
      "and (CCONJ)\n",
      "Mo (PROPN)\n",
      "and (CCONJ)\n",
      "Nouran (PROPN)\n",
      "are (AUX)\n",
      "showing (VERB)\n",
      "us (PRON)\n",
      "how (SCONJ)\n",
      "to (PART)\n",
      "visualise (VERB)\n",
      "text (NOUN)\n",
      "online (ADV)\n",
      "at (ADP)\n",
      "Lancaster (PROPN)\n",
      "University (PROPN)\n",
      "This (PRON)\n",
      "is (AUX)\n",
      "part (NOUN)\n",
      "of (ADP)\n",
      "a (DET)\n",
      "UCREL (PROPN)\n",
      "NLP (PROPN)\n",
      "Summer (PROPN)\n",
      "School (PROPN)\n",
      "at (ADP)\n",
      "Lancaster (PROPN)\n",
      "University (PROPN)\n",
      "which (PRON)\n",
      "will (AUX)\n",
      "run (VERB)\n",
      "at (ADP)\n",
      "InfoLab21 (NOUN)\n",
      "at (ADP)\n",
      "Lancaster (PROPN)\n",
      "from (ADP)\n",
      "July (PROPN)\n",
      "24th (NOUN)\n",
      "to (ADP)\n",
      "26th (NOUN)\n",
      "There (PRON)\n",
      "will (AUX)\n",
      "be (AUX)\n",
      "speakers (NOUN)\n",
      "and (CCONJ)\n",
      "NLP (NOUN)\n",
      "tutorials (NOUN)\n",
      "as (ADV)\n",
      "well (ADV)\n",
      "as (ADP)\n",
      "breakfast (NOUN)\n",
      "lunch (NOUN)\n",
      "and (CCONJ)\n",
      "dinners (NOUN)\n",
      "Attendees (PROPN)\n",
      "will (AUX)\n",
      "have (VERB)\n",
      "the (DET)\n",
      "opportunity (NOUN)\n",
      "to (PART)\n",
      "learn (VERB)\n",
      "from (ADP)\n",
      "experts (NOUN)\n",
      "in (ADP)\n",
      "the (DET)\n",
      "field (NOUN)\n",
      "and (CCONJ)\n",
      "network (NOUN)\n",
      "with (ADP)\n",
      "peers (NOUN)\n"
     ]
    }
   ],
   "source": [
    "tokens = tokenise_sentence(sentence)\n",
    "print('Number of words:', len(tokens))\n",
    "print('\\n>>>>>>> Tokens and POS Tags <<<<<<<:')\n",
    "for t in tokens:\n",
    "    print(f'{t.text} ({t.pos_})')\n"
   ]
  },
  {
   "cell_type": "markdown",
   "metadata": {
    "id": "E8IPSQVnrfhg"
   },
   "source": [
    "\n",
    "\n",
    "\n",
    "---\n",
    "\n",
    "> Better Visualisation, Let's execute it to see the results.\n",
    "---"
   ]
  },
  {
   "cell_type": "code",
   "execution_count": 11,
   "metadata": {
    "colab": {
     "base_uri": "https://localhost:8080/"
    },
    "id": "gD2bAVWuaiyB",
    "outputId": "0927d149-c3c9-460e-983d-cf6ceff33c89"
   },
   "outputs": [
    {
     "name": "stdout",
     "output_type": "stream",
     "text": [
      "+-------+-------------+-------+\n",
      "| Index |    Token    |  POS  |\n",
      "+-------+-------------+-------+\n",
      "|   1   |    Today    | NOUN  |\n",
      "|   2   |     is      |  AUX  |\n",
      "|   3   |    July     | PROPN |\n",
      "|   4   |    24th     | NOUN  |\n",
      "|   5   |    2024     |  NUM  |\n",
      "|   6   |     and     | CCONJ |\n",
      "|   7   |     Mo      | PROPN |\n",
      "|   8   |     and     | CCONJ |\n",
      "|   9   |   Nouran    | PROPN |\n",
      "|  10   |     are     |  AUX  |\n",
      "|  11   |   showing   | VERB  |\n",
      "|  12   |     us      | PRON  |\n",
      "|  13   |     how     | SCONJ |\n",
      "|  14   |     to      | PART  |\n",
      "|  15   |  visualise  | VERB  |\n",
      "|  16   |    text     | NOUN  |\n",
      "|  17   |   online    |  ADV  |\n",
      "|  18   |     at      |  ADP  |\n",
      "|  19   |  Lancaster  | PROPN |\n",
      "|  20   | University  | PROPN |\n",
      "|  21   |    This     | PRON  |\n",
      "|  22   |     is      |  AUX  |\n",
      "|  23   |    part     | NOUN  |\n",
      "|  24   |     of      |  ADP  |\n",
      "|  25   |      a      |  DET  |\n",
      "|  26   |    UCREL    | PROPN |\n",
      "|  27   |     NLP     | PROPN |\n",
      "|  28   |   Summer    | PROPN |\n",
      "|  29   |   School    | PROPN |\n",
      "|  30   |     at      |  ADP  |\n",
      "|  31   |  Lancaster  | PROPN |\n",
      "|  32   | University  | PROPN |\n",
      "|  33   |    which    | PRON  |\n",
      "|  34   |    will     |  AUX  |\n",
      "|  35   |     run     | VERB  |\n",
      "|  36   |     at      |  ADP  |\n",
      "|  37   |  InfoLab21  | NOUN  |\n",
      "|  38   |     at      |  ADP  |\n",
      "|  39   |  Lancaster  | PROPN |\n",
      "|  40   |    from     |  ADP  |\n",
      "|  41   |    July     | PROPN |\n",
      "|  42   |    24th     | NOUN  |\n",
      "|  43   |     to      |  ADP  |\n",
      "|  44   |    26th     | NOUN  |\n",
      "|  45   |    There    | PRON  |\n",
      "|  46   |    will     |  AUX  |\n",
      "|  47   |     be      |  AUX  |\n",
      "|  48   |  speakers   | NOUN  |\n",
      "|  49   |     and     | CCONJ |\n",
      "|  50   |     NLP     | NOUN  |\n",
      "|  51   |  tutorials  | NOUN  |\n",
      "|  52   |     as      |  ADV  |\n",
      "|  53   |    well     |  ADV  |\n",
      "|  54   |     as      |  ADP  |\n",
      "|  55   |  breakfast  | NOUN  |\n",
      "|  56   |    lunch    | NOUN  |\n",
      "|  57   |     and     | CCONJ |\n",
      "|  58   |   dinners   | NOUN  |\n",
      "|  59   |  Attendees  | PROPN |\n",
      "|  60   |    will     |  AUX  |\n",
      "|  61   |    have     | VERB  |\n",
      "|  62   |     the     |  DET  |\n",
      "|  63   | opportunity | NOUN  |\n",
      "|  64   |     to      | PART  |\n",
      "|  65   |    learn    | VERB  |\n",
      "|  66   |    from     |  ADP  |\n",
      "|  67   |   experts   | NOUN  |\n",
      "|  68   |     in      |  ADP  |\n",
      "|  69   |     the     |  DET  |\n",
      "|  70   |    field    | NOUN  |\n",
      "|  71   |     and     | CCONJ |\n",
      "|  72   |   network   | NOUN  |\n",
      "|  73   |    with     |  ADP  |\n",
      "|  74   |    peers    | NOUN  |\n",
      "+-------+-------------+-------+\n"
     ]
    }
   ],
   "source": [
    "from tabulate import tabulate\n",
    "\n",
    "# Prepare data for tabulation\n",
    "table_data = [[i + 1, token.text, token.pos_] for i, token in enumerate(tokens)]\n",
    "table_headers = [\"Index\", \"Token\", \"POS\"]\n",
    "\n",
    "# Display the table using tabulate\n",
    "print(tabulate(table_data, headers=table_headers, tablefmt=\"pretty\"))\n"
   ]
  },
  {
   "cell_type": "markdown",
   "metadata": {
    "id": "MoFN8Le-rshK"
   },
   "source": [
    "### Plot Visualisation\n",
    "\n",
    "1. **Data Preparation**:\n",
    "   - The `token_texts_with_pos` list now includes tuples of `(token.text, token.pos_)` to capture both the text of the token and its POS tag.\n",
    "   - The `Counter` is used on this modified list to count occurrences of each unique `(text, POS)` combination.\n",
    "\n",
    "2. **DataFrame Conversion**:\n",
    "   - The DataFrame `token_df` is created from the `Counter` items, initially containing a single column 'Token_POS' that combines both token text and POS.\n",
    "   - This column is split into two separate columns ('Token' and 'POS') using `pd.DataFrame()`, which enables easier manipulation and plotting.\n",
    "\n",
    "3. **Plotting**:\n",
    "   - The `px.bar` function from Plotly is used to create a bar chart. The `x` argument is set to 'Token' for the x-axis, `y` to 'Frequency' for the y-axis, and `color` to 'POS' to differentiate bars by POS tags in the plot."
   ]
  },
  {
   "cell_type": "markdown",
   "metadata": {
    "id": "-IOBSkX9r_e7"
   },
   "source": [
    "\n",
    "\n",
    "\n",
    "---\n",
    "\n",
    "> Better Visualisation, Let's execute it to see the results.\n",
    "---"
   ]
  },
  {
   "cell_type": "code",
   "execution_count": 44,
   "metadata": {
    "colab": {
     "base_uri": "https://localhost:8080/",
     "height": 560
    },
    "id": "xzlB4ekXmhVl",
    "outputId": "9dbfdb76-3a74-4883-c058-8ccfaf10aa50"
   },
   "outputs": [
    {
     "name": "stdout",
     "output_type": "stream",
     "text": [
      "Number of words: 83\n"
     ]
    },
    {
     "data": {
      "application/vnd.plotly.v1+json": {
       "config": {
        "plotlyServerURL": "https://plot.ly"
       },
       "data": [
        {
         "alignmentgroup": "True",
         "hovertemplate": "POS=PUNCT<br>Token=%{x}<br>Frequency=%{y}<extra></extra>",
         "legendgroup": "PUNCT",
         "marker": {
          "color": "#636efa",
          "pattern": {
           "shape": ""
          }
         },
         "name": "PUNCT",
         "offsetgroup": "PUNCT",
         "orientation": "v",
         "showlegend": true,
         "textposition": "auto",
         "type": "bar",
         "x": [
          ",",
          "."
         ],
         "xaxis": "x",
         "y": [
          5,
          4
         ],
         "yaxis": "y"
        },
        {
         "alignmentgroup": "True",
         "hovertemplate": "POS=CONJ<br>Token=%{x}<br>Frequency=%{y}<extra></extra>",
         "legendgroup": "CONJ",
         "marker": {
          "color": "#EF553B",
          "pattern": {
           "shape": ""
          }
         },
         "name": "CONJ",
         "offsetgroup": "CONJ",
         "orientation": "v",
         "showlegend": true,
         "textposition": "auto",
         "type": "bar",
         "x": [
          "and",
          "how"
         ],
         "xaxis": "x",
         "y": [
          5,
          1
         ],
         "yaxis": "y"
        },
        {
         "alignmentgroup": "True",
         "hovertemplate": "POS=ADP<br>Token=%{x}<br>Frequency=%{y}<extra></extra>",
         "legendgroup": "ADP",
         "marker": {
          "color": "#00cc96",
          "pattern": {
           "shape": ""
          }
         },
         "name": "ADP",
         "offsetgroup": "ADP",
         "orientation": "v",
         "showlegend": true,
         "textposition": "auto",
         "type": "bar",
         "x": [
          "at",
          "from",
          "as",
          "in",
          "with",
          "to",
          "of"
         ],
         "xaxis": "x",
         "y": [
          4,
          2,
          1,
          1,
          1,
          1,
          1
         ],
         "yaxis": "y"
        },
        {
         "alignmentgroup": "True",
         "hovertemplate": "POS=VERB<br>Token=%{x}<br>Frequency=%{y}<extra></extra>",
         "legendgroup": "VERB",
         "marker": {
          "color": "#ab63fa",
          "pattern": {
           "shape": ""
          }
         },
         "name": "VERB",
         "offsetgroup": "VERB",
         "orientation": "v",
         "showlegend": true,
         "textposition": "auto",
         "type": "bar",
         "x": [
          "will",
          "is",
          "be",
          "have",
          "learn",
          "are",
          "showing",
          "visualise",
          "run"
         ],
         "xaxis": "x",
         "y": [
          3,
          2,
          1,
          1,
          1,
          1,
          1,
          1,
          1
         ],
         "yaxis": "y"
        },
        {
         "alignmentgroup": "True",
         "hovertemplate": "POS=NOUN<br>Token=%{x}<br>Frequency=%{y}<extra></extra>",
         "legendgroup": "NOUN",
         "marker": {
          "color": "#FFA15A",
          "pattern": {
           "shape": ""
          }
         },
         "name": "NOUN",
         "offsetgroup": "NOUN",
         "orientation": "v",
         "showlegend": true,
         "textposition": "auto",
         "type": "bar",
         "x": [
          "Lancaster",
          "July",
          "24th",
          "University",
          "NLP",
          "tutorials",
          "lunch",
          "speakers",
          "breakfast",
          "Today",
          "dinners",
          "26th",
          "Attendees",
          "opportunity",
          "experts",
          "field",
          "network",
          "InfoLab21",
          "Mo",
          "Nouran",
          "text",
          "part",
          "UCREL",
          "NLP",
          "Summer",
          "School",
          "peers"
         ],
         "xaxis": "x",
         "y": [
          3,
          2,
          2,
          2,
          1,
          1,
          1,
          1,
          1,
          1,
          1,
          1,
          1,
          1,
          1,
          1,
          1,
          1,
          1,
          1,
          1,
          1,
          1,
          1,
          1,
          1,
          1
         ],
         "yaxis": "y"
        },
        {
         "alignmentgroup": "True",
         "hovertemplate": "POS=PART<br>Token=%{x}<br>Frequency=%{y}<extra></extra>",
         "legendgroup": "PART",
         "marker": {
          "color": "#19d3f3",
          "pattern": {
           "shape": ""
          }
         },
         "name": "PART",
         "offsetgroup": "PART",
         "orientation": "v",
         "showlegend": true,
         "textposition": "auto",
         "type": "bar",
         "x": [
          "to"
         ],
         "xaxis": "x",
         "y": [
          2
         ],
         "yaxis": "y"
        },
        {
         "alignmentgroup": "True",
         "hovertemplate": "POS=DET<br>Token=%{x}<br>Frequency=%{y}<extra></extra>",
         "legendgroup": "DET",
         "marker": {
          "color": "#FF6692",
          "pattern": {
           "shape": ""
          }
         },
         "name": "DET",
         "offsetgroup": "DET",
         "orientation": "v",
         "showlegend": true,
         "textposition": "auto",
         "type": "bar",
         "x": [
          "the",
          "a"
         ],
         "xaxis": "x",
         "y": [
          2,
          1
         ],
         "yaxis": "y"
        },
        {
         "alignmentgroup": "True",
         "hovertemplate": "POS=ADV<br>Token=%{x}<br>Frequency=%{y}<extra></extra>",
         "legendgroup": "ADV",
         "marker": {
          "color": "#B6E880",
          "pattern": {
           "shape": ""
          }
         },
         "name": "ADV",
         "offsetgroup": "ADV",
         "orientation": "v",
         "showlegend": true,
         "textposition": "auto",
         "type": "bar",
         "x": [
          "well",
          "as",
          "online"
         ],
         "xaxis": "x",
         "y": [
          1,
          1,
          1
         ],
         "yaxis": "y"
        },
        {
         "alignmentgroup": "True",
         "hovertemplate": "POS=PRON<br>Token=%{x}<br>Frequency=%{y}<extra></extra>",
         "legendgroup": "PRON",
         "marker": {
          "color": "#FF97FF",
          "pattern": {
           "shape": ""
          }
         },
         "name": "PRON",
         "offsetgroup": "PRON",
         "orientation": "v",
         "showlegend": true,
         "textposition": "auto",
         "type": "bar",
         "x": [
          "There",
          "which",
          "us",
          "This"
         ],
         "xaxis": "x",
         "y": [
          1,
          1,
          1,
          1
         ],
         "yaxis": "y"
        },
        {
         "alignmentgroup": "True",
         "hovertemplate": "POS=NUM<br>Token=%{x}<br>Frequency=%{y}<extra></extra>",
         "legendgroup": "NUM",
         "marker": {
          "color": "#FECB52",
          "pattern": {
           "shape": ""
          }
         },
         "name": "NUM",
         "offsetgroup": "NUM",
         "orientation": "v",
         "showlegend": true,
         "textposition": "auto",
         "type": "bar",
         "x": [
          "2024"
         ],
         "xaxis": "x",
         "y": [
          1
         ],
         "yaxis": "y"
        }
       ],
       "layout": {
        "barmode": "relative",
        "legend": {
         "title": {
          "text": "POS"
         },
         "tracegroupgap": 0
        },
        "template": {
         "data": {
          "bar": [
           {
            "error_x": {
             "color": "#2a3f5f"
            },
            "error_y": {
             "color": "#2a3f5f"
            },
            "marker": {
             "line": {
              "color": "#E5ECF6",
              "width": 0.5
             },
             "pattern": {
              "fillmode": "overlay",
              "size": 10,
              "solidity": 0.2
             }
            },
            "type": "bar"
           }
          ],
          "barpolar": [
           {
            "marker": {
             "line": {
              "color": "#E5ECF6",
              "width": 0.5
             },
             "pattern": {
              "fillmode": "overlay",
              "size": 10,
              "solidity": 0.2
             }
            },
            "type": "barpolar"
           }
          ],
          "carpet": [
           {
            "aaxis": {
             "endlinecolor": "#2a3f5f",
             "gridcolor": "white",
             "linecolor": "white",
             "minorgridcolor": "white",
             "startlinecolor": "#2a3f5f"
            },
            "baxis": {
             "endlinecolor": "#2a3f5f",
             "gridcolor": "white",
             "linecolor": "white",
             "minorgridcolor": "white",
             "startlinecolor": "#2a3f5f"
            },
            "type": "carpet"
           }
          ],
          "choropleth": [
           {
            "colorbar": {
             "outlinewidth": 0,
             "ticks": ""
            },
            "type": "choropleth"
           }
          ],
          "contour": [
           {
            "colorbar": {
             "outlinewidth": 0,
             "ticks": ""
            },
            "colorscale": [
             [
              0,
              "#0d0887"
             ],
             [
              0.1111111111111111,
              "#46039f"
             ],
             [
              0.2222222222222222,
              "#7201a8"
             ],
             [
              0.3333333333333333,
              "#9c179e"
             ],
             [
              0.4444444444444444,
              "#bd3786"
             ],
             [
              0.5555555555555556,
              "#d8576b"
             ],
             [
              0.6666666666666666,
              "#ed7953"
             ],
             [
              0.7777777777777778,
              "#fb9f3a"
             ],
             [
              0.8888888888888888,
              "#fdca26"
             ],
             [
              1,
              "#f0f921"
             ]
            ],
            "type": "contour"
           }
          ],
          "contourcarpet": [
           {
            "colorbar": {
             "outlinewidth": 0,
             "ticks": ""
            },
            "type": "contourcarpet"
           }
          ],
          "heatmap": [
           {
            "colorbar": {
             "outlinewidth": 0,
             "ticks": ""
            },
            "colorscale": [
             [
              0,
              "#0d0887"
             ],
             [
              0.1111111111111111,
              "#46039f"
             ],
             [
              0.2222222222222222,
              "#7201a8"
             ],
             [
              0.3333333333333333,
              "#9c179e"
             ],
             [
              0.4444444444444444,
              "#bd3786"
             ],
             [
              0.5555555555555556,
              "#d8576b"
             ],
             [
              0.6666666666666666,
              "#ed7953"
             ],
             [
              0.7777777777777778,
              "#fb9f3a"
             ],
             [
              0.8888888888888888,
              "#fdca26"
             ],
             [
              1,
              "#f0f921"
             ]
            ],
            "type": "heatmap"
           }
          ],
          "heatmapgl": [
           {
            "colorbar": {
             "outlinewidth": 0,
             "ticks": ""
            },
            "colorscale": [
             [
              0,
              "#0d0887"
             ],
             [
              0.1111111111111111,
              "#46039f"
             ],
             [
              0.2222222222222222,
              "#7201a8"
             ],
             [
              0.3333333333333333,
              "#9c179e"
             ],
             [
              0.4444444444444444,
              "#bd3786"
             ],
             [
              0.5555555555555556,
              "#d8576b"
             ],
             [
              0.6666666666666666,
              "#ed7953"
             ],
             [
              0.7777777777777778,
              "#fb9f3a"
             ],
             [
              0.8888888888888888,
              "#fdca26"
             ],
             [
              1,
              "#f0f921"
             ]
            ],
            "type": "heatmapgl"
           }
          ],
          "histogram": [
           {
            "marker": {
             "pattern": {
              "fillmode": "overlay",
              "size": 10,
              "solidity": 0.2
             }
            },
            "type": "histogram"
           }
          ],
          "histogram2d": [
           {
            "colorbar": {
             "outlinewidth": 0,
             "ticks": ""
            },
            "colorscale": [
             [
              0,
              "#0d0887"
             ],
             [
              0.1111111111111111,
              "#46039f"
             ],
             [
              0.2222222222222222,
              "#7201a8"
             ],
             [
              0.3333333333333333,
              "#9c179e"
             ],
             [
              0.4444444444444444,
              "#bd3786"
             ],
             [
              0.5555555555555556,
              "#d8576b"
             ],
             [
              0.6666666666666666,
              "#ed7953"
             ],
             [
              0.7777777777777778,
              "#fb9f3a"
             ],
             [
              0.8888888888888888,
              "#fdca26"
             ],
             [
              1,
              "#f0f921"
             ]
            ],
            "type": "histogram2d"
           }
          ],
          "histogram2dcontour": [
           {
            "colorbar": {
             "outlinewidth": 0,
             "ticks": ""
            },
            "colorscale": [
             [
              0,
              "#0d0887"
             ],
             [
              0.1111111111111111,
              "#46039f"
             ],
             [
              0.2222222222222222,
              "#7201a8"
             ],
             [
              0.3333333333333333,
              "#9c179e"
             ],
             [
              0.4444444444444444,
              "#bd3786"
             ],
             [
              0.5555555555555556,
              "#d8576b"
             ],
             [
              0.6666666666666666,
              "#ed7953"
             ],
             [
              0.7777777777777778,
              "#fb9f3a"
             ],
             [
              0.8888888888888888,
              "#fdca26"
             ],
             [
              1,
              "#f0f921"
             ]
            ],
            "type": "histogram2dcontour"
           }
          ],
          "mesh3d": [
           {
            "colorbar": {
             "outlinewidth": 0,
             "ticks": ""
            },
            "type": "mesh3d"
           }
          ],
          "parcoords": [
           {
            "line": {
             "colorbar": {
              "outlinewidth": 0,
              "ticks": ""
             }
            },
            "type": "parcoords"
           }
          ],
          "pie": [
           {
            "automargin": true,
            "type": "pie"
           }
          ],
          "scatter": [
           {
            "fillpattern": {
             "fillmode": "overlay",
             "size": 10,
             "solidity": 0.2
            },
            "type": "scatter"
           }
          ],
          "scatter3d": [
           {
            "line": {
             "colorbar": {
              "outlinewidth": 0,
              "ticks": ""
             }
            },
            "marker": {
             "colorbar": {
              "outlinewidth": 0,
              "ticks": ""
             }
            },
            "type": "scatter3d"
           }
          ],
          "scattercarpet": [
           {
            "marker": {
             "colorbar": {
              "outlinewidth": 0,
              "ticks": ""
             }
            },
            "type": "scattercarpet"
           }
          ],
          "scattergeo": [
           {
            "marker": {
             "colorbar": {
              "outlinewidth": 0,
              "ticks": ""
             }
            },
            "type": "scattergeo"
           }
          ],
          "scattergl": [
           {
            "marker": {
             "colorbar": {
              "outlinewidth": 0,
              "ticks": ""
             }
            },
            "type": "scattergl"
           }
          ],
          "scattermapbox": [
           {
            "marker": {
             "colorbar": {
              "outlinewidth": 0,
              "ticks": ""
             }
            },
            "type": "scattermapbox"
           }
          ],
          "scatterpolar": [
           {
            "marker": {
             "colorbar": {
              "outlinewidth": 0,
              "ticks": ""
             }
            },
            "type": "scatterpolar"
           }
          ],
          "scatterpolargl": [
           {
            "marker": {
             "colorbar": {
              "outlinewidth": 0,
              "ticks": ""
             }
            },
            "type": "scatterpolargl"
           }
          ],
          "scatterternary": [
           {
            "marker": {
             "colorbar": {
              "outlinewidth": 0,
              "ticks": ""
             }
            },
            "type": "scatterternary"
           }
          ],
          "surface": [
           {
            "colorbar": {
             "outlinewidth": 0,
             "ticks": ""
            },
            "colorscale": [
             [
              0,
              "#0d0887"
             ],
             [
              0.1111111111111111,
              "#46039f"
             ],
             [
              0.2222222222222222,
              "#7201a8"
             ],
             [
              0.3333333333333333,
              "#9c179e"
             ],
             [
              0.4444444444444444,
              "#bd3786"
             ],
             [
              0.5555555555555556,
              "#d8576b"
             ],
             [
              0.6666666666666666,
              "#ed7953"
             ],
             [
              0.7777777777777778,
              "#fb9f3a"
             ],
             [
              0.8888888888888888,
              "#fdca26"
             ],
             [
              1,
              "#f0f921"
             ]
            ],
            "type": "surface"
           }
          ],
          "table": [
           {
            "cells": {
             "fill": {
              "color": "#EBF0F8"
             },
             "line": {
              "color": "white"
             }
            },
            "header": {
             "fill": {
              "color": "#C8D4E3"
             },
             "line": {
              "color": "white"
             }
            },
            "type": "table"
           }
          ]
         },
         "layout": {
          "annotationdefaults": {
           "arrowcolor": "#2a3f5f",
           "arrowhead": 0,
           "arrowwidth": 1
          },
          "autotypenumbers": "strict",
          "coloraxis": {
           "colorbar": {
            "outlinewidth": 0,
            "ticks": ""
           }
          },
          "colorscale": {
           "diverging": [
            [
             0,
             "#8e0152"
            ],
            [
             0.1,
             "#c51b7d"
            ],
            [
             0.2,
             "#de77ae"
            ],
            [
             0.3,
             "#f1b6da"
            ],
            [
             0.4,
             "#fde0ef"
            ],
            [
             0.5,
             "#f7f7f7"
            ],
            [
             0.6,
             "#e6f5d0"
            ],
            [
             0.7,
             "#b8e186"
            ],
            [
             0.8,
             "#7fbc41"
            ],
            [
             0.9,
             "#4d9221"
            ],
            [
             1,
             "#276419"
            ]
           ],
           "sequential": [
            [
             0,
             "#0d0887"
            ],
            [
             0.1111111111111111,
             "#46039f"
            ],
            [
             0.2222222222222222,
             "#7201a8"
            ],
            [
             0.3333333333333333,
             "#9c179e"
            ],
            [
             0.4444444444444444,
             "#bd3786"
            ],
            [
             0.5555555555555556,
             "#d8576b"
            ],
            [
             0.6666666666666666,
             "#ed7953"
            ],
            [
             0.7777777777777778,
             "#fb9f3a"
            ],
            [
             0.8888888888888888,
             "#fdca26"
            ],
            [
             1,
             "#f0f921"
            ]
           ],
           "sequentialminus": [
            [
             0,
             "#0d0887"
            ],
            [
             0.1111111111111111,
             "#46039f"
            ],
            [
             0.2222222222222222,
             "#7201a8"
            ],
            [
             0.3333333333333333,
             "#9c179e"
            ],
            [
             0.4444444444444444,
             "#bd3786"
            ],
            [
             0.5555555555555556,
             "#d8576b"
            ],
            [
             0.6666666666666666,
             "#ed7953"
            ],
            [
             0.7777777777777778,
             "#fb9f3a"
            ],
            [
             0.8888888888888888,
             "#fdca26"
            ],
            [
             1,
             "#f0f921"
            ]
           ]
          },
          "colorway": [
           "#636efa",
           "#EF553B",
           "#00cc96",
           "#ab63fa",
           "#FFA15A",
           "#19d3f3",
           "#FF6692",
           "#B6E880",
           "#FF97FF",
           "#FECB52"
          ],
          "font": {
           "color": "#2a3f5f"
          },
          "geo": {
           "bgcolor": "white",
           "lakecolor": "white",
           "landcolor": "#E5ECF6",
           "showlakes": true,
           "showland": true,
           "subunitcolor": "white"
          },
          "hoverlabel": {
           "align": "left"
          },
          "hovermode": "closest",
          "mapbox": {
           "style": "light"
          },
          "paper_bgcolor": "white",
          "plot_bgcolor": "#E5ECF6",
          "polar": {
           "angularaxis": {
            "gridcolor": "white",
            "linecolor": "white",
            "ticks": ""
           },
           "bgcolor": "#E5ECF6",
           "radialaxis": {
            "gridcolor": "white",
            "linecolor": "white",
            "ticks": ""
           }
          },
          "scene": {
           "xaxis": {
            "backgroundcolor": "#E5ECF6",
            "gridcolor": "white",
            "gridwidth": 2,
            "linecolor": "white",
            "showbackground": true,
            "ticks": "",
            "zerolinecolor": "white"
           },
           "yaxis": {
            "backgroundcolor": "#E5ECF6",
            "gridcolor": "white",
            "gridwidth": 2,
            "linecolor": "white",
            "showbackground": true,
            "ticks": "",
            "zerolinecolor": "white"
           },
           "zaxis": {
            "backgroundcolor": "#E5ECF6",
            "gridcolor": "white",
            "gridwidth": 2,
            "linecolor": "white",
            "showbackground": true,
            "ticks": "",
            "zerolinecolor": "white"
           }
          },
          "shapedefaults": {
           "line": {
            "color": "#2a3f5f"
           }
          },
          "ternary": {
           "aaxis": {
            "gridcolor": "white",
            "linecolor": "white",
            "ticks": ""
           },
           "baxis": {
            "gridcolor": "white",
            "linecolor": "white",
            "ticks": ""
           },
           "bgcolor": "#E5ECF6",
           "caxis": {
            "gridcolor": "white",
            "linecolor": "white",
            "ticks": ""
           }
          },
          "title": {
           "x": 0.05
          },
          "xaxis": {
           "automargin": true,
           "gridcolor": "white",
           "linecolor": "white",
           "ticks": "",
           "title": {
            "standoff": 15
           },
           "zerolinecolor": "white",
           "zerolinewidth": 2
          },
          "yaxis": {
           "automargin": true,
           "gridcolor": "white",
           "linecolor": "white",
           "ticks": "",
           "title": {
            "standoff": 15
           },
           "zerolinecolor": "white",
           "zerolinewidth": 2
          }
         }
        },
        "title": {
         "text": "Token Frequency Distribution with POS Tags"
        },
        "xaxis": {
         "anchor": "y",
         "domain": [
          0,
          1
         ],
         "tickangle": -90,
         "title": {
          "text": "Token"
         }
        },
        "yaxis": {
         "anchor": "x",
         "domain": [
          0,
          1
         ],
         "title": {
          "text": "Frequency"
         }
        }
       }
      }
     },
     "metadata": {},
     "output_type": "display_data"
    }
   ],
   "source": [
    "import plotly.express as px\n",
    "import pandas as pd\n",
    "from collections import Counter\n",
    "\n",
    "# function to visualize token frequency with POS using Plotly\n",
    "def visualize_token_frequency_plotly(tokens):\n",
    "    # Extract token texts and POS tags for counting and plotting\n",
    "    token_texts_with_pos = [(token.text, token.pos_) for token in tokens]\n",
    "\n",
    "    # Count token frequencies with POS tags\n",
    "    token_counts_with_pos = Counter(token_texts_with_pos)  # Count based on token texts and POS tags\n",
    "\n",
    "    # Convert to DataFrame for Plotly\n",
    "    token_df = pd.DataFrame(list(token_counts_with_pos.items()), columns=['Token_POS', 'Frequency'])\n",
    "    token_df[['Token', 'POS']] = pd.DataFrame(token_df['Token_POS'].tolist(), index=token_df.index)\n",
    "    token_df = token_df.drop('Token_POS', axis=1).sort_values(by='Frequency', ascending=False)\n",
    "    token_df['POS'] = token_df['POS'].apply(lambda x: 'NOUN' if x == \"PROPN\" else x)\n",
    "    token_df['POS'] = token_df['POS'].apply(lambda x: 'CONJ' if x == \"SCONJ\" or x == \"CCONJ\" else x)\n",
    "    token_df['POS'] = token_df['POS'].apply(lambda x: 'VERB' if x == \"AUX\" else x)\n",
    "\n",
    "    # Plot the token frequencies with POS tags\n",
    "    fig = px.bar(token_df, x='Token', y='Frequency', color='POS', title='Token Frequency Distribution with POS Tags')\n",
    "    fig.update_layout(xaxis_tickangle=-90)\n",
    "    fig.show()\n",
    "    ## Save the graph\n",
    "    plotly_filename = f'./plots/plotly_Spacy_Frequency.jpeg'\n",
    "    fig.write_image(plotly_filename, scale=2)\n",
    "    fig.write_html(f'./plots/plotly_Spacy_Frequency.html')\n",
    "\n",
    "\n",
    "# usage\n",
    "tokens = tokenise_sentence(\"Today is July 24th, 2024, and Mo and Nouran are showing us how to visualise text online at Lancaster University. This is part of a UCREL NLP Summer School at Lancaster    University, which will   run at    InfoLab21 at Lancaster    from July 24th to 26th. There will be speakers and NLP tutorials as well as breakfast, lunch, and dinners. Attendees will have the opportunity to learn from experts in the field and network with peers.\")\n",
    "print('Number of words:', len(tokens))\n",
    "\n",
    "visualize_token_frequency_plotly(tokens)"
   ]
  },
  {
   "cell_type": "markdown",
   "metadata": {
    "id": "1wcIgQxnl_Jq"
   },
   "source": [
    "Note: **Plotly** is not viewed on saved **Notebooks**"
   ]
  },
  {
   "cell_type": "markdown",
   "metadata": {
    "id": "_FP9FNRysCuv"
   },
   "source": [
    "\n",
    "\n",
    "\n",
    "---\n",
    "\n",
    "> Let's execute it to see the results.\n",
    "---"
   ]
  },
  {
   "cell_type": "code",
   "execution_count": 45,
   "metadata": {
    "colab": {
     "base_uri": "https://localhost:8080/",
     "height": 517
    },
    "id": "B4JUqlN0c01i",
    "outputId": "c32a7f7c-b78a-412d-ef29-257c3c66fb1f"
   },
   "outputs": [
    {
     "data": {
      "image/jpeg": "[encoded data removed]",
      "text/plain": [
       "<IPython.core.display.Image object>"
      ]
     },
     "metadata": {},
     "output_type": "display_data"
    }
   ],
   "source": [
    "from IPython.display import Image, display\n",
    "plotly_filename = f'./plots/plotly_Spacy_Frequency.jpeg'\n",
    "# Display the image in the notebook\n",
    "display(Image(plotly_filename))"
   ]
  },
  {
   "cell_type": "markdown",
   "metadata": {
    "id": "HGV2VzWUdpf7"
   },
   "source": [
    "# What about stop-words?\n",
    "\n",
    "- Stop words are typically common words in a language that are filtered out in text processing to focus on more meaningful words for analysis.\n",
    "\n",
    "- We import the set of English language stop words from SpaCy's language-specific stop word list. SpaCy provides a comprehensive collection of stop words for various languages, which can be accessed and utilized as needed for different linguistic datasets. For a complete list of languages and their stop words, refer to the [official SpaCy documentation](https://spacy.io/usage/models).\n",
    "\n",
    "#### Importing SpaCy's Stop Words\n",
    "```python\n",
    "from spacy.lang.en.stop_words import STOP_WORDS\n",
    "```\n",
    "\n",
    "#### Conversion to DataFrame for Better Visualization\n",
    "```python\n",
    "stop_words_df = pd.DataFrame(list(STOP_WORDS), columns=['Stop Word'])\n",
    "```\n",
    "- The stop words are stored in a set, a Python data structure that supports membership tests, allowing for fast checking of whether an item is present in the set. Here, we convert this set into a pandas DataFrame to facilitate easier viewing and manipulation. Each stop word is listed in a single column, making it simple to visually scan through the words.\n",
    "\n",
    "#### Displaying the DataFrame\n",
    "```python\n",
    "stop_words_df\n",
    "```\n",
    "- Finally, displaying the DataFrame directly in the notebook allows for a quick review of all the stop words.\n"
   ]
  },
  {
   "cell_type": "markdown",
   "metadata": {
    "id": "nu_KZ9z1sPy_"
   },
   "source": [
    "\n",
    "\n",
    "\n",
    "---\n",
    "\n",
    "> The following code cell is designed to perform the operations described above. Let's execute it to see the results.\n",
    "---"
   ]
  },
  {
   "cell_type": "code",
   "execution_count": 19,
   "metadata": {
    "colab": {
     "base_uri": "https://localhost:8080/",
     "height": 687
    },
    "id": "StOm33QwnWN9",
    "outputId": "93bc641e-4753-4ef4-d74f-20fc66e24b08"
   },
   "outputs": [
    {
     "data": {
      "text/html": [
       "<div>\n",
       "<style scoped>\n",
       "    .dataframe tbody tr th:only-of-type {\n",
       "        vertical-align: middle;\n",
       "    }\n",
       "\n",
       "    .dataframe tbody tr th {\n",
       "        vertical-align: top;\n",
       "    }\n",
       "\n",
       "    .dataframe thead th {\n",
       "        text-align: right;\n",
       "    }\n",
       "</style>\n",
       "<table border=\"1\" class=\"dataframe\">\n",
       "  <thead>\n",
       "    <tr style=\"text-align: right;\">\n",
       "      <th></th>\n",
       "      <th>Stop Word</th>\n",
       "    </tr>\n",
       "  </thead>\n",
       "  <tbody>\n",
       "    <tr>\n",
       "      <th>0</th>\n",
       "      <td>where</td>\n",
       "    </tr>\n",
       "    <tr>\n",
       "      <th>1</th>\n",
       "      <td>i</td>\n",
       "    </tr>\n",
       "    <tr>\n",
       "      <th>2</th>\n",
       "      <td>per</td>\n",
       "    </tr>\n",
       "    <tr>\n",
       "      <th>3</th>\n",
       "      <td>unless</td>\n",
       "    </tr>\n",
       "    <tr>\n",
       "      <th>4</th>\n",
       "      <td>may</td>\n",
       "    </tr>\n",
       "    <tr>\n",
       "      <th>...</th>\n",
       "      <td>...</td>\n",
       "    </tr>\n",
       "    <tr>\n",
       "      <th>321</th>\n",
       "      <td>up</td>\n",
       "    </tr>\n",
       "    <tr>\n",
       "      <th>322</th>\n",
       "      <td>do</td>\n",
       "    </tr>\n",
       "    <tr>\n",
       "      <th>323</th>\n",
       "      <td>whom</td>\n",
       "    </tr>\n",
       "    <tr>\n",
       "      <th>324</th>\n",
       "      <td>more</td>\n",
       "    </tr>\n",
       "    <tr>\n",
       "      <th>325</th>\n",
       "      <td>their</td>\n",
       "    </tr>\n",
       "  </tbody>\n",
       "</table>\n",
       "<p>326 rows × 1 columns</p>\n",
       "</div>"
      ],
      "text/plain": [
       "    Stop Word\n",
       "0       where\n",
       "1           i\n",
       "2         per\n",
       "3      unless\n",
       "4         may\n",
       "..        ...\n",
       "321        up\n",
       "322        do\n",
       "323      whom\n",
       "324      more\n",
       "325     their\n",
       "\n",
       "[326 rows x 1 columns]"
      ]
     },
     "execution_count": 19,
     "metadata": {},
     "output_type": "execute_result"
    }
   ],
   "source": [
    "#SpaCy's English language stop words (for other languages see: https://spacy.io/usage/models)\n",
    "from spacy.lang.en.stop_words import STOP_WORDS\n",
    "\n",
    "# Convert stop words set to a DataFrame\n",
    "stop_words_df = pd.DataFrame(list(STOP_WORDS), columns=['Stop Word'])\n",
    "\n",
    "# Display the DataFrame\n",
    "stop_words_df"
   ]
  },
  {
   "cell_type": "markdown",
   "metadata": {
    "id": "U_wVgre-eqx2"
   },
   "source": [
    "#Let's get tokens ignoring stop-words and punctuations (remember we used regex to remove puncations).\n",
    "\n",
    "### Filtering Tokens: Ignoring Stop Words and Punctuations\n",
    "\n",
    "Refining the token list by removing stop words and punctuation, which are generally less useful for many Natural Language Processing (NLP) tasks."
   ]
  },
  {
   "cell_type": "markdown",
   "metadata": {
    "id": "b3b5704b"
   },
   "source": [
    "Filtering out these common yet uninformative elements, we focus the analysis on content-rich words that are more likely to contribute meaningful insights into the text's context or sentiment.\n",
    "\n",
    "```python\n",
    "tokens_no_stopwords = [token.text for token in tokens if token.is_stop != True and token.is_punct != True]\n",
    "```\n",
    "\n",
    "- **List Comprehension**: This is used to iterate over the list `tokens`, which contains token objects processed by SpaCy.\n",
    "- **Condition Check**: Each token is checked to ensure it is neither a stop word (`token.is_stop != True`) nor a punctuation mark (`token.is_punct != True`). These attributes are built into SpaCy token objects and provide a straightforward way to filter out unwanted tokens.\n",
    "- **Result**: The output is a list called `tokens_no_stopwords`, which contains only the textual part (`token.text`) of each token that is not a stop word or punctuation.\n"
   ]
  },
  {
   "cell_type": "markdown",
   "metadata": {
    "id": "lVC8C-ENsR3V"
   },
   "source": [
    "\n",
    "\n",
    "\n",
    "---\n",
    "\n",
    "> The following code cell is designed to perform the operations described above. Let's execute it to see the results.\n",
    "---"
   ]
  },
  {
   "cell_type": "code",
   "execution_count": 20,
   "metadata": {
    "id": "nxn0PksYn90U"
   },
   "outputs": [],
   "source": [
    "tokens_no_stopwords = [token.text for token in tokens if token.is_stop != True and token.is_punct != True]"
   ]
  },
  {
   "cell_type": "code",
   "execution_count": 21,
   "metadata": {
    "colab": {
     "base_uri": "https://localhost:8080/"
    },
    "id": "dKuGqqSiq-zP",
    "outputId": "fb2e8611-a3d3-4253-e6db-a282092226cc"
   },
   "outputs": [
    {
     "name": "stdout",
     "output_type": "stream",
     "text": [
      "With stop-words\n",
      " Today is July 24th , 2024 , and Mo and Nouran are showing us how to visualise text online at Lancaster University . This is part of a UCREL NLP Summer School at Lancaster University , which will run at InfoLab21 at Lancaster from July 24th to 26th . There will be speakers and NLP tutorials as well as breakfast , lunch , and dinners . Attendees will have the opportunity to learn from experts in the field and network with peers . >>>>>> 83 words.\n",
      "Without stop-words\n",
      " Today July 24th 2024 Mo Nouran showing visualise text online Lancaster University UCREL NLP Summer School Lancaster University run InfoLab21 Lancaster July 24th 26th speakers NLP tutorials breakfast lunch dinners Attendees opportunity learn experts field network peers >>>>>> 37 words.\n"
     ]
    }
   ],
   "source": [
    "#Notice that the puncation disappears in the 2nd output as well as the new stop-word 'text'\n",
    "print('With stop-words\\n',*tokens, '>>>>>>',len(tokens), 'words.')\n",
    "print('Without stop-words\\n',*tokens_no_stopwords, '>>>>>>', len(tokens_no_stopwords), 'words.')"
   ]
  },
  {
   "cell_type": "markdown",
   "metadata": {
    "id": "n2FMvPYHfs-a"
   },
   "source": [
    "## What if we want to add/remove to/from the default stop-words list?\n"
   ]
  },
  {
   "cell_type": "markdown",
   "metadata": {
    "id": "1LKH3Y3ogd7p"
   },
   "source": [
    "1. **Adding a Stop Word**:\n",
    "   ```python\n",
    "   nlp.Defaults.stop_words.add(\"text\")\n",
    "   ```\n",
    "   - Assume 'text' becomes a frequent but uninformative word in our text corpus. To treat it as a stop word, we add it to the default stop words list using the `add` method. This operation modifies the set of stop words for the `nlp` object, reflecting in all NLP tasks using this model.\n",
    "\n",
    "2. **Removing a Stop Word**:\n",
    "   ```python\n",
    "   nlp.Defaults.stop_words.remove(\"word_to_be_removed\")\n",
    "   ```\n",
    "   - If a word is deemed necessary for analysis or was added by mistake, it can be removed from the stop words list using the `remove` method. Replace `\"word_to_be_removed\"` with the actual word you wish to remove.\n",
    "\n",
    "3. **Display Updated List**:\n",
    "   ```python\n",
    "   stop_words_df = pd.DataFrame(list(nlp.Defaults.stop_words), columns=['Stop Word'])\n",
    "   stop_words_df\n",
    "   ```\n",
    "\n",
    "\n",
    "---"
   ]
  },
  {
   "cell_type": "markdown",
   "metadata": {
    "id": "7jzwabwHsV_0"
   },
   "source": [
    "\n",
    "\n",
    "\n",
    "---\n",
    "\n",
    "> The following code cell is designed to perform the operations described above. Let's execute it to see the results.\n",
    "---"
   ]
  },
  {
   "cell_type": "code",
   "execution_count": 22,
   "metadata": {
    "id": "dw1wp-lLrKTR"
   },
   "outputs": [],
   "source": [
    "#what if we want to add/remove to/from the default stop-words list?\n",
    "#assume the word 'text' is very frequent in our corpus to an extent that it becomes a stop-word\n",
    "#to add 'text' to the stop words list:\n",
    "nlp.Defaults.stop_words.add(\"text\")"
   ]
  },
  {
   "cell_type": "markdown",
   "metadata": {
    "id": "J2Wy5kNfhYM2"
   },
   "source": [
    "After modifications, the updated list of stop words is converted into a pandas DataFrame to make it easy to view and verify the changes. This DataFrame displays all current stop words, including any that were added or removed."
   ]
  },
  {
   "cell_type": "code",
   "execution_count": 23,
   "metadata": {
    "colab": {
     "base_uri": "https://localhost:8080/",
     "height": 289
    },
    "id": "MXPFr9KurNUP",
    "outputId": "e8c903b5-2eb2-4833-d528-339d21d4b4c3"
   },
   "outputs": [
    {
     "data": {
      "text/html": [
       "<div>\n",
       "<style scoped>\n",
       "    .dataframe tbody tr th:only-of-type {\n",
       "        vertical-align: middle;\n",
       "    }\n",
       "\n",
       "    .dataframe tbody tr th {\n",
       "        vertical-align: top;\n",
       "    }\n",
       "\n",
       "    .dataframe thead th {\n",
       "        text-align: right;\n",
       "    }\n",
       "</style>\n",
       "<table border=\"1\" class=\"dataframe\">\n",
       "  <thead>\n",
       "    <tr style=\"text-align: right;\">\n",
       "      <th></th>\n",
       "      <th>Stop Word</th>\n",
       "    </tr>\n",
       "  </thead>\n",
       "  <tbody>\n",
       "    <tr>\n",
       "      <th>0</th>\n",
       "      <td>where</td>\n",
       "    </tr>\n",
       "    <tr>\n",
       "      <th>1</th>\n",
       "      <td>text</td>\n",
       "    </tr>\n",
       "    <tr>\n",
       "      <th>2</th>\n",
       "      <td>i</td>\n",
       "    </tr>\n",
       "    <tr>\n",
       "      <th>3</th>\n",
       "      <td>per</td>\n",
       "    </tr>\n",
       "    <tr>\n",
       "      <th>4</th>\n",
       "      <td>unless</td>\n",
       "    </tr>\n",
       "    <tr>\n",
       "      <th>...</th>\n",
       "      <td>...</td>\n",
       "    </tr>\n",
       "    <tr>\n",
       "      <th>322</th>\n",
       "      <td>up</td>\n",
       "    </tr>\n",
       "    <tr>\n",
       "      <th>323</th>\n",
       "      <td>do</td>\n",
       "    </tr>\n",
       "    <tr>\n",
       "      <th>324</th>\n",
       "      <td>whom</td>\n",
       "    </tr>\n",
       "    <tr>\n",
       "      <th>325</th>\n",
       "      <td>more</td>\n",
       "    </tr>\n",
       "    <tr>\n",
       "      <th>326</th>\n",
       "      <td>their</td>\n",
       "    </tr>\n",
       "  </tbody>\n",
       "</table>\n",
       "<p>327 rows × 1 columns</p>\n",
       "</div>"
      ],
      "text/plain": [
       "    Stop Word\n",
       "0       where\n",
       "1        text\n",
       "2           i\n",
       "3         per\n",
       "4      unless\n",
       "..        ...\n",
       "322        up\n",
       "323        do\n",
       "324      whom\n",
       "325      more\n",
       "326     their\n",
       "\n",
       "[327 rows x 1 columns]"
      ]
     },
     "execution_count": 23,
     "metadata": {},
     "output_type": "execute_result"
    }
   ],
   "source": [
    "#print the list, notice 'text' is now an entry\n",
    "#to remove a word from the list use: nlp.Defaults.stop_words.remove(\"word_to_be_removed\")\n",
    "# Convert stop words set to a DataFrame\n",
    "stop_words_df = pd.DataFrame(list(STOP_WORDS), columns=['Stop Word'])\n",
    "\n",
    "# Display the DataFrame\n",
    "stop_words_df"
   ]
  },
  {
   "cell_type": "markdown",
   "metadata": {
    "id": "GnTa6DZQi3Qm"
   },
   "source": [
    "\n",
    "\n",
    "### Combining Walkthrough of Token Processing with SpaCy\n",
    "\n",
    "This code snippet demonstrates how to load a SpaCy model, recreate a tokenizer, and filter out stop words and punctuation from a sentence using the updated tokenizer.\n",
    "\n",
    "\n",
    "1. **Loading the SpaCy Model**:\n",
    "   ```python\n",
    "   nlp = spacy.load(\"en_core_web_sm\")\n",
    "   ```\n",
    "\n",
    "2. **Recreating the Tokenizer**:\n",
    "   ```python\n",
    "   tokenizer = Tokenizer(nlp.vocab)\n",
    "   ```\n",
    "\n",
    "\n",
    "3. **Tokenising the Sentence**:\n",
    "   ```python\n",
    "   tokens = tokenizer(sentence)\n",
    "   ```\n",
    "\n",
    "\n",
    "4. **Filtering Non-Stop Words and Non-Punctuation Tokens**:\n",
    "   ```python\n",
    "   tokens_no_stopwords = [token.text for token in tokens if token.is_stop != True and token.is_punct != True]\n",
    "   ```\n",
    "   - This line further processes the list of tokens to filter out any that are classified as stop words (`token.is_stop != True`) or punctuation (`token.is_punct != True`). The result is a list of `tokens_no_stopwords` that contains only the meaningful content words from the original sentence."
   ]
  },
  {
   "cell_type": "markdown",
   "metadata": {
    "id": "C8nudtiUsZEA"
   },
   "source": [
    "\n",
    "\n",
    "\n",
    "---\n",
    "\n",
    "> The following code cell is designed to perform the operations described above. Let's execute it to see the results.\n",
    "---"
   ]
  },
  {
   "cell_type": "code",
   "execution_count": 24,
   "metadata": {
    "id": "7PrHeF2TrfMU"
   },
   "outputs": [],
   "source": [
    "# Load the SpaCy English model. This model will be used for tokenisation, parsing, and named entity recognition.\n",
    "nlp = spacy.load(\"en_core_web_sm\")\n",
    "tokenizer = Tokenizer(nlp.vocab)#recreating the tokenizer as the previous one used the unupdated stopwords list\n",
    "tokens = tokenizer(sentence)\n",
    "#loop through the tokens and only consider non-stop-words and non-punctuations.\n",
    "tokens_no_stopwords = [token.text for token in tokens if token.is_stop != True and token.is_punct != True]"
   ]
  },
  {
   "cell_type": "markdown",
   "metadata": {
    "id": "UNTO0NVLjkqJ"
   },
   "source": [
    "### Extracting Linguistic Annotations with SpaCy\n",
    "\n",
    "1. **Processing Text with SpaCy**:\n",
    "   ```python\n",
    "   doc = nlp(sentence)\n",
    "   ```\n",
    "   - The `nlp` function processes the input `sentence`, generating a `Doc` object. This object is a sequence of tokens that contains comprehensive linguistic annotations for each token. The `Doc` object encapsulates all components and data needed to understand and manipulate the textual content.\n",
    "\n",
    "2. **Extracting Token Details**:\n",
    "   ```python\n",
    "   data = [(token.text, token.pos_, token.dep_) for token in doc]\n",
    "   ```\n",
    "   - A list comprehension is used to iterate over each token in the `Doc`. For each token, its text (`token.text`), part of speech tag (`token.pos_`), and dependency label (`token.dep_`) are extracted. These annotations are derived according to the Universal Dependencies, a widely adopted framework for consistent annotation of grammar (parts of speech, syntactic dependencies, etc.) across different human languages.\n",
    "\n",
    "3. **Creating a DataFrame for Display**:\n",
    "   ```python\n",
    "   df = pd.DataFrame(data, columns=['Token', 'Part of Speech', 'Dependency'])\n",
    "   ```\n",
    "   - The extracted data is then converted into a pandas DataFrame.\n",
    "\n",
    "4. **Displaying the DataFrame**:\n",
    "   ```python\n",
    "   print(df)\n",
    "   ```\n",
    "   - Finally, the DataFrame is printed, displaying a table where each row corresponds to a token and its respective linguistic annotations. This visual representation helps in understanding the syntactic structure and role of each word within the sentence.\n",
    "\n",
    "\n",
    "- For those interested in further details about the specific dependency labels (like `nsubj` for nominal subject, `nummod` for numeric modifier, etc.), they can refer to the [Universal Dependencies website](https://universaldependencies.org).\n"
   ]
  },
  {
   "cell_type": "markdown",
   "metadata": {
    "id": "kckqTmtssbVp"
   },
   "source": [
    "\n",
    "\n",
    "\n",
    "---\n",
    "\n",
    "> The following code cell is designed to perform the operations described above. Let's execute it to see the results.\n",
    "---"
   ]
  },
  {
   "cell_type": "code",
   "execution_count": 25,
   "metadata": {
    "colab": {
     "base_uri": "https://localhost:8080/",
     "height": 285
    },
    "id": "OsAHsBuDrvZ0",
    "outputId": "748808a7-9136-43d4-bcfc-9c5a978b9fcd"
   },
   "outputs": [
    {
     "name": "stdout",
     "output_type": "stream",
     "text": [
      "      Token Part of Speech Dependency\n",
      "0     Today           NOUN   npadvmod\n",
      "1        is            AUX       ROOT\n",
      "2      July          PROPN   compound\n",
      "3      24th           NOUN       attr\n",
      "4      2024            NUM     nummod\n",
      "..      ...            ...        ...\n",
      "69    field           NOUN       pobj\n",
      "70      and          CCONJ         cc\n",
      "71  network           NOUN       conj\n",
      "72     with            ADP       prep\n",
      "73    peers           NOUN       pobj\n",
      "\n",
      "[74 rows x 3 columns]\n"
     ]
    },
    {
     "data": {
      "text/plain": [
       "'nsubj: nominal subject.\\t nummod: numeric modifier ...etc. For more visit: https://universaldependencies.org'"
      ]
     },
     "execution_count": 25,
     "metadata": {},
     "output_type": "execute_result"
    }
   ],
   "source": [
    "#Linguistic annotations (Part of speech tags and dependencies using the Universal Dependecies https://universaldependencies.org)\n",
    "#This will return a Language object containing all components and data needed to process text\n",
    "doc = nlp(sentence) #A Doc is a sequence of Token https://spacy.io/api/doc\n",
    "\n",
    "# Extract token details\n",
    "data = [(token.text, token.pos_, token.dep_) for token in doc]\n",
    "df = pd.DataFrame(data, columns=['Token', 'Part of Speech', 'Dependency'])\n",
    "\n",
    "# Display the DataFrame\n",
    "print(df)\n",
    "\n",
    "\n",
    "\n",
    "'''nsubj: nominal subject.\\t nummod: numeric modifier ...etc. For more visit: https://universaldependencies.org'''"
   ]
  },
  {
   "cell_type": "code",
   "execution_count": 26,
   "metadata": {
    "colab": {
     "base_uri": "https://localhost:8080/",
     "height": 424
    },
    "id": "nn50EJYeiK2w",
    "outputId": "f927ad6c-0451-446c-c130-8fb46cf6dd7f"
   },
   "outputs": [
    {
     "data": {
      "text/html": [
       "<div>\n",
       "<style scoped>\n",
       "    .dataframe tbody tr th:only-of-type {\n",
       "        vertical-align: middle;\n",
       "    }\n",
       "\n",
       "    .dataframe tbody tr th {\n",
       "        vertical-align: top;\n",
       "    }\n",
       "\n",
       "    .dataframe thead th {\n",
       "        text-align: right;\n",
       "    }\n",
       "</style>\n",
       "<table border=\"1\" class=\"dataframe\">\n",
       "  <thead>\n",
       "    <tr style=\"text-align: right;\">\n",
       "      <th></th>\n",
       "      <th>Token</th>\n",
       "      <th>Part of Speech</th>\n",
       "      <th>Dependency</th>\n",
       "    </tr>\n",
       "  </thead>\n",
       "  <tbody>\n",
       "    <tr>\n",
       "      <th>0</th>\n",
       "      <td>Today</td>\n",
       "      <td>NOUN</td>\n",
       "      <td>npadvmod</td>\n",
       "    </tr>\n",
       "    <tr>\n",
       "      <th>1</th>\n",
       "      <td>is</td>\n",
       "      <td>AUX</td>\n",
       "      <td>ROOT</td>\n",
       "    </tr>\n",
       "    <tr>\n",
       "      <th>2</th>\n",
       "      <td>July</td>\n",
       "      <td>PROPN</td>\n",
       "      <td>compound</td>\n",
       "    </tr>\n",
       "    <tr>\n",
       "      <th>3</th>\n",
       "      <td>24th</td>\n",
       "      <td>NOUN</td>\n",
       "      <td>attr</td>\n",
       "    </tr>\n",
       "    <tr>\n",
       "      <th>4</th>\n",
       "      <td>2024</td>\n",
       "      <td>NUM</td>\n",
       "      <td>nummod</td>\n",
       "    </tr>\n",
       "    <tr>\n",
       "      <th>...</th>\n",
       "      <td>...</td>\n",
       "      <td>...</td>\n",
       "      <td>...</td>\n",
       "    </tr>\n",
       "    <tr>\n",
       "      <th>69</th>\n",
       "      <td>field</td>\n",
       "      <td>NOUN</td>\n",
       "      <td>pobj</td>\n",
       "    </tr>\n",
       "    <tr>\n",
       "      <th>70</th>\n",
       "      <td>and</td>\n",
       "      <td>CCONJ</td>\n",
       "      <td>cc</td>\n",
       "    </tr>\n",
       "    <tr>\n",
       "      <th>71</th>\n",
       "      <td>network</td>\n",
       "      <td>NOUN</td>\n",
       "      <td>conj</td>\n",
       "    </tr>\n",
       "    <tr>\n",
       "      <th>72</th>\n",
       "      <td>with</td>\n",
       "      <td>ADP</td>\n",
       "      <td>prep</td>\n",
       "    </tr>\n",
       "    <tr>\n",
       "      <th>73</th>\n",
       "      <td>peers</td>\n",
       "      <td>NOUN</td>\n",
       "      <td>pobj</td>\n",
       "    </tr>\n",
       "  </tbody>\n",
       "</table>\n",
       "<p>74 rows × 3 columns</p>\n",
       "</div>"
      ],
      "text/plain": [
       "      Token Part of Speech Dependency\n",
       "0     Today           NOUN   npadvmod\n",
       "1        is            AUX       ROOT\n",
       "2      July          PROPN   compound\n",
       "3      24th           NOUN       attr\n",
       "4      2024            NUM     nummod\n",
       "..      ...            ...        ...\n",
       "69    field           NOUN       pobj\n",
       "70      and          CCONJ         cc\n",
       "71  network           NOUN       conj\n",
       "72     with            ADP       prep\n",
       "73    peers           NOUN       pobj\n",
       "\n",
       "[74 rows x 3 columns]"
      ]
     },
     "execution_count": 26,
     "metadata": {},
     "output_type": "execute_result"
    }
   ],
   "source": [
    "df"
   ]
  },
  {
   "cell_type": "markdown",
   "metadata": {
    "id": "12d2e513"
   },
   "source": [
    "# Step 3: Visualising Syntactic Dependencies with SpaCy's displaCy\n",
    "\n",
    "Syntactic dependency parsing helps to understand the grammatical structure of a sentence. We will visualise the syntactic dependencies of our sample text using spaCy's visualisation tools."
   ]
  },
  {
   "cell_type": "markdown",
   "metadata": {
    "id": "5V2PTZAUkO1l"
   },
   "source": [
    "**Steps for Visualising Dependencies:**\n",
    "\n",
    "1. **Loading the SpaCy Model**:\n",
    "   - If not already loaded, the SpaCy English model (`en_core_web_sm`) can be loaded. This model is equipped to handle tokenisation, parsing, and named entity recognition.\n",
    "   ```python\n",
    "   nlp = spacy.load(\"en_core_web_sm\")\n",
    "   ```\n",
    "   - The model processes the text to create a `Doc` object, which contains tokens and their linguistic annotations.\n",
    "\n",
    "2. **Processing the Sentence**:\n",
    "   - Assuming the `doc` object has been created in a previous step and contains a cleaned version of the sentence (where extra spaces and punctuations have been removed), it's ready to be visualised.\n",
    "   ```python\n",
    "   doc = nlp(sentence)\n",
    "   ```\n",
    "\n",
    "3. **Using displaCy for Visualisation**:\n",
    "   ```python\n",
    "   from spacy import displacy\n",
    "   displacy.render(doc, style=\"dep\")\n",
    "   ```\n",
    "   - The `displacy.render` function is called with the `doc` object and the style parameter set to `\"dep\"` to indicate that we want to visualise syntactic dependencies.\n",
    "   - This function renders an interactive diagram of the sentence, showing how words are connected according to syntactic dependencies. Each word is linked to its dependents by arrows that are labelled with the type of syntactic relation.\n"
   ]
  },
  {
   "cell_type": "markdown",
   "metadata": {
    "id": "l0_U86rzsdbU"
   },
   "source": [
    "\n",
    "\n",
    "\n",
    "---\n",
    "\n",
    "> The following code cell is designed to perform the operations described above. Let's execute it to see the results.\n",
    "---"
   ]
  },
  {
   "cell_type": "code",
   "execution_count": 28,
   "metadata": {
    "colab": {
     "base_uri": "https://localhost:8080/",
     "height": 703
    },
    "id": "au7qTJspkqMS",
    "outputId": "b7025689-3c9c-4da6-8e94-9f8dc1ca4f7d"
   },
   "outputs": [
    {
     "data": {
      "text/html": [
       "<span class=\"tex2jax_ignore\"><svg xmlns=\"http://www.w3.org/2000/svg\" xmlns:xlink=\"http://www.w3.org/1999/xlink\" xml:lang=\"en\" id=\"329a60c748e046bc947ea390e9c72ffd-0\" class=\"displacy\" width=\"13000\" height=\"662.0\" direction=\"ltr\" style=\"max-width: none; height: 662.0px; color: #000000; background: #ffffff; font-family: Arial; direction: ltr\">\n",
       "<text class=\"displacy-token\" fill=\"currentColor\" text-anchor=\"middle\" y=\"572.0\">\n",
       "    <tspan class=\"displacy-word\" fill=\"currentColor\" x=\"50\">Today</tspan>\n",
       "    <tspan class=\"displacy-tag\" dy=\"2em\" fill=\"currentColor\" x=\"50\">NOUN</tspan>\n",
       "</text>\n",
       "\n",
       "<text class=\"displacy-token\" fill=\"currentColor\" text-anchor=\"middle\" y=\"572.0\">\n",
       "    <tspan class=\"displacy-word\" fill=\"currentColor\" x=\"225\">is</tspan>\n",
       "    <tspan class=\"displacy-tag\" dy=\"2em\" fill=\"currentColor\" x=\"225\">AUX</tspan>\n",
       "</text>\n",
       "\n",
       "<text class=\"displacy-token\" fill=\"currentColor\" text-anchor=\"middle\" y=\"572.0\">\n",
       "    <tspan class=\"displacy-word\" fill=\"currentColor\" x=\"400\">July</tspan>\n",
       "    <tspan class=\"displacy-tag\" dy=\"2em\" fill=\"currentColor\" x=\"400\">PROPN</tspan>\n",
       "</text>\n",
       "\n",
       "<text class=\"displacy-token\" fill=\"currentColor\" text-anchor=\"middle\" y=\"572.0\">\n",
       "    <tspan class=\"displacy-word\" fill=\"currentColor\" x=\"575\">24th</tspan>\n",
       "    <tspan class=\"displacy-tag\" dy=\"2em\" fill=\"currentColor\" x=\"575\">NOUN</tspan>\n",
       "</text>\n",
       "\n",
       "<text class=\"displacy-token\" fill=\"currentColor\" text-anchor=\"middle\" y=\"572.0\">\n",
       "    <tspan class=\"displacy-word\" fill=\"currentColor\" x=\"750\">2024</tspan>\n",
       "    <tspan class=\"displacy-tag\" dy=\"2em\" fill=\"currentColor\" x=\"750\">NUM</tspan>\n",
       "</text>\n",
       "\n",
       "<text class=\"displacy-token\" fill=\"currentColor\" text-anchor=\"middle\" y=\"572.0\">\n",
       "    <tspan class=\"displacy-word\" fill=\"currentColor\" x=\"925\">and</tspan>\n",
       "    <tspan class=\"displacy-tag\" dy=\"2em\" fill=\"currentColor\" x=\"925\">CCONJ</tspan>\n",
       "</text>\n",
       "\n",
       "<text class=\"displacy-token\" fill=\"currentColor\" text-anchor=\"middle\" y=\"572.0\">\n",
       "    <tspan class=\"displacy-word\" fill=\"currentColor\" x=\"1100\">Mo</tspan>\n",
       "    <tspan class=\"displacy-tag\" dy=\"2em\" fill=\"currentColor\" x=\"1100\">PROPN</tspan>\n",
       "</text>\n",
       "\n",
       "<text class=\"displacy-token\" fill=\"currentColor\" text-anchor=\"middle\" y=\"572.0\">\n",
       "    <tspan class=\"displacy-word\" fill=\"currentColor\" x=\"1275\">and</tspan>\n",
       "    <tspan class=\"displacy-tag\" dy=\"2em\" fill=\"currentColor\" x=\"1275\">CCONJ</tspan>\n",
       "</text>\n",
       "\n",
       "<text class=\"displacy-token\" fill=\"currentColor\" text-anchor=\"middle\" y=\"572.0\">\n",
       "    <tspan class=\"displacy-word\" fill=\"currentColor\" x=\"1450\">Nouran</tspan>\n",
       "    <tspan class=\"displacy-tag\" dy=\"2em\" fill=\"currentColor\" x=\"1450\">PROPN</tspan>\n",
       "</text>\n",
       "\n",
       "<text class=\"displacy-token\" fill=\"currentColor\" text-anchor=\"middle\" y=\"572.0\">\n",
       "    <tspan class=\"displacy-word\" fill=\"currentColor\" x=\"1625\">are</tspan>\n",
       "    <tspan class=\"displacy-tag\" dy=\"2em\" fill=\"currentColor\" x=\"1625\">AUX</tspan>\n",
       "</text>\n",
       "\n",
       "<text class=\"displacy-token\" fill=\"currentColor\" text-anchor=\"middle\" y=\"572.0\">\n",
       "    <tspan class=\"displacy-word\" fill=\"currentColor\" x=\"1800\">showing</tspan>\n",
       "    <tspan class=\"displacy-tag\" dy=\"2em\" fill=\"currentColor\" x=\"1800\">VERB</tspan>\n",
       "</text>\n",
       "\n",
       "<text class=\"displacy-token\" fill=\"currentColor\" text-anchor=\"middle\" y=\"572.0\">\n",
       "    <tspan class=\"displacy-word\" fill=\"currentColor\" x=\"1975\">us</tspan>\n",
       "    <tspan class=\"displacy-tag\" dy=\"2em\" fill=\"currentColor\" x=\"1975\">PRON</tspan>\n",
       "</text>\n",
       "\n",
       "<text class=\"displacy-token\" fill=\"currentColor\" text-anchor=\"middle\" y=\"572.0\">\n",
       "    <tspan class=\"displacy-word\" fill=\"currentColor\" x=\"2150\">how</tspan>\n",
       "    <tspan class=\"displacy-tag\" dy=\"2em\" fill=\"currentColor\" x=\"2150\">SCONJ</tspan>\n",
       "</text>\n",
       "\n",
       "<text class=\"displacy-token\" fill=\"currentColor\" text-anchor=\"middle\" y=\"572.0\">\n",
       "    <tspan class=\"displacy-word\" fill=\"currentColor\" x=\"2325\">to</tspan>\n",
       "    <tspan class=\"displacy-tag\" dy=\"2em\" fill=\"currentColor\" x=\"2325\">PART</tspan>\n",
       "</text>\n",
       "\n",
       "<text class=\"displacy-token\" fill=\"currentColor\" text-anchor=\"middle\" y=\"572.0\">\n",
       "    <tspan class=\"displacy-word\" fill=\"currentColor\" x=\"2500\">visualise</tspan>\n",
       "    <tspan class=\"displacy-tag\" dy=\"2em\" fill=\"currentColor\" x=\"2500\">VERB</tspan>\n",
       "</text>\n",
       "\n",
       "<text class=\"displacy-token\" fill=\"currentColor\" text-anchor=\"middle\" y=\"572.0\">\n",
       "    <tspan class=\"displacy-word\" fill=\"currentColor\" x=\"2675\">text</tspan>\n",
       "    <tspan class=\"displacy-tag\" dy=\"2em\" fill=\"currentColor\" x=\"2675\">NOUN</tspan>\n",
       "</text>\n",
       "\n",
       "<text class=\"displacy-token\" fill=\"currentColor\" text-anchor=\"middle\" y=\"572.0\">\n",
       "    <tspan class=\"displacy-word\" fill=\"currentColor\" x=\"2850\">online</tspan>\n",
       "    <tspan class=\"displacy-tag\" dy=\"2em\" fill=\"currentColor\" x=\"2850\">ADV</tspan>\n",
       "</text>\n",
       "\n",
       "<text class=\"displacy-token\" fill=\"currentColor\" text-anchor=\"middle\" y=\"572.0\">\n",
       "    <tspan class=\"displacy-word\" fill=\"currentColor\" x=\"3025\">at</tspan>\n",
       "    <tspan class=\"displacy-tag\" dy=\"2em\" fill=\"currentColor\" x=\"3025\">ADP</tspan>\n",
       "</text>\n",
       "\n",
       "<text class=\"displacy-token\" fill=\"currentColor\" text-anchor=\"middle\" y=\"572.0\">\n",
       "    <tspan class=\"displacy-word\" fill=\"currentColor\" x=\"3200\">Lancaster</tspan>\n",
       "    <tspan class=\"displacy-tag\" dy=\"2em\" fill=\"currentColor\" x=\"3200\">PROPN</tspan>\n",
       "</text>\n",
       "\n",
       "<text class=\"displacy-token\" fill=\"currentColor\" text-anchor=\"middle\" y=\"572.0\">\n",
       "    <tspan class=\"displacy-word\" fill=\"currentColor\" x=\"3375\">University</tspan>\n",
       "    <tspan class=\"displacy-tag\" dy=\"2em\" fill=\"currentColor\" x=\"3375\">PROPN</tspan>\n",
       "</text>\n",
       "\n",
       "<text class=\"displacy-token\" fill=\"currentColor\" text-anchor=\"middle\" y=\"572.0\">\n",
       "    <tspan class=\"displacy-word\" fill=\"currentColor\" x=\"3550\">This</tspan>\n",
       "    <tspan class=\"displacy-tag\" dy=\"2em\" fill=\"currentColor\" x=\"3550\">PRON</tspan>\n",
       "</text>\n",
       "\n",
       "<text class=\"displacy-token\" fill=\"currentColor\" text-anchor=\"middle\" y=\"572.0\">\n",
       "    <tspan class=\"displacy-word\" fill=\"currentColor\" x=\"3725\">is</tspan>\n",
       "    <tspan class=\"displacy-tag\" dy=\"2em\" fill=\"currentColor\" x=\"3725\">AUX</tspan>\n",
       "</text>\n",
       "\n",
       "<text class=\"displacy-token\" fill=\"currentColor\" text-anchor=\"middle\" y=\"572.0\">\n",
       "    <tspan class=\"displacy-word\" fill=\"currentColor\" x=\"3900\">part</tspan>\n",
       "    <tspan class=\"displacy-tag\" dy=\"2em\" fill=\"currentColor\" x=\"3900\">NOUN</tspan>\n",
       "</text>\n",
       "\n",
       "<text class=\"displacy-token\" fill=\"currentColor\" text-anchor=\"middle\" y=\"572.0\">\n",
       "    <tspan class=\"displacy-word\" fill=\"currentColor\" x=\"4075\">of</tspan>\n",
       "    <tspan class=\"displacy-tag\" dy=\"2em\" fill=\"currentColor\" x=\"4075\">ADP</tspan>\n",
       "</text>\n",
       "\n",
       "<text class=\"displacy-token\" fill=\"currentColor\" text-anchor=\"middle\" y=\"572.0\">\n",
       "    <tspan class=\"displacy-word\" fill=\"currentColor\" x=\"4250\">a</tspan>\n",
       "    <tspan class=\"displacy-tag\" dy=\"2em\" fill=\"currentColor\" x=\"4250\">DET</tspan>\n",
       "</text>\n",
       "\n",
       "<text class=\"displacy-token\" fill=\"currentColor\" text-anchor=\"middle\" y=\"572.0\">\n",
       "    <tspan class=\"displacy-word\" fill=\"currentColor\" x=\"4425\">UCREL</tspan>\n",
       "    <tspan class=\"displacy-tag\" dy=\"2em\" fill=\"currentColor\" x=\"4425\">PROPN</tspan>\n",
       "</text>\n",
       "\n",
       "<text class=\"displacy-token\" fill=\"currentColor\" text-anchor=\"middle\" y=\"572.0\">\n",
       "    <tspan class=\"displacy-word\" fill=\"currentColor\" x=\"4600\">NLP</tspan>\n",
       "    <tspan class=\"displacy-tag\" dy=\"2em\" fill=\"currentColor\" x=\"4600\">PROPN</tspan>\n",
       "</text>\n",
       "\n",
       "<text class=\"displacy-token\" fill=\"currentColor\" text-anchor=\"middle\" y=\"572.0\">\n",
       "    <tspan class=\"displacy-word\" fill=\"currentColor\" x=\"4775\">Summer</tspan>\n",
       "    <tspan class=\"displacy-tag\" dy=\"2em\" fill=\"currentColor\" x=\"4775\">PROPN</tspan>\n",
       "</text>\n",
       "\n",
       "<text class=\"displacy-token\" fill=\"currentColor\" text-anchor=\"middle\" y=\"572.0\">\n",
       "    <tspan class=\"displacy-word\" fill=\"currentColor\" x=\"4950\">School</tspan>\n",
       "    <tspan class=\"displacy-tag\" dy=\"2em\" fill=\"currentColor\" x=\"4950\">PROPN</tspan>\n",
       "</text>\n",
       "\n",
       "<text class=\"displacy-token\" fill=\"currentColor\" text-anchor=\"middle\" y=\"572.0\">\n",
       "    <tspan class=\"displacy-word\" fill=\"currentColor\" x=\"5125\">at</tspan>\n",
       "    <tspan class=\"displacy-tag\" dy=\"2em\" fill=\"currentColor\" x=\"5125\">ADP</tspan>\n",
       "</text>\n",
       "\n",
       "<text class=\"displacy-token\" fill=\"currentColor\" text-anchor=\"middle\" y=\"572.0\">\n",
       "    <tspan class=\"displacy-word\" fill=\"currentColor\" x=\"5300\">Lancaster</tspan>\n",
       "    <tspan class=\"displacy-tag\" dy=\"2em\" fill=\"currentColor\" x=\"5300\">PROPN</tspan>\n",
       "</text>\n",
       "\n",
       "<text class=\"displacy-token\" fill=\"currentColor\" text-anchor=\"middle\" y=\"572.0\">\n",
       "    <tspan class=\"displacy-word\" fill=\"currentColor\" x=\"5475\">University</tspan>\n",
       "    <tspan class=\"displacy-tag\" dy=\"2em\" fill=\"currentColor\" x=\"5475\">PROPN</tspan>\n",
       "</text>\n",
       "\n",
       "<text class=\"displacy-token\" fill=\"currentColor\" text-anchor=\"middle\" y=\"572.0\">\n",
       "    <tspan class=\"displacy-word\" fill=\"currentColor\" x=\"5650\">which</tspan>\n",
       "    <tspan class=\"displacy-tag\" dy=\"2em\" fill=\"currentColor\" x=\"5650\">PRON</tspan>\n",
       "</text>\n",
       "\n",
       "<text class=\"displacy-token\" fill=\"currentColor\" text-anchor=\"middle\" y=\"572.0\">\n",
       "    <tspan class=\"displacy-word\" fill=\"currentColor\" x=\"5825\">will</tspan>\n",
       "    <tspan class=\"displacy-tag\" dy=\"2em\" fill=\"currentColor\" x=\"5825\">AUX</tspan>\n",
       "</text>\n",
       "\n",
       "<text class=\"displacy-token\" fill=\"currentColor\" text-anchor=\"middle\" y=\"572.0\">\n",
       "    <tspan class=\"displacy-word\" fill=\"currentColor\" x=\"6000\">run</tspan>\n",
       "    <tspan class=\"displacy-tag\" dy=\"2em\" fill=\"currentColor\" x=\"6000\">VERB</tspan>\n",
       "</text>\n",
       "\n",
       "<text class=\"displacy-token\" fill=\"currentColor\" text-anchor=\"middle\" y=\"572.0\">\n",
       "    <tspan class=\"displacy-word\" fill=\"currentColor\" x=\"6175\">at</tspan>\n",
       "    <tspan class=\"displacy-tag\" dy=\"2em\" fill=\"currentColor\" x=\"6175\">ADP</tspan>\n",
       "</text>\n",
       "\n",
       "<text class=\"displacy-token\" fill=\"currentColor\" text-anchor=\"middle\" y=\"572.0\">\n",
       "    <tspan class=\"displacy-word\" fill=\"currentColor\" x=\"6350\">InfoLab21</tspan>\n",
       "    <tspan class=\"displacy-tag\" dy=\"2em\" fill=\"currentColor\" x=\"6350\">NOUN</tspan>\n",
       "</text>\n",
       "\n",
       "<text class=\"displacy-token\" fill=\"currentColor\" text-anchor=\"middle\" y=\"572.0\">\n",
       "    <tspan class=\"displacy-word\" fill=\"currentColor\" x=\"6525\">at</tspan>\n",
       "    <tspan class=\"displacy-tag\" dy=\"2em\" fill=\"currentColor\" x=\"6525\">ADP</tspan>\n",
       "</text>\n",
       "\n",
       "<text class=\"displacy-token\" fill=\"currentColor\" text-anchor=\"middle\" y=\"572.0\">\n",
       "    <tspan class=\"displacy-word\" fill=\"currentColor\" x=\"6700\">Lancaster</tspan>\n",
       "    <tspan class=\"displacy-tag\" dy=\"2em\" fill=\"currentColor\" x=\"6700\">PROPN</tspan>\n",
       "</text>\n",
       "\n",
       "<text class=\"displacy-token\" fill=\"currentColor\" text-anchor=\"middle\" y=\"572.0\">\n",
       "    <tspan class=\"displacy-word\" fill=\"currentColor\" x=\"6875\">from</tspan>\n",
       "    <tspan class=\"displacy-tag\" dy=\"2em\" fill=\"currentColor\" x=\"6875\">ADP</tspan>\n",
       "</text>\n",
       "\n",
       "<text class=\"displacy-token\" fill=\"currentColor\" text-anchor=\"middle\" y=\"572.0\">\n",
       "    <tspan class=\"displacy-word\" fill=\"currentColor\" x=\"7050\">July</tspan>\n",
       "    <tspan class=\"displacy-tag\" dy=\"2em\" fill=\"currentColor\" x=\"7050\">PROPN</tspan>\n",
       "</text>\n",
       "\n",
       "<text class=\"displacy-token\" fill=\"currentColor\" text-anchor=\"middle\" y=\"572.0\">\n",
       "    <tspan class=\"displacy-word\" fill=\"currentColor\" x=\"7225\">24th</tspan>\n",
       "    <tspan class=\"displacy-tag\" dy=\"2em\" fill=\"currentColor\" x=\"7225\">NOUN</tspan>\n",
       "</text>\n",
       "\n",
       "<text class=\"displacy-token\" fill=\"currentColor\" text-anchor=\"middle\" y=\"572.0\">\n",
       "    <tspan class=\"displacy-word\" fill=\"currentColor\" x=\"7400\">to</tspan>\n",
       "    <tspan class=\"displacy-tag\" dy=\"2em\" fill=\"currentColor\" x=\"7400\">ADP</tspan>\n",
       "</text>\n",
       "\n",
       "<text class=\"displacy-token\" fill=\"currentColor\" text-anchor=\"middle\" y=\"572.0\">\n",
       "    <tspan class=\"displacy-word\" fill=\"currentColor\" x=\"7575\">26th</tspan>\n",
       "    <tspan class=\"displacy-tag\" dy=\"2em\" fill=\"currentColor\" x=\"7575\">NOUN</tspan>\n",
       "</text>\n",
       "\n",
       "<text class=\"displacy-token\" fill=\"currentColor\" text-anchor=\"middle\" y=\"572.0\">\n",
       "    <tspan class=\"displacy-word\" fill=\"currentColor\" x=\"7750\">There</tspan>\n",
       "    <tspan class=\"displacy-tag\" dy=\"2em\" fill=\"currentColor\" x=\"7750\">PRON</tspan>\n",
       "</text>\n",
       "\n",
       "<text class=\"displacy-token\" fill=\"currentColor\" text-anchor=\"middle\" y=\"572.0\">\n",
       "    <tspan class=\"displacy-word\" fill=\"currentColor\" x=\"7925\">will</tspan>\n",
       "    <tspan class=\"displacy-tag\" dy=\"2em\" fill=\"currentColor\" x=\"7925\">AUX</tspan>\n",
       "</text>\n",
       "\n",
       "<text class=\"displacy-token\" fill=\"currentColor\" text-anchor=\"middle\" y=\"572.0\">\n",
       "    <tspan class=\"displacy-word\" fill=\"currentColor\" x=\"8100\">be</tspan>\n",
       "    <tspan class=\"displacy-tag\" dy=\"2em\" fill=\"currentColor\" x=\"8100\">AUX</tspan>\n",
       "</text>\n",
       "\n",
       "<text class=\"displacy-token\" fill=\"currentColor\" text-anchor=\"middle\" y=\"572.0\">\n",
       "    <tspan class=\"displacy-word\" fill=\"currentColor\" x=\"8275\">speakers</tspan>\n",
       "    <tspan class=\"displacy-tag\" dy=\"2em\" fill=\"currentColor\" x=\"8275\">NOUN</tspan>\n",
       "</text>\n",
       "\n",
       "<text class=\"displacy-token\" fill=\"currentColor\" text-anchor=\"middle\" y=\"572.0\">\n",
       "    <tspan class=\"displacy-word\" fill=\"currentColor\" x=\"8450\">and</tspan>\n",
       "    <tspan class=\"displacy-tag\" dy=\"2em\" fill=\"currentColor\" x=\"8450\">CCONJ</tspan>\n",
       "</text>\n",
       "\n",
       "<text class=\"displacy-token\" fill=\"currentColor\" text-anchor=\"middle\" y=\"572.0\">\n",
       "    <tspan class=\"displacy-word\" fill=\"currentColor\" x=\"8625\">NLP</tspan>\n",
       "    <tspan class=\"displacy-tag\" dy=\"2em\" fill=\"currentColor\" x=\"8625\">NOUN</tspan>\n",
       "</text>\n",
       "\n",
       "<text class=\"displacy-token\" fill=\"currentColor\" text-anchor=\"middle\" y=\"572.0\">\n",
       "    <tspan class=\"displacy-word\" fill=\"currentColor\" x=\"8800\">tutorials</tspan>\n",
       "    <tspan class=\"displacy-tag\" dy=\"2em\" fill=\"currentColor\" x=\"8800\">NOUN</tspan>\n",
       "</text>\n",
       "\n",
       "<text class=\"displacy-token\" fill=\"currentColor\" text-anchor=\"middle\" y=\"572.0\">\n",
       "    <tspan class=\"displacy-word\" fill=\"currentColor\" x=\"8975\">as</tspan>\n",
       "    <tspan class=\"displacy-tag\" dy=\"2em\" fill=\"currentColor\" x=\"8975\">ADV</tspan>\n",
       "</text>\n",
       "\n",
       "<text class=\"displacy-token\" fill=\"currentColor\" text-anchor=\"middle\" y=\"572.0\">\n",
       "    <tspan class=\"displacy-word\" fill=\"currentColor\" x=\"9150\">well</tspan>\n",
       "    <tspan class=\"displacy-tag\" dy=\"2em\" fill=\"currentColor\" x=\"9150\">ADV</tspan>\n",
       "</text>\n",
       "\n",
       "<text class=\"displacy-token\" fill=\"currentColor\" text-anchor=\"middle\" y=\"572.0\">\n",
       "    <tspan class=\"displacy-word\" fill=\"currentColor\" x=\"9325\">as</tspan>\n",
       "    <tspan class=\"displacy-tag\" dy=\"2em\" fill=\"currentColor\" x=\"9325\">ADP</tspan>\n",
       "</text>\n",
       "\n",
       "<text class=\"displacy-token\" fill=\"currentColor\" text-anchor=\"middle\" y=\"572.0\">\n",
       "    <tspan class=\"displacy-word\" fill=\"currentColor\" x=\"9500\">breakfast</tspan>\n",
       "    <tspan class=\"displacy-tag\" dy=\"2em\" fill=\"currentColor\" x=\"9500\">NOUN</tspan>\n",
       "</text>\n",
       "\n",
       "<text class=\"displacy-token\" fill=\"currentColor\" text-anchor=\"middle\" y=\"572.0\">\n",
       "    <tspan class=\"displacy-word\" fill=\"currentColor\" x=\"9675\">lunch</tspan>\n",
       "    <tspan class=\"displacy-tag\" dy=\"2em\" fill=\"currentColor\" x=\"9675\">NOUN</tspan>\n",
       "</text>\n",
       "\n",
       "<text class=\"displacy-token\" fill=\"currentColor\" text-anchor=\"middle\" y=\"572.0\">\n",
       "    <tspan class=\"displacy-word\" fill=\"currentColor\" x=\"9850\">and</tspan>\n",
       "    <tspan class=\"displacy-tag\" dy=\"2em\" fill=\"currentColor\" x=\"9850\">CCONJ</tspan>\n",
       "</text>\n",
       "\n",
       "<text class=\"displacy-token\" fill=\"currentColor\" text-anchor=\"middle\" y=\"572.0\">\n",
       "    <tspan class=\"displacy-word\" fill=\"currentColor\" x=\"10025\">dinners</tspan>\n",
       "    <tspan class=\"displacy-tag\" dy=\"2em\" fill=\"currentColor\" x=\"10025\">NOUN</tspan>\n",
       "</text>\n",
       "\n",
       "<text class=\"displacy-token\" fill=\"currentColor\" text-anchor=\"middle\" y=\"572.0\">\n",
       "    <tspan class=\"displacy-word\" fill=\"currentColor\" x=\"10200\">Attendees</tspan>\n",
       "    <tspan class=\"displacy-tag\" dy=\"2em\" fill=\"currentColor\" x=\"10200\">PROPN</tspan>\n",
       "</text>\n",
       "\n",
       "<text class=\"displacy-token\" fill=\"currentColor\" text-anchor=\"middle\" y=\"572.0\">\n",
       "    <tspan class=\"displacy-word\" fill=\"currentColor\" x=\"10375\">will</tspan>\n",
       "    <tspan class=\"displacy-tag\" dy=\"2em\" fill=\"currentColor\" x=\"10375\">AUX</tspan>\n",
       "</text>\n",
       "\n",
       "<text class=\"displacy-token\" fill=\"currentColor\" text-anchor=\"middle\" y=\"572.0\">\n",
       "    <tspan class=\"displacy-word\" fill=\"currentColor\" x=\"10550\">have</tspan>\n",
       "    <tspan class=\"displacy-tag\" dy=\"2em\" fill=\"currentColor\" x=\"10550\">VERB</tspan>\n",
       "</text>\n",
       "\n",
       "<text class=\"displacy-token\" fill=\"currentColor\" text-anchor=\"middle\" y=\"572.0\">\n",
       "    <tspan class=\"displacy-word\" fill=\"currentColor\" x=\"10725\">the</tspan>\n",
       "    <tspan class=\"displacy-tag\" dy=\"2em\" fill=\"currentColor\" x=\"10725\">DET</tspan>\n",
       "</text>\n",
       "\n",
       "<text class=\"displacy-token\" fill=\"currentColor\" text-anchor=\"middle\" y=\"572.0\">\n",
       "    <tspan class=\"displacy-word\" fill=\"currentColor\" x=\"10900\">opportunity</tspan>\n",
       "    <tspan class=\"displacy-tag\" dy=\"2em\" fill=\"currentColor\" x=\"10900\">NOUN</tspan>\n",
       "</text>\n",
       "\n",
       "<text class=\"displacy-token\" fill=\"currentColor\" text-anchor=\"middle\" y=\"572.0\">\n",
       "    <tspan class=\"displacy-word\" fill=\"currentColor\" x=\"11075\">to</tspan>\n",
       "    <tspan class=\"displacy-tag\" dy=\"2em\" fill=\"currentColor\" x=\"11075\">PART</tspan>\n",
       "</text>\n",
       "\n",
       "<text class=\"displacy-token\" fill=\"currentColor\" text-anchor=\"middle\" y=\"572.0\">\n",
       "    <tspan class=\"displacy-word\" fill=\"currentColor\" x=\"11250\">learn</tspan>\n",
       "    <tspan class=\"displacy-tag\" dy=\"2em\" fill=\"currentColor\" x=\"11250\">VERB</tspan>\n",
       "</text>\n",
       "\n",
       "<text class=\"displacy-token\" fill=\"currentColor\" text-anchor=\"middle\" y=\"572.0\">\n",
       "    <tspan class=\"displacy-word\" fill=\"currentColor\" x=\"11425\">from</tspan>\n",
       "    <tspan class=\"displacy-tag\" dy=\"2em\" fill=\"currentColor\" x=\"11425\">ADP</tspan>\n",
       "</text>\n",
       "\n",
       "<text class=\"displacy-token\" fill=\"currentColor\" text-anchor=\"middle\" y=\"572.0\">\n",
       "    <tspan class=\"displacy-word\" fill=\"currentColor\" x=\"11600\">experts</tspan>\n",
       "    <tspan class=\"displacy-tag\" dy=\"2em\" fill=\"currentColor\" x=\"11600\">NOUN</tspan>\n",
       "</text>\n",
       "\n",
       "<text class=\"displacy-token\" fill=\"currentColor\" text-anchor=\"middle\" y=\"572.0\">\n",
       "    <tspan class=\"displacy-word\" fill=\"currentColor\" x=\"11775\">in</tspan>\n",
       "    <tspan class=\"displacy-tag\" dy=\"2em\" fill=\"currentColor\" x=\"11775\">ADP</tspan>\n",
       "</text>\n",
       "\n",
       "<text class=\"displacy-token\" fill=\"currentColor\" text-anchor=\"middle\" y=\"572.0\">\n",
       "    <tspan class=\"displacy-word\" fill=\"currentColor\" x=\"11950\">the</tspan>\n",
       "    <tspan class=\"displacy-tag\" dy=\"2em\" fill=\"currentColor\" x=\"11950\">DET</tspan>\n",
       "</text>\n",
       "\n",
       "<text class=\"displacy-token\" fill=\"currentColor\" text-anchor=\"middle\" y=\"572.0\">\n",
       "    <tspan class=\"displacy-word\" fill=\"currentColor\" x=\"12125\">field</tspan>\n",
       "    <tspan class=\"displacy-tag\" dy=\"2em\" fill=\"currentColor\" x=\"12125\">NOUN</tspan>\n",
       "</text>\n",
       "\n",
       "<text class=\"displacy-token\" fill=\"currentColor\" text-anchor=\"middle\" y=\"572.0\">\n",
       "    <tspan class=\"displacy-word\" fill=\"currentColor\" x=\"12300\">and</tspan>\n",
       "    <tspan class=\"displacy-tag\" dy=\"2em\" fill=\"currentColor\" x=\"12300\">CCONJ</tspan>\n",
       "</text>\n",
       "\n",
       "<text class=\"displacy-token\" fill=\"currentColor\" text-anchor=\"middle\" y=\"572.0\">\n",
       "    <tspan class=\"displacy-word\" fill=\"currentColor\" x=\"12475\">network</tspan>\n",
       "    <tspan class=\"displacy-tag\" dy=\"2em\" fill=\"currentColor\" x=\"12475\">NOUN</tspan>\n",
       "</text>\n",
       "\n",
       "<text class=\"displacy-token\" fill=\"currentColor\" text-anchor=\"middle\" y=\"572.0\">\n",
       "    <tspan class=\"displacy-word\" fill=\"currentColor\" x=\"12650\">with</tspan>\n",
       "    <tspan class=\"displacy-tag\" dy=\"2em\" fill=\"currentColor\" x=\"12650\">ADP</tspan>\n",
       "</text>\n",
       "\n",
       "<text class=\"displacy-token\" fill=\"currentColor\" text-anchor=\"middle\" y=\"572.0\">\n",
       "    <tspan class=\"displacy-word\" fill=\"currentColor\" x=\"12825\">peers</tspan>\n",
       "    <tspan class=\"displacy-tag\" dy=\"2em\" fill=\"currentColor\" x=\"12825\">NOUN</tspan>\n",
       "</text>\n",
       "\n",
       "<g class=\"displacy-arrow\">\n",
       "    <path class=\"displacy-arc\" id=\"arrow-329a60c748e046bc947ea390e9c72ffd-0-0\" stroke-width=\"2px\" d=\"M70,527.0 C70,439.5 200.0,439.5 200.0,527.0\" fill=\"none\" stroke=\"currentColor\"/>\n",
       "    <text dy=\"1.25em\" style=\"font-size: 0.8em; letter-spacing: 1px\">\n",
       "        <textPath xlink:href=\"#arrow-329a60c748e046bc947ea390e9c72ffd-0-0\" class=\"displacy-label\" startOffset=\"50%\" side=\"left\" fill=\"currentColor\" text-anchor=\"middle\">npadvmod</textPath>\n",
       "    </text>\n",
       "    <path class=\"displacy-arrowhead\" d=\"M70,529.0 L62,517.0 78,517.0\" fill=\"currentColor\"/>\n",
       "</g>\n",
       "\n",
       "<g class=\"displacy-arrow\">\n",
       "    <path class=\"displacy-arc\" id=\"arrow-329a60c748e046bc947ea390e9c72ffd-0-1\" stroke-width=\"2px\" d=\"M420,527.0 C420,439.5 550.0,439.5 550.0,527.0\" fill=\"none\" stroke=\"currentColor\"/>\n",
       "    <text dy=\"1.25em\" style=\"font-size: 0.8em; letter-spacing: 1px\">\n",
       "        <textPath xlink:href=\"#arrow-329a60c748e046bc947ea390e9c72ffd-0-1\" class=\"displacy-label\" startOffset=\"50%\" side=\"left\" fill=\"currentColor\" text-anchor=\"middle\">compound</textPath>\n",
       "    </text>\n",
       "    <path class=\"displacy-arrowhead\" d=\"M420,529.0 L412,517.0 428,517.0\" fill=\"currentColor\"/>\n",
       "</g>\n",
       "\n",
       "<g class=\"displacy-arrow\">\n",
       "    <path class=\"displacy-arc\" id=\"arrow-329a60c748e046bc947ea390e9c72ffd-0-2\" stroke-width=\"2px\" d=\"M245,527.0 C245,352.0 555.0,352.0 555.0,527.0\" fill=\"none\" stroke=\"currentColor\"/>\n",
       "    <text dy=\"1.25em\" style=\"font-size: 0.8em; letter-spacing: 1px\">\n",
       "        <textPath xlink:href=\"#arrow-329a60c748e046bc947ea390e9c72ffd-0-2\" class=\"displacy-label\" startOffset=\"50%\" side=\"left\" fill=\"currentColor\" text-anchor=\"middle\">attr</textPath>\n",
       "    </text>\n",
       "    <path class=\"displacy-arrowhead\" d=\"M555.0,529.0 L563.0,517.0 547.0,517.0\" fill=\"currentColor\"/>\n",
       "</g>\n",
       "\n",
       "<g class=\"displacy-arrow\">\n",
       "    <path class=\"displacy-arc\" id=\"arrow-329a60c748e046bc947ea390e9c72ffd-0-3\" stroke-width=\"2px\" d=\"M595,527.0 C595,439.5 725.0,439.5 725.0,527.0\" fill=\"none\" stroke=\"currentColor\"/>\n",
       "    <text dy=\"1.25em\" style=\"font-size: 0.8em; letter-spacing: 1px\">\n",
       "        <textPath xlink:href=\"#arrow-329a60c748e046bc947ea390e9c72ffd-0-3\" class=\"displacy-label\" startOffset=\"50%\" side=\"left\" fill=\"currentColor\" text-anchor=\"middle\">nummod</textPath>\n",
       "    </text>\n",
       "    <path class=\"displacy-arrowhead\" d=\"M725.0,529.0 L733.0,517.0 717.0,517.0\" fill=\"currentColor\"/>\n",
       "</g>\n",
       "\n",
       "<g class=\"displacy-arrow\">\n",
       "    <path class=\"displacy-arc\" id=\"arrow-329a60c748e046bc947ea390e9c72ffd-0-4\" stroke-width=\"2px\" d=\"M245,527.0 C245,264.5 910.0,264.5 910.0,527.0\" fill=\"none\" stroke=\"currentColor\"/>\n",
       "    <text dy=\"1.25em\" style=\"font-size: 0.8em; letter-spacing: 1px\">\n",
       "        <textPath xlink:href=\"#arrow-329a60c748e046bc947ea390e9c72ffd-0-4\" class=\"displacy-label\" startOffset=\"50%\" side=\"left\" fill=\"currentColor\" text-anchor=\"middle\">cc</textPath>\n",
       "    </text>\n",
       "    <path class=\"displacy-arrowhead\" d=\"M910.0,529.0 L918.0,517.0 902.0,517.0\" fill=\"currentColor\"/>\n",
       "</g>\n",
       "\n",
       "<g class=\"displacy-arrow\">\n",
       "    <path class=\"displacy-arc\" id=\"arrow-329a60c748e046bc947ea390e9c72ffd-0-5\" stroke-width=\"2px\" d=\"M1120,527.0 C1120,264.5 1785.0,264.5 1785.0,527.0\" fill=\"none\" stroke=\"currentColor\"/>\n",
       "    <text dy=\"1.25em\" style=\"font-size: 0.8em; letter-spacing: 1px\">\n",
       "        <textPath xlink:href=\"#arrow-329a60c748e046bc947ea390e9c72ffd-0-5\" class=\"displacy-label\" startOffset=\"50%\" side=\"left\" fill=\"currentColor\" text-anchor=\"middle\">nsubj</textPath>\n",
       "    </text>\n",
       "    <path class=\"displacy-arrowhead\" d=\"M1120,529.0 L1112,517.0 1128,517.0\" fill=\"currentColor\"/>\n",
       "</g>\n",
       "\n",
       "<g class=\"displacy-arrow\">\n",
       "    <path class=\"displacy-arc\" id=\"arrow-329a60c748e046bc947ea390e9c72ffd-0-6\" stroke-width=\"2px\" d=\"M1120,527.0 C1120,439.5 1250.0,439.5 1250.0,527.0\" fill=\"none\" stroke=\"currentColor\"/>\n",
       "    <text dy=\"1.25em\" style=\"font-size: 0.8em; letter-spacing: 1px\">\n",
       "        <textPath xlink:href=\"#arrow-329a60c748e046bc947ea390e9c72ffd-0-6\" class=\"displacy-label\" startOffset=\"50%\" side=\"left\" fill=\"currentColor\" text-anchor=\"middle\">cc</textPath>\n",
       "    </text>\n",
       "    <path class=\"displacy-arrowhead\" d=\"M1250.0,529.0 L1258.0,517.0 1242.0,517.0\" fill=\"currentColor\"/>\n",
       "</g>\n",
       "\n",
       "<g class=\"displacy-arrow\">\n",
       "    <path class=\"displacy-arc\" id=\"arrow-329a60c748e046bc947ea390e9c72ffd-0-7\" stroke-width=\"2px\" d=\"M1120,527.0 C1120,352.0 1430.0,352.0 1430.0,527.0\" fill=\"none\" stroke=\"currentColor\"/>\n",
       "    <text dy=\"1.25em\" style=\"font-size: 0.8em; letter-spacing: 1px\">\n",
       "        <textPath xlink:href=\"#arrow-329a60c748e046bc947ea390e9c72ffd-0-7\" class=\"displacy-label\" startOffset=\"50%\" side=\"left\" fill=\"currentColor\" text-anchor=\"middle\">conj</textPath>\n",
       "    </text>\n",
       "    <path class=\"displacy-arrowhead\" d=\"M1430.0,529.0 L1438.0,517.0 1422.0,517.0\" fill=\"currentColor\"/>\n",
       "</g>\n",
       "\n",
       "<g class=\"displacy-arrow\">\n",
       "    <path class=\"displacy-arc\" id=\"arrow-329a60c748e046bc947ea390e9c72ffd-0-8\" stroke-width=\"2px\" d=\"M1645,527.0 C1645,439.5 1775.0,439.5 1775.0,527.0\" fill=\"none\" stroke=\"currentColor\"/>\n",
       "    <text dy=\"1.25em\" style=\"font-size: 0.8em; letter-spacing: 1px\">\n",
       "        <textPath xlink:href=\"#arrow-329a60c748e046bc947ea390e9c72ffd-0-8\" class=\"displacy-label\" startOffset=\"50%\" side=\"left\" fill=\"currentColor\" text-anchor=\"middle\">aux</textPath>\n",
       "    </text>\n",
       "    <path class=\"displacy-arrowhead\" d=\"M1645,529.0 L1637,517.0 1653,517.0\" fill=\"currentColor\"/>\n",
       "</g>\n",
       "\n",
       "<g class=\"displacy-arrow\">\n",
       "    <path class=\"displacy-arc\" id=\"arrow-329a60c748e046bc947ea390e9c72ffd-0-9\" stroke-width=\"2px\" d=\"M245,527.0 C245,177.0 1790.0,177.0 1790.0,527.0\" fill=\"none\" stroke=\"currentColor\"/>\n",
       "    <text dy=\"1.25em\" style=\"font-size: 0.8em; letter-spacing: 1px\">\n",
       "        <textPath xlink:href=\"#arrow-329a60c748e046bc947ea390e9c72ffd-0-9\" class=\"displacy-label\" startOffset=\"50%\" side=\"left\" fill=\"currentColor\" text-anchor=\"middle\">conj</textPath>\n",
       "    </text>\n",
       "    <path class=\"displacy-arrowhead\" d=\"M1790.0,529.0 L1798.0,517.0 1782.0,517.0\" fill=\"currentColor\"/>\n",
       "</g>\n",
       "\n",
       "<g class=\"displacy-arrow\">\n",
       "    <path class=\"displacy-arc\" id=\"arrow-329a60c748e046bc947ea390e9c72ffd-0-10\" stroke-width=\"2px\" d=\"M1820,527.0 C1820,439.5 1950.0,439.5 1950.0,527.0\" fill=\"none\" stroke=\"currentColor\"/>\n",
       "    <text dy=\"1.25em\" style=\"font-size: 0.8em; letter-spacing: 1px\">\n",
       "        <textPath xlink:href=\"#arrow-329a60c748e046bc947ea390e9c72ffd-0-10\" class=\"displacy-label\" startOffset=\"50%\" side=\"left\" fill=\"currentColor\" text-anchor=\"middle\">dobj</textPath>\n",
       "    </text>\n",
       "    <path class=\"displacy-arrowhead\" d=\"M1950.0,529.0 L1958.0,517.0 1942.0,517.0\" fill=\"currentColor\"/>\n",
       "</g>\n",
       "\n",
       "<g class=\"displacy-arrow\">\n",
       "    <path class=\"displacy-arc\" id=\"arrow-329a60c748e046bc947ea390e9c72ffd-0-11\" stroke-width=\"2px\" d=\"M2170,527.0 C2170,352.0 2480.0,352.0 2480.0,527.0\" fill=\"none\" stroke=\"currentColor\"/>\n",
       "    <text dy=\"1.25em\" style=\"font-size: 0.8em; letter-spacing: 1px\">\n",
       "        <textPath xlink:href=\"#arrow-329a60c748e046bc947ea390e9c72ffd-0-11\" class=\"displacy-label\" startOffset=\"50%\" side=\"left\" fill=\"currentColor\" text-anchor=\"middle\">advmod</textPath>\n",
       "    </text>\n",
       "    <path class=\"displacy-arrowhead\" d=\"M2170,529.0 L2162,517.0 2178,517.0\" fill=\"currentColor\"/>\n",
       "</g>\n",
       "\n",
       "<g class=\"displacy-arrow\">\n",
       "    <path class=\"displacy-arc\" id=\"arrow-329a60c748e046bc947ea390e9c72ffd-0-12\" stroke-width=\"2px\" d=\"M2345,527.0 C2345,439.5 2475.0,439.5 2475.0,527.0\" fill=\"none\" stroke=\"currentColor\"/>\n",
       "    <text dy=\"1.25em\" style=\"font-size: 0.8em; letter-spacing: 1px\">\n",
       "        <textPath xlink:href=\"#arrow-329a60c748e046bc947ea390e9c72ffd-0-12\" class=\"displacy-label\" startOffset=\"50%\" side=\"left\" fill=\"currentColor\" text-anchor=\"middle\">aux</textPath>\n",
       "    </text>\n",
       "    <path class=\"displacy-arrowhead\" d=\"M2345,529.0 L2337,517.0 2353,517.0\" fill=\"currentColor\"/>\n",
       "</g>\n",
       "\n",
       "<g class=\"displacy-arrow\">\n",
       "    <path class=\"displacy-arc\" id=\"arrow-329a60c748e046bc947ea390e9c72ffd-0-13\" stroke-width=\"2px\" d=\"M1820,527.0 C1820,264.5 2485.0,264.5 2485.0,527.0\" fill=\"none\" stroke=\"currentColor\"/>\n",
       "    <text dy=\"1.25em\" style=\"font-size: 0.8em; letter-spacing: 1px\">\n",
       "        <textPath xlink:href=\"#arrow-329a60c748e046bc947ea390e9c72ffd-0-13\" class=\"displacy-label\" startOffset=\"50%\" side=\"left\" fill=\"currentColor\" text-anchor=\"middle\">xcomp</textPath>\n",
       "    </text>\n",
       "    <path class=\"displacy-arrowhead\" d=\"M2485.0,529.0 L2493.0,517.0 2477.0,517.0\" fill=\"currentColor\"/>\n",
       "</g>\n",
       "\n",
       "<g class=\"displacy-arrow\">\n",
       "    <path class=\"displacy-arc\" id=\"arrow-329a60c748e046bc947ea390e9c72ffd-0-14\" stroke-width=\"2px\" d=\"M2520,527.0 C2520,439.5 2650.0,439.5 2650.0,527.0\" fill=\"none\" stroke=\"currentColor\"/>\n",
       "    <text dy=\"1.25em\" style=\"font-size: 0.8em; letter-spacing: 1px\">\n",
       "        <textPath xlink:href=\"#arrow-329a60c748e046bc947ea390e9c72ffd-0-14\" class=\"displacy-label\" startOffset=\"50%\" side=\"left\" fill=\"currentColor\" text-anchor=\"middle\">dobj</textPath>\n",
       "    </text>\n",
       "    <path class=\"displacy-arrowhead\" d=\"M2650.0,529.0 L2658.0,517.0 2642.0,517.0\" fill=\"currentColor\"/>\n",
       "</g>\n",
       "\n",
       "<g class=\"displacy-arrow\">\n",
       "    <path class=\"displacy-arc\" id=\"arrow-329a60c748e046bc947ea390e9c72ffd-0-15\" stroke-width=\"2px\" d=\"M2520,527.0 C2520,352.0 2830.0,352.0 2830.0,527.0\" fill=\"none\" stroke=\"currentColor\"/>\n",
       "    <text dy=\"1.25em\" style=\"font-size: 0.8em; letter-spacing: 1px\">\n",
       "        <textPath xlink:href=\"#arrow-329a60c748e046bc947ea390e9c72ffd-0-15\" class=\"displacy-label\" startOffset=\"50%\" side=\"left\" fill=\"currentColor\" text-anchor=\"middle\">advmod</textPath>\n",
       "    </text>\n",
       "    <path class=\"displacy-arrowhead\" d=\"M2830.0,529.0 L2838.0,517.0 2822.0,517.0\" fill=\"currentColor\"/>\n",
       "</g>\n",
       "\n",
       "<g class=\"displacy-arrow\">\n",
       "    <path class=\"displacy-arc\" id=\"arrow-329a60c748e046bc947ea390e9c72ffd-0-16\" stroke-width=\"2px\" d=\"M2520,527.0 C2520,264.5 3010.0,264.5 3010.0,527.0\" fill=\"none\" stroke=\"currentColor\"/>\n",
       "    <text dy=\"1.25em\" style=\"font-size: 0.8em; letter-spacing: 1px\">\n",
       "        <textPath xlink:href=\"#arrow-329a60c748e046bc947ea390e9c72ffd-0-16\" class=\"displacy-label\" startOffset=\"50%\" side=\"left\" fill=\"currentColor\" text-anchor=\"middle\">prep</textPath>\n",
       "    </text>\n",
       "    <path class=\"displacy-arrowhead\" d=\"M3010.0,529.0 L3018.0,517.0 3002.0,517.0\" fill=\"currentColor\"/>\n",
       "</g>\n",
       "\n",
       "<g class=\"displacy-arrow\">\n",
       "    <path class=\"displacy-arc\" id=\"arrow-329a60c748e046bc947ea390e9c72ffd-0-17\" stroke-width=\"2px\" d=\"M3220,527.0 C3220,439.5 3350.0,439.5 3350.0,527.0\" fill=\"none\" stroke=\"currentColor\"/>\n",
       "    <text dy=\"1.25em\" style=\"font-size: 0.8em; letter-spacing: 1px\">\n",
       "        <textPath xlink:href=\"#arrow-329a60c748e046bc947ea390e9c72ffd-0-17\" class=\"displacy-label\" startOffset=\"50%\" side=\"left\" fill=\"currentColor\" text-anchor=\"middle\">compound</textPath>\n",
       "    </text>\n",
       "    <path class=\"displacy-arrowhead\" d=\"M3220,529.0 L3212,517.0 3228,517.0\" fill=\"currentColor\"/>\n",
       "</g>\n",
       "\n",
       "<g class=\"displacy-arrow\">\n",
       "    <path class=\"displacy-arc\" id=\"arrow-329a60c748e046bc947ea390e9c72ffd-0-18\" stroke-width=\"2px\" d=\"M3045,527.0 C3045,352.0 3355.0,352.0 3355.0,527.0\" fill=\"none\" stroke=\"currentColor\"/>\n",
       "    <text dy=\"1.25em\" style=\"font-size: 0.8em; letter-spacing: 1px\">\n",
       "        <textPath xlink:href=\"#arrow-329a60c748e046bc947ea390e9c72ffd-0-18\" class=\"displacy-label\" startOffset=\"50%\" side=\"left\" fill=\"currentColor\" text-anchor=\"middle\">pobj</textPath>\n",
       "    </text>\n",
       "    <path class=\"displacy-arrowhead\" d=\"M3355.0,529.0 L3363.0,517.0 3347.0,517.0\" fill=\"currentColor\"/>\n",
       "</g>\n",
       "\n",
       "<g class=\"displacy-arrow\">\n",
       "    <path class=\"displacy-arc\" id=\"arrow-329a60c748e046bc947ea390e9c72ffd-0-19\" stroke-width=\"2px\" d=\"M3570,527.0 C3570,439.5 3700.0,439.5 3700.0,527.0\" fill=\"none\" stroke=\"currentColor\"/>\n",
       "    <text dy=\"1.25em\" style=\"font-size: 0.8em; letter-spacing: 1px\">\n",
       "        <textPath xlink:href=\"#arrow-329a60c748e046bc947ea390e9c72ffd-0-19\" class=\"displacy-label\" startOffset=\"50%\" side=\"left\" fill=\"currentColor\" text-anchor=\"middle\">nsubj</textPath>\n",
       "    </text>\n",
       "    <path class=\"displacy-arrowhead\" d=\"M3570,529.0 L3562,517.0 3578,517.0\" fill=\"currentColor\"/>\n",
       "</g>\n",
       "\n",
       "<g class=\"displacy-arrow\">\n",
       "    <path class=\"displacy-arc\" id=\"arrow-329a60c748e046bc947ea390e9c72ffd-0-20\" stroke-width=\"2px\" d=\"M3745,527.0 C3745,2.0 8100.0,2.0 8100.0,527.0\" fill=\"none\" stroke=\"currentColor\"/>\n",
       "    <text dy=\"1.25em\" style=\"font-size: 0.8em; letter-spacing: 1px\">\n",
       "        <textPath xlink:href=\"#arrow-329a60c748e046bc947ea390e9c72ffd-0-20\" class=\"displacy-label\" startOffset=\"50%\" side=\"left\" fill=\"currentColor\" text-anchor=\"middle\">ccomp</textPath>\n",
       "    </text>\n",
       "    <path class=\"displacy-arrowhead\" d=\"M3745,529.0 L3737,517.0 3753,517.0\" fill=\"currentColor\"/>\n",
       "</g>\n",
       "\n",
       "<g class=\"displacy-arrow\">\n",
       "    <path class=\"displacy-arc\" id=\"arrow-329a60c748e046bc947ea390e9c72ffd-0-21\" stroke-width=\"2px\" d=\"M3745,527.0 C3745,439.5 3875.0,439.5 3875.0,527.0\" fill=\"none\" stroke=\"currentColor\"/>\n",
       "    <text dy=\"1.25em\" style=\"font-size: 0.8em; letter-spacing: 1px\">\n",
       "        <textPath xlink:href=\"#arrow-329a60c748e046bc947ea390e9c72ffd-0-21\" class=\"displacy-label\" startOffset=\"50%\" side=\"left\" fill=\"currentColor\" text-anchor=\"middle\">attr</textPath>\n",
       "    </text>\n",
       "    <path class=\"displacy-arrowhead\" d=\"M3875.0,529.0 L3883.0,517.0 3867.0,517.0\" fill=\"currentColor\"/>\n",
       "</g>\n",
       "\n",
       "<g class=\"displacy-arrow\">\n",
       "    <path class=\"displacy-arc\" id=\"arrow-329a60c748e046bc947ea390e9c72ffd-0-22\" stroke-width=\"2px\" d=\"M3920,527.0 C3920,439.5 4050.0,439.5 4050.0,527.0\" fill=\"none\" stroke=\"currentColor\"/>\n",
       "    <text dy=\"1.25em\" style=\"font-size: 0.8em; letter-spacing: 1px\">\n",
       "        <textPath xlink:href=\"#arrow-329a60c748e046bc947ea390e9c72ffd-0-22\" class=\"displacy-label\" startOffset=\"50%\" side=\"left\" fill=\"currentColor\" text-anchor=\"middle\">prep</textPath>\n",
       "    </text>\n",
       "    <path class=\"displacy-arrowhead\" d=\"M4050.0,529.0 L4058.0,517.0 4042.0,517.0\" fill=\"currentColor\"/>\n",
       "</g>\n",
       "\n",
       "<g class=\"displacy-arrow\">\n",
       "    <path class=\"displacy-arc\" id=\"arrow-329a60c748e046bc947ea390e9c72ffd-0-23\" stroke-width=\"2px\" d=\"M4270,527.0 C4270,177.0 4940.0,177.0 4940.0,527.0\" fill=\"none\" stroke=\"currentColor\"/>\n",
       "    <text dy=\"1.25em\" style=\"font-size: 0.8em; letter-spacing: 1px\">\n",
       "        <textPath xlink:href=\"#arrow-329a60c748e046bc947ea390e9c72ffd-0-23\" class=\"displacy-label\" startOffset=\"50%\" side=\"left\" fill=\"currentColor\" text-anchor=\"middle\">det</textPath>\n",
       "    </text>\n",
       "    <path class=\"displacy-arrowhead\" d=\"M4270,529.0 L4262,517.0 4278,517.0\" fill=\"currentColor\"/>\n",
       "</g>\n",
       "\n",
       "<g class=\"displacy-arrow\">\n",
       "    <path class=\"displacy-arc\" id=\"arrow-329a60c748e046bc947ea390e9c72ffd-0-24\" stroke-width=\"2px\" d=\"M4445,527.0 C4445,264.5 4935.0,264.5 4935.0,527.0\" fill=\"none\" stroke=\"currentColor\"/>\n",
       "    <text dy=\"1.25em\" style=\"font-size: 0.8em; letter-spacing: 1px\">\n",
       "        <textPath xlink:href=\"#arrow-329a60c748e046bc947ea390e9c72ffd-0-24\" class=\"displacy-label\" startOffset=\"50%\" side=\"left\" fill=\"currentColor\" text-anchor=\"middle\">compound</textPath>\n",
       "    </text>\n",
       "    <path class=\"displacy-arrowhead\" d=\"M4445,529.0 L4437,517.0 4453,517.0\" fill=\"currentColor\"/>\n",
       "</g>\n",
       "\n",
       "<g class=\"displacy-arrow\">\n",
       "    <path class=\"displacy-arc\" id=\"arrow-329a60c748e046bc947ea390e9c72ffd-0-25\" stroke-width=\"2px\" d=\"M4620,527.0 C4620,352.0 4930.0,352.0 4930.0,527.0\" fill=\"none\" stroke=\"currentColor\"/>\n",
       "    <text dy=\"1.25em\" style=\"font-size: 0.8em; letter-spacing: 1px\">\n",
       "        <textPath xlink:href=\"#arrow-329a60c748e046bc947ea390e9c72ffd-0-25\" class=\"displacy-label\" startOffset=\"50%\" side=\"left\" fill=\"currentColor\" text-anchor=\"middle\">compound</textPath>\n",
       "    </text>\n",
       "    <path class=\"displacy-arrowhead\" d=\"M4620,529.0 L4612,517.0 4628,517.0\" fill=\"currentColor\"/>\n",
       "</g>\n",
       "\n",
       "<g class=\"displacy-arrow\">\n",
       "    <path class=\"displacy-arc\" id=\"arrow-329a60c748e046bc947ea390e9c72ffd-0-26\" stroke-width=\"2px\" d=\"M4795,527.0 C4795,439.5 4925.0,439.5 4925.0,527.0\" fill=\"none\" stroke=\"currentColor\"/>\n",
       "    <text dy=\"1.25em\" style=\"font-size: 0.8em; letter-spacing: 1px\">\n",
       "        <textPath xlink:href=\"#arrow-329a60c748e046bc947ea390e9c72ffd-0-26\" class=\"displacy-label\" startOffset=\"50%\" side=\"left\" fill=\"currentColor\" text-anchor=\"middle\">compound</textPath>\n",
       "    </text>\n",
       "    <path class=\"displacy-arrowhead\" d=\"M4795,529.0 L4787,517.0 4803,517.0\" fill=\"currentColor\"/>\n",
       "</g>\n",
       "\n",
       "<g class=\"displacy-arrow\">\n",
       "    <path class=\"displacy-arc\" id=\"arrow-329a60c748e046bc947ea390e9c72ffd-0-27\" stroke-width=\"2px\" d=\"M4095,527.0 C4095,89.5 4945.0,89.5 4945.0,527.0\" fill=\"none\" stroke=\"currentColor\"/>\n",
       "    <text dy=\"1.25em\" style=\"font-size: 0.8em; letter-spacing: 1px\">\n",
       "        <textPath xlink:href=\"#arrow-329a60c748e046bc947ea390e9c72ffd-0-27\" class=\"displacy-label\" startOffset=\"50%\" side=\"left\" fill=\"currentColor\" text-anchor=\"middle\">pobj</textPath>\n",
       "    </text>\n",
       "    <path class=\"displacy-arrowhead\" d=\"M4945.0,529.0 L4953.0,517.0 4937.0,517.0\" fill=\"currentColor\"/>\n",
       "</g>\n",
       "\n",
       "<g class=\"displacy-arrow\">\n",
       "    <path class=\"displacy-arc\" id=\"arrow-329a60c748e046bc947ea390e9c72ffd-0-28\" stroke-width=\"2px\" d=\"M4970,527.0 C4970,439.5 5100.0,439.5 5100.0,527.0\" fill=\"none\" stroke=\"currentColor\"/>\n",
       "    <text dy=\"1.25em\" style=\"font-size: 0.8em; letter-spacing: 1px\">\n",
       "        <textPath xlink:href=\"#arrow-329a60c748e046bc947ea390e9c72ffd-0-28\" class=\"displacy-label\" startOffset=\"50%\" side=\"left\" fill=\"currentColor\" text-anchor=\"middle\">prep</textPath>\n",
       "    </text>\n",
       "    <path class=\"displacy-arrowhead\" d=\"M5100.0,529.0 L5108.0,517.0 5092.0,517.0\" fill=\"currentColor\"/>\n",
       "</g>\n",
       "\n",
       "<g class=\"displacy-arrow\">\n",
       "    <path class=\"displacy-arc\" id=\"arrow-329a60c748e046bc947ea390e9c72ffd-0-29\" stroke-width=\"2px\" d=\"M5320,527.0 C5320,439.5 5450.0,439.5 5450.0,527.0\" fill=\"none\" stroke=\"currentColor\"/>\n",
       "    <text dy=\"1.25em\" style=\"font-size: 0.8em; letter-spacing: 1px\">\n",
       "        <textPath xlink:href=\"#arrow-329a60c748e046bc947ea390e9c72ffd-0-29\" class=\"displacy-label\" startOffset=\"50%\" side=\"left\" fill=\"currentColor\" text-anchor=\"middle\">compound</textPath>\n",
       "    </text>\n",
       "    <path class=\"displacy-arrowhead\" d=\"M5320,529.0 L5312,517.0 5328,517.0\" fill=\"currentColor\"/>\n",
       "</g>\n",
       "\n",
       "<g class=\"displacy-arrow\">\n",
       "    <path class=\"displacy-arc\" id=\"arrow-329a60c748e046bc947ea390e9c72ffd-0-30\" stroke-width=\"2px\" d=\"M5145,527.0 C5145,352.0 5455.0,352.0 5455.0,527.0\" fill=\"none\" stroke=\"currentColor\"/>\n",
       "    <text dy=\"1.25em\" style=\"font-size: 0.8em; letter-spacing: 1px\">\n",
       "        <textPath xlink:href=\"#arrow-329a60c748e046bc947ea390e9c72ffd-0-30\" class=\"displacy-label\" startOffset=\"50%\" side=\"left\" fill=\"currentColor\" text-anchor=\"middle\">pobj</textPath>\n",
       "    </text>\n",
       "    <path class=\"displacy-arrowhead\" d=\"M5455.0,529.0 L5463.0,517.0 5447.0,517.0\" fill=\"currentColor\"/>\n",
       "</g>\n",
       "\n",
       "<g class=\"displacy-arrow\">\n",
       "    <path class=\"displacy-arc\" id=\"arrow-329a60c748e046bc947ea390e9c72ffd-0-31\" stroke-width=\"2px\" d=\"M5670,527.0 C5670,352.0 5980.0,352.0 5980.0,527.0\" fill=\"none\" stroke=\"currentColor\"/>\n",
       "    <text dy=\"1.25em\" style=\"font-size: 0.8em; letter-spacing: 1px\">\n",
       "        <textPath xlink:href=\"#arrow-329a60c748e046bc947ea390e9c72ffd-0-31\" class=\"displacy-label\" startOffset=\"50%\" side=\"left\" fill=\"currentColor\" text-anchor=\"middle\">nsubj</textPath>\n",
       "    </text>\n",
       "    <path class=\"displacy-arrowhead\" d=\"M5670,529.0 L5662,517.0 5678,517.0\" fill=\"currentColor\"/>\n",
       "</g>\n",
       "\n",
       "<g class=\"displacy-arrow\">\n",
       "    <path class=\"displacy-arc\" id=\"arrow-329a60c748e046bc947ea390e9c72ffd-0-32\" stroke-width=\"2px\" d=\"M5845,527.0 C5845,439.5 5975.0,439.5 5975.0,527.0\" fill=\"none\" stroke=\"currentColor\"/>\n",
       "    <text dy=\"1.25em\" style=\"font-size: 0.8em; letter-spacing: 1px\">\n",
       "        <textPath xlink:href=\"#arrow-329a60c748e046bc947ea390e9c72ffd-0-32\" class=\"displacy-label\" startOffset=\"50%\" side=\"left\" fill=\"currentColor\" text-anchor=\"middle\">aux</textPath>\n",
       "    </text>\n",
       "    <path class=\"displacy-arrowhead\" d=\"M5845,529.0 L5837,517.0 5853,517.0\" fill=\"currentColor\"/>\n",
       "</g>\n",
       "\n",
       "<g class=\"displacy-arrow\">\n",
       "    <path class=\"displacy-arc\" id=\"arrow-329a60c748e046bc947ea390e9c72ffd-0-33\" stroke-width=\"2px\" d=\"M4970,527.0 C4970,264.5 5985.0,264.5 5985.0,527.0\" fill=\"none\" stroke=\"currentColor\"/>\n",
       "    <text dy=\"1.25em\" style=\"font-size: 0.8em; letter-spacing: 1px\">\n",
       "        <textPath xlink:href=\"#arrow-329a60c748e046bc947ea390e9c72ffd-0-33\" class=\"displacy-label\" startOffset=\"50%\" side=\"left\" fill=\"currentColor\" text-anchor=\"middle\">relcl</textPath>\n",
       "    </text>\n",
       "    <path class=\"displacy-arrowhead\" d=\"M5985.0,529.0 L5993.0,517.0 5977.0,517.0\" fill=\"currentColor\"/>\n",
       "</g>\n",
       "\n",
       "<g class=\"displacy-arrow\">\n",
       "    <path class=\"displacy-arc\" id=\"arrow-329a60c748e046bc947ea390e9c72ffd-0-34\" stroke-width=\"2px\" d=\"M6020,527.0 C6020,439.5 6150.0,439.5 6150.0,527.0\" fill=\"none\" stroke=\"currentColor\"/>\n",
       "    <text dy=\"1.25em\" style=\"font-size: 0.8em; letter-spacing: 1px\">\n",
       "        <textPath xlink:href=\"#arrow-329a60c748e046bc947ea390e9c72ffd-0-34\" class=\"displacy-label\" startOffset=\"50%\" side=\"left\" fill=\"currentColor\" text-anchor=\"middle\">prep</textPath>\n",
       "    </text>\n",
       "    <path class=\"displacy-arrowhead\" d=\"M6150.0,529.0 L6158.0,517.0 6142.0,517.0\" fill=\"currentColor\"/>\n",
       "</g>\n",
       "\n",
       "<g class=\"displacy-arrow\">\n",
       "    <path class=\"displacy-arc\" id=\"arrow-329a60c748e046bc947ea390e9c72ffd-0-35\" stroke-width=\"2px\" d=\"M6195,527.0 C6195,439.5 6325.0,439.5 6325.0,527.0\" fill=\"none\" stroke=\"currentColor\"/>\n",
       "    <text dy=\"1.25em\" style=\"font-size: 0.8em; letter-spacing: 1px\">\n",
       "        <textPath xlink:href=\"#arrow-329a60c748e046bc947ea390e9c72ffd-0-35\" class=\"displacy-label\" startOffset=\"50%\" side=\"left\" fill=\"currentColor\" text-anchor=\"middle\">pobj</textPath>\n",
       "    </text>\n",
       "    <path class=\"displacy-arrowhead\" d=\"M6325.0,529.0 L6333.0,517.0 6317.0,517.0\" fill=\"currentColor\"/>\n",
       "</g>\n",
       "\n",
       "<g class=\"displacy-arrow\">\n",
       "    <path class=\"displacy-arc\" id=\"arrow-329a60c748e046bc947ea390e9c72ffd-0-36\" stroke-width=\"2px\" d=\"M6020,527.0 C6020,352.0 6505.0,352.0 6505.0,527.0\" fill=\"none\" stroke=\"currentColor\"/>\n",
       "    <text dy=\"1.25em\" style=\"font-size: 0.8em; letter-spacing: 1px\">\n",
       "        <textPath xlink:href=\"#arrow-329a60c748e046bc947ea390e9c72ffd-0-36\" class=\"displacy-label\" startOffset=\"50%\" side=\"left\" fill=\"currentColor\" text-anchor=\"middle\">prep</textPath>\n",
       "    </text>\n",
       "    <path class=\"displacy-arrowhead\" d=\"M6505.0,529.0 L6513.0,517.0 6497.0,517.0\" fill=\"currentColor\"/>\n",
       "</g>\n",
       "\n",
       "<g class=\"displacy-arrow\">\n",
       "    <path class=\"displacy-arc\" id=\"arrow-329a60c748e046bc947ea390e9c72ffd-0-37\" stroke-width=\"2px\" d=\"M6545,527.0 C6545,439.5 6675.0,439.5 6675.0,527.0\" fill=\"none\" stroke=\"currentColor\"/>\n",
       "    <text dy=\"1.25em\" style=\"font-size: 0.8em; letter-spacing: 1px\">\n",
       "        <textPath xlink:href=\"#arrow-329a60c748e046bc947ea390e9c72ffd-0-37\" class=\"displacy-label\" startOffset=\"50%\" side=\"left\" fill=\"currentColor\" text-anchor=\"middle\">pobj</textPath>\n",
       "    </text>\n",
       "    <path class=\"displacy-arrowhead\" d=\"M6675.0,529.0 L6683.0,517.0 6667.0,517.0\" fill=\"currentColor\"/>\n",
       "</g>\n",
       "\n",
       "<g class=\"displacy-arrow\">\n",
       "    <path class=\"displacy-arc\" id=\"arrow-329a60c748e046bc947ea390e9c72ffd-0-38\" stroke-width=\"2px\" d=\"M6020,527.0 C6020,264.5 6860.0,264.5 6860.0,527.0\" fill=\"none\" stroke=\"currentColor\"/>\n",
       "    <text dy=\"1.25em\" style=\"font-size: 0.8em; letter-spacing: 1px\">\n",
       "        <textPath xlink:href=\"#arrow-329a60c748e046bc947ea390e9c72ffd-0-38\" class=\"displacy-label\" startOffset=\"50%\" side=\"left\" fill=\"currentColor\" text-anchor=\"middle\">prep</textPath>\n",
       "    </text>\n",
       "    <path class=\"displacy-arrowhead\" d=\"M6860.0,529.0 L6868.0,517.0 6852.0,517.0\" fill=\"currentColor\"/>\n",
       "</g>\n",
       "\n",
       "<g class=\"displacy-arrow\">\n",
       "    <path class=\"displacy-arc\" id=\"arrow-329a60c748e046bc947ea390e9c72ffd-0-39\" stroke-width=\"2px\" d=\"M7070,527.0 C7070,439.5 7200.0,439.5 7200.0,527.0\" fill=\"none\" stroke=\"currentColor\"/>\n",
       "    <text dy=\"1.25em\" style=\"font-size: 0.8em; letter-spacing: 1px\">\n",
       "        <textPath xlink:href=\"#arrow-329a60c748e046bc947ea390e9c72ffd-0-39\" class=\"displacy-label\" startOffset=\"50%\" side=\"left\" fill=\"currentColor\" text-anchor=\"middle\">compound</textPath>\n",
       "    </text>\n",
       "    <path class=\"displacy-arrowhead\" d=\"M7070,529.0 L7062,517.0 7078,517.0\" fill=\"currentColor\"/>\n",
       "</g>\n",
       "\n",
       "<g class=\"displacy-arrow\">\n",
       "    <path class=\"displacy-arc\" id=\"arrow-329a60c748e046bc947ea390e9c72ffd-0-40\" stroke-width=\"2px\" d=\"M6895,527.0 C6895,352.0 7205.0,352.0 7205.0,527.0\" fill=\"none\" stroke=\"currentColor\"/>\n",
       "    <text dy=\"1.25em\" style=\"font-size: 0.8em; letter-spacing: 1px\">\n",
       "        <textPath xlink:href=\"#arrow-329a60c748e046bc947ea390e9c72ffd-0-40\" class=\"displacy-label\" startOffset=\"50%\" side=\"left\" fill=\"currentColor\" text-anchor=\"middle\">pobj</textPath>\n",
       "    </text>\n",
       "    <path class=\"displacy-arrowhead\" d=\"M7205.0,529.0 L7213.0,517.0 7197.0,517.0\" fill=\"currentColor\"/>\n",
       "</g>\n",
       "\n",
       "<g class=\"displacy-arrow\">\n",
       "    <path class=\"displacy-arc\" id=\"arrow-329a60c748e046bc947ea390e9c72ffd-0-41\" stroke-width=\"2px\" d=\"M6020,527.0 C6020,177.0 7390.0,177.0 7390.0,527.0\" fill=\"none\" stroke=\"currentColor\"/>\n",
       "    <text dy=\"1.25em\" style=\"font-size: 0.8em; letter-spacing: 1px\">\n",
       "        <textPath xlink:href=\"#arrow-329a60c748e046bc947ea390e9c72ffd-0-41\" class=\"displacy-label\" startOffset=\"50%\" side=\"left\" fill=\"currentColor\" text-anchor=\"middle\">prep</textPath>\n",
       "    </text>\n",
       "    <path class=\"displacy-arrowhead\" d=\"M7390.0,529.0 L7398.0,517.0 7382.0,517.0\" fill=\"currentColor\"/>\n",
       "</g>\n",
       "\n",
       "<g class=\"displacy-arrow\">\n",
       "    <path class=\"displacy-arc\" id=\"arrow-329a60c748e046bc947ea390e9c72ffd-0-42\" stroke-width=\"2px\" d=\"M7420,527.0 C7420,439.5 7550.0,439.5 7550.0,527.0\" fill=\"none\" stroke=\"currentColor\"/>\n",
       "    <text dy=\"1.25em\" style=\"font-size: 0.8em; letter-spacing: 1px\">\n",
       "        <textPath xlink:href=\"#arrow-329a60c748e046bc947ea390e9c72ffd-0-42\" class=\"displacy-label\" startOffset=\"50%\" side=\"left\" fill=\"currentColor\" text-anchor=\"middle\">pobj</textPath>\n",
       "    </text>\n",
       "    <path class=\"displacy-arrowhead\" d=\"M7550.0,529.0 L7558.0,517.0 7542.0,517.0\" fill=\"currentColor\"/>\n",
       "</g>\n",
       "\n",
       "<g class=\"displacy-arrow\">\n",
       "    <path class=\"displacy-arc\" id=\"arrow-329a60c748e046bc947ea390e9c72ffd-0-43\" stroke-width=\"2px\" d=\"M7770,527.0 C7770,352.0 8080.0,352.0 8080.0,527.0\" fill=\"none\" stroke=\"currentColor\"/>\n",
       "    <text dy=\"1.25em\" style=\"font-size: 0.8em; letter-spacing: 1px\">\n",
       "        <textPath xlink:href=\"#arrow-329a60c748e046bc947ea390e9c72ffd-0-43\" class=\"displacy-label\" startOffset=\"50%\" side=\"left\" fill=\"currentColor\" text-anchor=\"middle\">expl</textPath>\n",
       "    </text>\n",
       "    <path class=\"displacy-arrowhead\" d=\"M7770,529.0 L7762,517.0 7778,517.0\" fill=\"currentColor\"/>\n",
       "</g>\n",
       "\n",
       "<g class=\"displacy-arrow\">\n",
       "    <path class=\"displacy-arc\" id=\"arrow-329a60c748e046bc947ea390e9c72ffd-0-44\" stroke-width=\"2px\" d=\"M7945,527.0 C7945,439.5 8075.0,439.5 8075.0,527.0\" fill=\"none\" stroke=\"currentColor\"/>\n",
       "    <text dy=\"1.25em\" style=\"font-size: 0.8em; letter-spacing: 1px\">\n",
       "        <textPath xlink:href=\"#arrow-329a60c748e046bc947ea390e9c72ffd-0-44\" class=\"displacy-label\" startOffset=\"50%\" side=\"left\" fill=\"currentColor\" text-anchor=\"middle\">aux</textPath>\n",
       "    </text>\n",
       "    <path class=\"displacy-arrowhead\" d=\"M7945,529.0 L7937,517.0 7953,517.0\" fill=\"currentColor\"/>\n",
       "</g>\n",
       "\n",
       "<g class=\"displacy-arrow\">\n",
       "    <path class=\"displacy-arc\" id=\"arrow-329a60c748e046bc947ea390e9c72ffd-0-45\" stroke-width=\"2px\" d=\"M8295,527.0 C8295,89.5 10545.0,89.5 10545.0,527.0\" fill=\"none\" stroke=\"currentColor\"/>\n",
       "    <text dy=\"1.25em\" style=\"font-size: 0.8em; letter-spacing: 1px\">\n",
       "        <textPath xlink:href=\"#arrow-329a60c748e046bc947ea390e9c72ffd-0-45\" class=\"displacy-label\" startOffset=\"50%\" side=\"left\" fill=\"currentColor\" text-anchor=\"middle\">nsubj</textPath>\n",
       "    </text>\n",
       "    <path class=\"displacy-arrowhead\" d=\"M8295,529.0 L8287,517.0 8303,517.0\" fill=\"currentColor\"/>\n",
       "</g>\n",
       "\n",
       "<g class=\"displacy-arrow\">\n",
       "    <path class=\"displacy-arc\" id=\"arrow-329a60c748e046bc947ea390e9c72ffd-0-46\" stroke-width=\"2px\" d=\"M8295,527.0 C8295,439.5 8425.0,439.5 8425.0,527.0\" fill=\"none\" stroke=\"currentColor\"/>\n",
       "    <text dy=\"1.25em\" style=\"font-size: 0.8em; letter-spacing: 1px\">\n",
       "        <textPath xlink:href=\"#arrow-329a60c748e046bc947ea390e9c72ffd-0-46\" class=\"displacy-label\" startOffset=\"50%\" side=\"left\" fill=\"currentColor\" text-anchor=\"middle\">cc</textPath>\n",
       "    </text>\n",
       "    <path class=\"displacy-arrowhead\" d=\"M8425.0,529.0 L8433.0,517.0 8417.0,517.0\" fill=\"currentColor\"/>\n",
       "</g>\n",
       "\n",
       "<g class=\"displacy-arrow\">\n",
       "    <path class=\"displacy-arc\" id=\"arrow-329a60c748e046bc947ea390e9c72ffd-0-47\" stroke-width=\"2px\" d=\"M8645,527.0 C8645,439.5 8775.0,439.5 8775.0,527.0\" fill=\"none\" stroke=\"currentColor\"/>\n",
       "    <text dy=\"1.25em\" style=\"font-size: 0.8em; letter-spacing: 1px\">\n",
       "        <textPath xlink:href=\"#arrow-329a60c748e046bc947ea390e9c72ffd-0-47\" class=\"displacy-label\" startOffset=\"50%\" side=\"left\" fill=\"currentColor\" text-anchor=\"middle\">compound</textPath>\n",
       "    </text>\n",
       "    <path class=\"displacy-arrowhead\" d=\"M8645,529.0 L8637,517.0 8653,517.0\" fill=\"currentColor\"/>\n",
       "</g>\n",
       "\n",
       "<g class=\"displacy-arrow\">\n",
       "    <path class=\"displacy-arc\" id=\"arrow-329a60c748e046bc947ea390e9c72ffd-0-48\" stroke-width=\"2px\" d=\"M8295,527.0 C8295,352.0 8780.0,352.0 8780.0,527.0\" fill=\"none\" stroke=\"currentColor\"/>\n",
       "    <text dy=\"1.25em\" style=\"font-size: 0.8em; letter-spacing: 1px\">\n",
       "        <textPath xlink:href=\"#arrow-329a60c748e046bc947ea390e9c72ffd-0-48\" class=\"displacy-label\" startOffset=\"50%\" side=\"left\" fill=\"currentColor\" text-anchor=\"middle\">conj</textPath>\n",
       "    </text>\n",
       "    <path class=\"displacy-arrowhead\" d=\"M8780.0,529.0 L8788.0,517.0 8772.0,517.0\" fill=\"currentColor\"/>\n",
       "</g>\n",
       "\n",
       "<g class=\"displacy-arrow\">\n",
       "    <path class=\"displacy-arc\" id=\"arrow-329a60c748e046bc947ea390e9c72ffd-0-49\" stroke-width=\"2px\" d=\"M8995,527.0 C8995,352.0 9305.0,352.0 9305.0,527.0\" fill=\"none\" stroke=\"currentColor\"/>\n",
       "    <text dy=\"1.25em\" style=\"font-size: 0.8em; letter-spacing: 1px\">\n",
       "        <textPath xlink:href=\"#arrow-329a60c748e046bc947ea390e9c72ffd-0-49\" class=\"displacy-label\" startOffset=\"50%\" side=\"left\" fill=\"currentColor\" text-anchor=\"middle\">advmod</textPath>\n",
       "    </text>\n",
       "    <path class=\"displacy-arrowhead\" d=\"M8995,529.0 L8987,517.0 9003,517.0\" fill=\"currentColor\"/>\n",
       "</g>\n",
       "\n",
       "<g class=\"displacy-arrow\">\n",
       "    <path class=\"displacy-arc\" id=\"arrow-329a60c748e046bc947ea390e9c72ffd-0-50\" stroke-width=\"2px\" d=\"M9170,527.0 C9170,439.5 9300.0,439.5 9300.0,527.0\" fill=\"none\" stroke=\"currentColor\"/>\n",
       "    <text dy=\"1.25em\" style=\"font-size: 0.8em; letter-spacing: 1px\">\n",
       "        <textPath xlink:href=\"#arrow-329a60c748e046bc947ea390e9c72ffd-0-50\" class=\"displacy-label\" startOffset=\"50%\" side=\"left\" fill=\"currentColor\" text-anchor=\"middle\">advmod</textPath>\n",
       "    </text>\n",
       "    <path class=\"displacy-arrowhead\" d=\"M9170,529.0 L9162,517.0 9178,517.0\" fill=\"currentColor\"/>\n",
       "</g>\n",
       "\n",
       "<g class=\"displacy-arrow\">\n",
       "    <path class=\"displacy-arc\" id=\"arrow-329a60c748e046bc947ea390e9c72ffd-0-51\" stroke-width=\"2px\" d=\"M8820,527.0 C8820,264.5 9310.0,264.5 9310.0,527.0\" fill=\"none\" stroke=\"currentColor\"/>\n",
       "    <text dy=\"1.25em\" style=\"font-size: 0.8em; letter-spacing: 1px\">\n",
       "        <textPath xlink:href=\"#arrow-329a60c748e046bc947ea390e9c72ffd-0-51\" class=\"displacy-label\" startOffset=\"50%\" side=\"left\" fill=\"currentColor\" text-anchor=\"middle\">cc</textPath>\n",
       "    </text>\n",
       "    <path class=\"displacy-arrowhead\" d=\"M9310.0,529.0 L9318.0,517.0 9302.0,517.0\" fill=\"currentColor\"/>\n",
       "</g>\n",
       "\n",
       "<g class=\"displacy-arrow\">\n",
       "    <path class=\"displacy-arc\" id=\"arrow-329a60c748e046bc947ea390e9c72ffd-0-52\" stroke-width=\"2px\" d=\"M9520,527.0 C9520,439.5 9650.0,439.5 9650.0,527.0\" fill=\"none\" stroke=\"currentColor\"/>\n",
       "    <text dy=\"1.25em\" style=\"font-size: 0.8em; letter-spacing: 1px\">\n",
       "        <textPath xlink:href=\"#arrow-329a60c748e046bc947ea390e9c72ffd-0-52\" class=\"displacy-label\" startOffset=\"50%\" side=\"left\" fill=\"currentColor\" text-anchor=\"middle\">compound</textPath>\n",
       "    </text>\n",
       "    <path class=\"displacy-arrowhead\" d=\"M9520,529.0 L9512,517.0 9528,517.0\" fill=\"currentColor\"/>\n",
       "</g>\n",
       "\n",
       "<g class=\"displacy-arrow\">\n",
       "    <path class=\"displacy-arc\" id=\"arrow-329a60c748e046bc947ea390e9c72ffd-0-53\" stroke-width=\"2px\" d=\"M8820,527.0 C8820,177.0 9665.0,177.0 9665.0,527.0\" fill=\"none\" stroke=\"currentColor\"/>\n",
       "    <text dy=\"1.25em\" style=\"font-size: 0.8em; letter-spacing: 1px\">\n",
       "        <textPath xlink:href=\"#arrow-329a60c748e046bc947ea390e9c72ffd-0-53\" class=\"displacy-label\" startOffset=\"50%\" side=\"left\" fill=\"currentColor\" text-anchor=\"middle\">conj</textPath>\n",
       "    </text>\n",
       "    <path class=\"displacy-arrowhead\" d=\"M9665.0,529.0 L9673.0,517.0 9657.0,517.0\" fill=\"currentColor\"/>\n",
       "</g>\n",
       "\n",
       "<g class=\"displacy-arrow\">\n",
       "    <path class=\"displacy-arc\" id=\"arrow-329a60c748e046bc947ea390e9c72ffd-0-54\" stroke-width=\"2px\" d=\"M9695,527.0 C9695,439.5 9825.0,439.5 9825.0,527.0\" fill=\"none\" stroke=\"currentColor\"/>\n",
       "    <text dy=\"1.25em\" style=\"font-size: 0.8em; letter-spacing: 1px\">\n",
       "        <textPath xlink:href=\"#arrow-329a60c748e046bc947ea390e9c72ffd-0-54\" class=\"displacy-label\" startOffset=\"50%\" side=\"left\" fill=\"currentColor\" text-anchor=\"middle\">cc</textPath>\n",
       "    </text>\n",
       "    <path class=\"displacy-arrowhead\" d=\"M9825.0,529.0 L9833.0,517.0 9817.0,517.0\" fill=\"currentColor\"/>\n",
       "</g>\n",
       "\n",
       "<g class=\"displacy-arrow\">\n",
       "    <path class=\"displacy-arc\" id=\"arrow-329a60c748e046bc947ea390e9c72ffd-0-55\" stroke-width=\"2px\" d=\"M9695,527.0 C9695,352.0 10005.0,352.0 10005.0,527.0\" fill=\"none\" stroke=\"currentColor\"/>\n",
       "    <text dy=\"1.25em\" style=\"font-size: 0.8em; letter-spacing: 1px\">\n",
       "        <textPath xlink:href=\"#arrow-329a60c748e046bc947ea390e9c72ffd-0-55\" class=\"displacy-label\" startOffset=\"50%\" side=\"left\" fill=\"currentColor\" text-anchor=\"middle\">conj</textPath>\n",
       "    </text>\n",
       "    <path class=\"displacy-arrowhead\" d=\"M10005.0,529.0 L10013.0,517.0 9997.0,517.0\" fill=\"currentColor\"/>\n",
       "</g>\n",
       "\n",
       "<g class=\"displacy-arrow\">\n",
       "    <path class=\"displacy-arc\" id=\"arrow-329a60c748e046bc947ea390e9c72ffd-0-56\" stroke-width=\"2px\" d=\"M9695,527.0 C9695,264.5 10185.0,264.5 10185.0,527.0\" fill=\"none\" stroke=\"currentColor\"/>\n",
       "    <text dy=\"1.25em\" style=\"font-size: 0.8em; letter-spacing: 1px\">\n",
       "        <textPath xlink:href=\"#arrow-329a60c748e046bc947ea390e9c72ffd-0-56\" class=\"displacy-label\" startOffset=\"50%\" side=\"left\" fill=\"currentColor\" text-anchor=\"middle\">conj</textPath>\n",
       "    </text>\n",
       "    <path class=\"displacy-arrowhead\" d=\"M10185.0,529.0 L10193.0,517.0 10177.0,517.0\" fill=\"currentColor\"/>\n",
       "</g>\n",
       "\n",
       "<g class=\"displacy-arrow\">\n",
       "    <path class=\"displacy-arc\" id=\"arrow-329a60c748e046bc947ea390e9c72ffd-0-57\" stroke-width=\"2px\" d=\"M10395,527.0 C10395,439.5 10525.0,439.5 10525.0,527.0\" fill=\"none\" stroke=\"currentColor\"/>\n",
       "    <text dy=\"1.25em\" style=\"font-size: 0.8em; letter-spacing: 1px\">\n",
       "        <textPath xlink:href=\"#arrow-329a60c748e046bc947ea390e9c72ffd-0-57\" class=\"displacy-label\" startOffset=\"50%\" side=\"left\" fill=\"currentColor\" text-anchor=\"middle\">aux</textPath>\n",
       "    </text>\n",
       "    <path class=\"displacy-arrowhead\" d=\"M10395,529.0 L10387,517.0 10403,517.0\" fill=\"currentColor\"/>\n",
       "</g>\n",
       "\n",
       "<g class=\"displacy-arrow\">\n",
       "    <path class=\"displacy-arc\" id=\"arrow-329a60c748e046bc947ea390e9c72ffd-0-58\" stroke-width=\"2px\" d=\"M8120,527.0 C8120,2.0 10550.0,2.0 10550.0,527.0\" fill=\"none\" stroke=\"currentColor\"/>\n",
       "    <text dy=\"1.25em\" style=\"font-size: 0.8em; letter-spacing: 1px\">\n",
       "        <textPath xlink:href=\"#arrow-329a60c748e046bc947ea390e9c72ffd-0-58\" class=\"displacy-label\" startOffset=\"50%\" side=\"left\" fill=\"currentColor\" text-anchor=\"middle\">ccomp</textPath>\n",
       "    </text>\n",
       "    <path class=\"displacy-arrowhead\" d=\"M10550.0,529.0 L10558.0,517.0 10542.0,517.0\" fill=\"currentColor\"/>\n",
       "</g>\n",
       "\n",
       "<g class=\"displacy-arrow\">\n",
       "    <path class=\"displacy-arc\" id=\"arrow-329a60c748e046bc947ea390e9c72ffd-0-59\" stroke-width=\"2px\" d=\"M10745,527.0 C10745,439.5 10875.0,439.5 10875.0,527.0\" fill=\"none\" stroke=\"currentColor\"/>\n",
       "    <text dy=\"1.25em\" style=\"font-size: 0.8em; letter-spacing: 1px\">\n",
       "        <textPath xlink:href=\"#arrow-329a60c748e046bc947ea390e9c72ffd-0-59\" class=\"displacy-label\" startOffset=\"50%\" side=\"left\" fill=\"currentColor\" text-anchor=\"middle\">det</textPath>\n",
       "    </text>\n",
       "    <path class=\"displacy-arrowhead\" d=\"M10745,529.0 L10737,517.0 10753,517.0\" fill=\"currentColor\"/>\n",
       "</g>\n",
       "\n",
       "<g class=\"displacy-arrow\">\n",
       "    <path class=\"displacy-arc\" id=\"arrow-329a60c748e046bc947ea390e9c72ffd-0-60\" stroke-width=\"2px\" d=\"M10570,527.0 C10570,352.0 10880.0,352.0 10880.0,527.0\" fill=\"none\" stroke=\"currentColor\"/>\n",
       "    <text dy=\"1.25em\" style=\"font-size: 0.8em; letter-spacing: 1px\">\n",
       "        <textPath xlink:href=\"#arrow-329a60c748e046bc947ea390e9c72ffd-0-60\" class=\"displacy-label\" startOffset=\"50%\" side=\"left\" fill=\"currentColor\" text-anchor=\"middle\">dobj</textPath>\n",
       "    </text>\n",
       "    <path class=\"displacy-arrowhead\" d=\"M10880.0,529.0 L10888.0,517.0 10872.0,517.0\" fill=\"currentColor\"/>\n",
       "</g>\n",
       "\n",
       "<g class=\"displacy-arrow\">\n",
       "    <path class=\"displacy-arc\" id=\"arrow-329a60c748e046bc947ea390e9c72ffd-0-61\" stroke-width=\"2px\" d=\"M11095,527.0 C11095,439.5 11225.0,439.5 11225.0,527.0\" fill=\"none\" stroke=\"currentColor\"/>\n",
       "    <text dy=\"1.25em\" style=\"font-size: 0.8em; letter-spacing: 1px\">\n",
       "        <textPath xlink:href=\"#arrow-329a60c748e046bc947ea390e9c72ffd-0-61\" class=\"displacy-label\" startOffset=\"50%\" side=\"left\" fill=\"currentColor\" text-anchor=\"middle\">aux</textPath>\n",
       "    </text>\n",
       "    <path class=\"displacy-arrowhead\" d=\"M11095,529.0 L11087,517.0 11103,517.0\" fill=\"currentColor\"/>\n",
       "</g>\n",
       "\n",
       "<g class=\"displacy-arrow\">\n",
       "    <path class=\"displacy-arc\" id=\"arrow-329a60c748e046bc947ea390e9c72ffd-0-62\" stroke-width=\"2px\" d=\"M10920,527.0 C10920,352.0 11230.0,352.0 11230.0,527.0\" fill=\"none\" stroke=\"currentColor\"/>\n",
       "    <text dy=\"1.25em\" style=\"font-size: 0.8em; letter-spacing: 1px\">\n",
       "        <textPath xlink:href=\"#arrow-329a60c748e046bc947ea390e9c72ffd-0-62\" class=\"displacy-label\" startOffset=\"50%\" side=\"left\" fill=\"currentColor\" text-anchor=\"middle\">acl</textPath>\n",
       "    </text>\n",
       "    <path class=\"displacy-arrowhead\" d=\"M11230.0,529.0 L11238.0,517.0 11222.0,517.0\" fill=\"currentColor\"/>\n",
       "</g>\n",
       "\n",
       "<g class=\"displacy-arrow\">\n",
       "    <path class=\"displacy-arc\" id=\"arrow-329a60c748e046bc947ea390e9c72ffd-0-63\" stroke-width=\"2px\" d=\"M11270,527.0 C11270,439.5 11400.0,439.5 11400.0,527.0\" fill=\"none\" stroke=\"currentColor\"/>\n",
       "    <text dy=\"1.25em\" style=\"font-size: 0.8em; letter-spacing: 1px\">\n",
       "        <textPath xlink:href=\"#arrow-329a60c748e046bc947ea390e9c72ffd-0-63\" class=\"displacy-label\" startOffset=\"50%\" side=\"left\" fill=\"currentColor\" text-anchor=\"middle\">prep</textPath>\n",
       "    </text>\n",
       "    <path class=\"displacy-arrowhead\" d=\"M11400.0,529.0 L11408.0,517.0 11392.0,517.0\" fill=\"currentColor\"/>\n",
       "</g>\n",
       "\n",
       "<g class=\"displacy-arrow\">\n",
       "    <path class=\"displacy-arc\" id=\"arrow-329a60c748e046bc947ea390e9c72ffd-0-64\" stroke-width=\"2px\" d=\"M11445,527.0 C11445,439.5 11575.0,439.5 11575.0,527.0\" fill=\"none\" stroke=\"currentColor\"/>\n",
       "    <text dy=\"1.25em\" style=\"font-size: 0.8em; letter-spacing: 1px\">\n",
       "        <textPath xlink:href=\"#arrow-329a60c748e046bc947ea390e9c72ffd-0-64\" class=\"displacy-label\" startOffset=\"50%\" side=\"left\" fill=\"currentColor\" text-anchor=\"middle\">pobj</textPath>\n",
       "    </text>\n",
       "    <path class=\"displacy-arrowhead\" d=\"M11575.0,529.0 L11583.0,517.0 11567.0,517.0\" fill=\"currentColor\"/>\n",
       "</g>\n",
       "\n",
       "<g class=\"displacy-arrow\">\n",
       "    <path class=\"displacy-arc\" id=\"arrow-329a60c748e046bc947ea390e9c72ffd-0-65\" stroke-width=\"2px\" d=\"M11620,527.0 C11620,439.5 11750.0,439.5 11750.0,527.0\" fill=\"none\" stroke=\"currentColor\"/>\n",
       "    <text dy=\"1.25em\" style=\"font-size: 0.8em; letter-spacing: 1px\">\n",
       "        <textPath xlink:href=\"#arrow-329a60c748e046bc947ea390e9c72ffd-0-65\" class=\"displacy-label\" startOffset=\"50%\" side=\"left\" fill=\"currentColor\" text-anchor=\"middle\">prep</textPath>\n",
       "    </text>\n",
       "    <path class=\"displacy-arrowhead\" d=\"M11750.0,529.0 L11758.0,517.0 11742.0,517.0\" fill=\"currentColor\"/>\n",
       "</g>\n",
       "\n",
       "<g class=\"displacy-arrow\">\n",
       "    <path class=\"displacy-arc\" id=\"arrow-329a60c748e046bc947ea390e9c72ffd-0-66\" stroke-width=\"2px\" d=\"M11970,527.0 C11970,439.5 12100.0,439.5 12100.0,527.0\" fill=\"none\" stroke=\"currentColor\"/>\n",
       "    <text dy=\"1.25em\" style=\"font-size: 0.8em; letter-spacing: 1px\">\n",
       "        <textPath xlink:href=\"#arrow-329a60c748e046bc947ea390e9c72ffd-0-66\" class=\"displacy-label\" startOffset=\"50%\" side=\"left\" fill=\"currentColor\" text-anchor=\"middle\">det</textPath>\n",
       "    </text>\n",
       "    <path class=\"displacy-arrowhead\" d=\"M11970,529.0 L11962,517.0 11978,517.0\" fill=\"currentColor\"/>\n",
       "</g>\n",
       "\n",
       "<g class=\"displacy-arrow\">\n",
       "    <path class=\"displacy-arc\" id=\"arrow-329a60c748e046bc947ea390e9c72ffd-0-67\" stroke-width=\"2px\" d=\"M11795,527.0 C11795,352.0 12105.0,352.0 12105.0,527.0\" fill=\"none\" stroke=\"currentColor\"/>\n",
       "    <text dy=\"1.25em\" style=\"font-size: 0.8em; letter-spacing: 1px\">\n",
       "        <textPath xlink:href=\"#arrow-329a60c748e046bc947ea390e9c72ffd-0-67\" class=\"displacy-label\" startOffset=\"50%\" side=\"left\" fill=\"currentColor\" text-anchor=\"middle\">pobj</textPath>\n",
       "    </text>\n",
       "    <path class=\"displacy-arrowhead\" d=\"M12105.0,529.0 L12113.0,517.0 12097.0,517.0\" fill=\"currentColor\"/>\n",
       "</g>\n",
       "\n",
       "<g class=\"displacy-arrow\">\n",
       "    <path class=\"displacy-arc\" id=\"arrow-329a60c748e046bc947ea390e9c72ffd-0-68\" stroke-width=\"2px\" d=\"M12145,527.0 C12145,439.5 12275.0,439.5 12275.0,527.0\" fill=\"none\" stroke=\"currentColor\"/>\n",
       "    <text dy=\"1.25em\" style=\"font-size: 0.8em; letter-spacing: 1px\">\n",
       "        <textPath xlink:href=\"#arrow-329a60c748e046bc947ea390e9c72ffd-0-68\" class=\"displacy-label\" startOffset=\"50%\" side=\"left\" fill=\"currentColor\" text-anchor=\"middle\">cc</textPath>\n",
       "    </text>\n",
       "    <path class=\"displacy-arrowhead\" d=\"M12275.0,529.0 L12283.0,517.0 12267.0,517.0\" fill=\"currentColor\"/>\n",
       "</g>\n",
       "\n",
       "<g class=\"displacy-arrow\">\n",
       "    <path class=\"displacy-arc\" id=\"arrow-329a60c748e046bc947ea390e9c72ffd-0-69\" stroke-width=\"2px\" d=\"M12145,527.0 C12145,352.0 12455.0,352.0 12455.0,527.0\" fill=\"none\" stroke=\"currentColor\"/>\n",
       "    <text dy=\"1.25em\" style=\"font-size: 0.8em; letter-spacing: 1px\">\n",
       "        <textPath xlink:href=\"#arrow-329a60c748e046bc947ea390e9c72ffd-0-69\" class=\"displacy-label\" startOffset=\"50%\" side=\"left\" fill=\"currentColor\" text-anchor=\"middle\">conj</textPath>\n",
       "    </text>\n",
       "    <path class=\"displacy-arrowhead\" d=\"M12455.0,529.0 L12463.0,517.0 12447.0,517.0\" fill=\"currentColor\"/>\n",
       "</g>\n",
       "\n",
       "<g class=\"displacy-arrow\">\n",
       "    <path class=\"displacy-arc\" id=\"arrow-329a60c748e046bc947ea390e9c72ffd-0-70\" stroke-width=\"2px\" d=\"M11270,527.0 C11270,264.5 12635.0,264.5 12635.0,527.0\" fill=\"none\" stroke=\"currentColor\"/>\n",
       "    <text dy=\"1.25em\" style=\"font-size: 0.8em; letter-spacing: 1px\">\n",
       "        <textPath xlink:href=\"#arrow-329a60c748e046bc947ea390e9c72ffd-0-70\" class=\"displacy-label\" startOffset=\"50%\" side=\"left\" fill=\"currentColor\" text-anchor=\"middle\">prep</textPath>\n",
       "    </text>\n",
       "    <path class=\"displacy-arrowhead\" d=\"M12635.0,529.0 L12643.0,517.0 12627.0,517.0\" fill=\"currentColor\"/>\n",
       "</g>\n",
       "\n",
       "<g class=\"displacy-arrow\">\n",
       "    <path class=\"displacy-arc\" id=\"arrow-329a60c748e046bc947ea390e9c72ffd-0-71\" stroke-width=\"2px\" d=\"M12670,527.0 C12670,439.5 12800.0,439.5 12800.0,527.0\" fill=\"none\" stroke=\"currentColor\"/>\n",
       "    <text dy=\"1.25em\" style=\"font-size: 0.8em; letter-spacing: 1px\">\n",
       "        <textPath xlink:href=\"#arrow-329a60c748e046bc947ea390e9c72ffd-0-71\" class=\"displacy-label\" startOffset=\"50%\" side=\"left\" fill=\"currentColor\" text-anchor=\"middle\">pobj</textPath>\n",
       "    </text>\n",
       "    <path class=\"displacy-arrowhead\" d=\"M12800.0,529.0 L12808.0,517.0 12792.0,517.0\" fill=\"currentColor\"/>\n",
       "</g>\n",
       "</svg></span>"
      ],
      "text/plain": [
       "<IPython.core.display.HTML object>"
      ]
     },
     "metadata": {},
     "output_type": "display_data"
    }
   ],
   "source": [
    "# Load the SpaCy English model. This model will be used for tokenisation, parsing, and named entity recognition.\n",
    "# Render the text with SpaCy's displaCy visualizer to show syntactic dependencies or named entities\n",
    "#Let's visualise the annotated sentence above\n",
    "\n",
    "from spacy import displacy\n",
    "\n",
    "#nlp = spacy.load(\"en_core_web_sm\") #uncomment if not loaded previously\n",
    "#doc = nlp(sentence)# check previous cell. That is the original cleaned sentence (only extra spaces and puncations were removed)\n",
    "displacy.render(doc, style=\"dep\")"
   ]
  },
  {
   "cell_type": "markdown",
   "metadata": {
    "id": "ewv6hvnaklNZ"
   },
   "source": [
    "- The output is a graphical representation of the sentence structure, where each word's role and its relationships with other words in the sentence are clearly displayed. This visualisation helps in quickly grasping complex sentence structures and is an invaluable tool for educators, students, and researchers studying computational linguistics or working with text-based data."
   ]
  },
  {
   "cell_type": "markdown",
   "metadata": {
    "id": "Am3SBT--lFBl"
   },
   "source": [
    "### Understanding Syntactic Dependencies\n",
    "\n",
    "Syntactic dependencies describe the grammatical relationships between words in a sentence, showing how words are connected to form meaningful structures. Each token in your DataFrame has a dependency tag that indicates its relationship to another token, which serves as the head of the phrase.\n",
    "\n",
    "- **nsubj (nominal subject)**: This label is for a noun phrase which is the syntactic subject of a clause. For example, in your data, \"Today\" and \"Mahmoud\" are subjects of their respective verbs.\n",
    "- **ROOT**: The root of the sentence has no dependent words and usually is the main verb or action word in the sentence.\n",
    "- **aux (auxiliary)**: This label is used for auxiliary verbs, which help express grammatical distinctions about the action/state of the main verb, like \"is\" showing tense.\n",
    "- **conj (conjunct)**: A word that is a conjunct joins together elements of the sentence.\n",
    "- **cc (coordinating conjunction)**: Words like \"and\" that link units of similar syntactic importance.\n",
    "- **compound**: Used for compound words or when two words are used together to form a single noun.\n",
    "- **dobj (direct object)**: Nouns that receive the action of the verb directly, like \"us\" receiving the action of \"showing.\"\n",
    "\n",
    "\n",
    "\n"
   ]
  },
  {
   "cell_type": "markdown",
   "metadata": {
    "id": "TVNxT3rQmabR"
   },
   "source": [
    "# Can we make it look a bit cooler?"
   ]
  },
  {
   "cell_type": "code",
   "execution_count": 37,
   "metadata": {
    "colab": {
     "base_uri": "https://localhost:8080/",
     "height": 628
    },
    "id": "p6nkd5Vos8IT",
    "outputId": "1e569a72-3bae-4072-b185-1b3452c00711"
   },
   "outputs": [
    {
     "data": {
      "text/html": [
       "<span class=\"tex2jax_ignore\"><svg xmlns=\"http://www.w3.org/2000/svg\" xmlns:xlink=\"http://www.w3.org/1999/xlink\" xml:lang=\"en\" id=\"c34a2f7254064dd09e01b2ab4f68a1c0-0\" class=\"displacy\" width=\"11150\" height=\"587.0\" direction=\"ltr\" style=\"max-width: none; height: 587.0px; color: black; background: lightblue; font-family: Source Sans Pro; direction: ltr\">\n",
       "<text class=\"displacy-token\" fill=\"currentColor\" text-anchor=\"middle\" y=\"497.0\">\n",
       "    <tspan class=\"displacy-word\" fill=\"currentColor\" x=\"50\">Today</tspan>\n",
       "    <tspan class=\"displacy-tag\" dy=\"2em\" fill=\"currentColor\" x=\"50\">NOUN</tspan>\n",
       "</text>\n",
       "\n",
       "<text class=\"displacy-token\" fill=\"currentColor\" text-anchor=\"middle\" y=\"497.0\">\n",
       "    <tspan class=\"displacy-word\" fill=\"currentColor\" x=\"200\">is</tspan>\n",
       "    <tspan class=\"displacy-tag\" dy=\"2em\" fill=\"currentColor\" x=\"200\">AUX</tspan>\n",
       "</text>\n",
       "\n",
       "<text class=\"displacy-token\" fill=\"currentColor\" text-anchor=\"middle\" y=\"497.0\">\n",
       "    <tspan class=\"displacy-word\" fill=\"currentColor\" x=\"350\">July</tspan>\n",
       "    <tspan class=\"displacy-tag\" dy=\"2em\" fill=\"currentColor\" x=\"350\">PROPN</tspan>\n",
       "</text>\n",
       "\n",
       "<text class=\"displacy-token\" fill=\"currentColor\" text-anchor=\"middle\" y=\"497.0\">\n",
       "    <tspan class=\"displacy-word\" fill=\"currentColor\" x=\"500\">24th</tspan>\n",
       "    <tspan class=\"displacy-tag\" dy=\"2em\" fill=\"currentColor\" x=\"500\">NOUN</tspan>\n",
       "</text>\n",
       "\n",
       "<text class=\"displacy-token\" fill=\"currentColor\" text-anchor=\"middle\" y=\"497.0\">\n",
       "    <tspan class=\"displacy-word\" fill=\"currentColor\" x=\"650\">2024</tspan>\n",
       "    <tspan class=\"displacy-tag\" dy=\"2em\" fill=\"currentColor\" x=\"650\">NUM</tspan>\n",
       "</text>\n",
       "\n",
       "<text class=\"displacy-token\" fill=\"currentColor\" text-anchor=\"middle\" y=\"497.0\">\n",
       "    <tspan class=\"displacy-word\" fill=\"currentColor\" x=\"800\">and</tspan>\n",
       "    <tspan class=\"displacy-tag\" dy=\"2em\" fill=\"currentColor\" x=\"800\">CCONJ</tspan>\n",
       "</text>\n",
       "\n",
       "<text class=\"displacy-token\" fill=\"currentColor\" text-anchor=\"middle\" y=\"497.0\">\n",
       "    <tspan class=\"displacy-word\" fill=\"currentColor\" x=\"950\">Mo</tspan>\n",
       "    <tspan class=\"displacy-tag\" dy=\"2em\" fill=\"currentColor\" x=\"950\">PROPN</tspan>\n",
       "</text>\n",
       "\n",
       "<text class=\"displacy-token\" fill=\"currentColor\" text-anchor=\"middle\" y=\"497.0\">\n",
       "    <tspan class=\"displacy-word\" fill=\"currentColor\" x=\"1100\">and</tspan>\n",
       "    <tspan class=\"displacy-tag\" dy=\"2em\" fill=\"currentColor\" x=\"1100\">CCONJ</tspan>\n",
       "</text>\n",
       "\n",
       "<text class=\"displacy-token\" fill=\"currentColor\" text-anchor=\"middle\" y=\"497.0\">\n",
       "    <tspan class=\"displacy-word\" fill=\"currentColor\" x=\"1250\">Nouran</tspan>\n",
       "    <tspan class=\"displacy-tag\" dy=\"2em\" fill=\"currentColor\" x=\"1250\">PROPN</tspan>\n",
       "</text>\n",
       "\n",
       "<text class=\"displacy-token\" fill=\"currentColor\" text-anchor=\"middle\" y=\"497.0\">\n",
       "    <tspan class=\"displacy-word\" fill=\"currentColor\" x=\"1400\">are</tspan>\n",
       "    <tspan class=\"displacy-tag\" dy=\"2em\" fill=\"currentColor\" x=\"1400\">AUX</tspan>\n",
       "</text>\n",
       "\n",
       "<text class=\"displacy-token\" fill=\"currentColor\" text-anchor=\"middle\" y=\"497.0\">\n",
       "    <tspan class=\"displacy-word\" fill=\"currentColor\" x=\"1550\">showing</tspan>\n",
       "    <tspan class=\"displacy-tag\" dy=\"2em\" fill=\"currentColor\" x=\"1550\">VERB</tspan>\n",
       "</text>\n",
       "\n",
       "<text class=\"displacy-token\" fill=\"currentColor\" text-anchor=\"middle\" y=\"497.0\">\n",
       "    <tspan class=\"displacy-word\" fill=\"currentColor\" x=\"1700\">us</tspan>\n",
       "    <tspan class=\"displacy-tag\" dy=\"2em\" fill=\"currentColor\" x=\"1700\">PRON</tspan>\n",
       "</text>\n",
       "\n",
       "<text class=\"displacy-token\" fill=\"currentColor\" text-anchor=\"middle\" y=\"497.0\">\n",
       "    <tspan class=\"displacy-word\" fill=\"currentColor\" x=\"1850\">how</tspan>\n",
       "    <tspan class=\"displacy-tag\" dy=\"2em\" fill=\"currentColor\" x=\"1850\">SCONJ</tspan>\n",
       "</text>\n",
       "\n",
       "<text class=\"displacy-token\" fill=\"currentColor\" text-anchor=\"middle\" y=\"497.0\">\n",
       "    <tspan class=\"displacy-word\" fill=\"currentColor\" x=\"2000\">to</tspan>\n",
       "    <tspan class=\"displacy-tag\" dy=\"2em\" fill=\"currentColor\" x=\"2000\">PART</tspan>\n",
       "</text>\n",
       "\n",
       "<text class=\"displacy-token\" fill=\"currentColor\" text-anchor=\"middle\" y=\"497.0\">\n",
       "    <tspan class=\"displacy-word\" fill=\"currentColor\" x=\"2150\">visualise</tspan>\n",
       "    <tspan class=\"displacy-tag\" dy=\"2em\" fill=\"currentColor\" x=\"2150\">VERB</tspan>\n",
       "</text>\n",
       "\n",
       "<text class=\"displacy-token\" fill=\"currentColor\" text-anchor=\"middle\" y=\"497.0\">\n",
       "    <tspan class=\"displacy-word\" fill=\"currentColor\" x=\"2300\">text</tspan>\n",
       "    <tspan class=\"displacy-tag\" dy=\"2em\" fill=\"currentColor\" x=\"2300\">NOUN</tspan>\n",
       "</text>\n",
       "\n",
       "<text class=\"displacy-token\" fill=\"currentColor\" text-anchor=\"middle\" y=\"497.0\">\n",
       "    <tspan class=\"displacy-word\" fill=\"currentColor\" x=\"2450\">online</tspan>\n",
       "    <tspan class=\"displacy-tag\" dy=\"2em\" fill=\"currentColor\" x=\"2450\">ADV</tspan>\n",
       "</text>\n",
       "\n",
       "<text class=\"displacy-token\" fill=\"currentColor\" text-anchor=\"middle\" y=\"497.0\">\n",
       "    <tspan class=\"displacy-word\" fill=\"currentColor\" x=\"2600\">at</tspan>\n",
       "    <tspan class=\"displacy-tag\" dy=\"2em\" fill=\"currentColor\" x=\"2600\">ADP</tspan>\n",
       "</text>\n",
       "\n",
       "<text class=\"displacy-token\" fill=\"currentColor\" text-anchor=\"middle\" y=\"497.0\">\n",
       "    <tspan class=\"displacy-word\" fill=\"currentColor\" x=\"2750\">Lancaster</tspan>\n",
       "    <tspan class=\"displacy-tag\" dy=\"2em\" fill=\"currentColor\" x=\"2750\">PROPN</tspan>\n",
       "</text>\n",
       "\n",
       "<text class=\"displacy-token\" fill=\"currentColor\" text-anchor=\"middle\" y=\"497.0\">\n",
       "    <tspan class=\"displacy-word\" fill=\"currentColor\" x=\"2900\">University</tspan>\n",
       "    <tspan class=\"displacy-tag\" dy=\"2em\" fill=\"currentColor\" x=\"2900\">PROPN</tspan>\n",
       "</text>\n",
       "\n",
       "<text class=\"displacy-token\" fill=\"currentColor\" text-anchor=\"middle\" y=\"497.0\">\n",
       "    <tspan class=\"displacy-word\" fill=\"currentColor\" x=\"3050\">This</tspan>\n",
       "    <tspan class=\"displacy-tag\" dy=\"2em\" fill=\"currentColor\" x=\"3050\">PRON</tspan>\n",
       "</text>\n",
       "\n",
       "<text class=\"displacy-token\" fill=\"currentColor\" text-anchor=\"middle\" y=\"497.0\">\n",
       "    <tspan class=\"displacy-word\" fill=\"currentColor\" x=\"3200\">is</tspan>\n",
       "    <tspan class=\"displacy-tag\" dy=\"2em\" fill=\"currentColor\" x=\"3200\">AUX</tspan>\n",
       "</text>\n",
       "\n",
       "<text class=\"displacy-token\" fill=\"currentColor\" text-anchor=\"middle\" y=\"497.0\">\n",
       "    <tspan class=\"displacy-word\" fill=\"currentColor\" x=\"3350\">part</tspan>\n",
       "    <tspan class=\"displacy-tag\" dy=\"2em\" fill=\"currentColor\" x=\"3350\">NOUN</tspan>\n",
       "</text>\n",
       "\n",
       "<text class=\"displacy-token\" fill=\"currentColor\" text-anchor=\"middle\" y=\"497.0\">\n",
       "    <tspan class=\"displacy-word\" fill=\"currentColor\" x=\"3500\">of</tspan>\n",
       "    <tspan class=\"displacy-tag\" dy=\"2em\" fill=\"currentColor\" x=\"3500\">ADP</tspan>\n",
       "</text>\n",
       "\n",
       "<text class=\"displacy-token\" fill=\"currentColor\" text-anchor=\"middle\" y=\"497.0\">\n",
       "    <tspan class=\"displacy-word\" fill=\"currentColor\" x=\"3650\">a</tspan>\n",
       "    <tspan class=\"displacy-tag\" dy=\"2em\" fill=\"currentColor\" x=\"3650\">DET</tspan>\n",
       "</text>\n",
       "\n",
       "<text class=\"displacy-token\" fill=\"currentColor\" text-anchor=\"middle\" y=\"497.0\">\n",
       "    <tspan class=\"displacy-word\" fill=\"currentColor\" x=\"3800\">UCREL</tspan>\n",
       "    <tspan class=\"displacy-tag\" dy=\"2em\" fill=\"currentColor\" x=\"3800\">PROPN</tspan>\n",
       "</text>\n",
       "\n",
       "<text class=\"displacy-token\" fill=\"currentColor\" text-anchor=\"middle\" y=\"497.0\">\n",
       "    <tspan class=\"displacy-word\" fill=\"currentColor\" x=\"3950\">NLP</tspan>\n",
       "    <tspan class=\"displacy-tag\" dy=\"2em\" fill=\"currentColor\" x=\"3950\">PROPN</tspan>\n",
       "</text>\n",
       "\n",
       "<text class=\"displacy-token\" fill=\"currentColor\" text-anchor=\"middle\" y=\"497.0\">\n",
       "    <tspan class=\"displacy-word\" fill=\"currentColor\" x=\"4100\">Summer</tspan>\n",
       "    <tspan class=\"displacy-tag\" dy=\"2em\" fill=\"currentColor\" x=\"4100\">PROPN</tspan>\n",
       "</text>\n",
       "\n",
       "<text class=\"displacy-token\" fill=\"currentColor\" text-anchor=\"middle\" y=\"497.0\">\n",
       "    <tspan class=\"displacy-word\" fill=\"currentColor\" x=\"4250\">School</tspan>\n",
       "    <tspan class=\"displacy-tag\" dy=\"2em\" fill=\"currentColor\" x=\"4250\">PROPN</tspan>\n",
       "</text>\n",
       "\n",
       "<text class=\"displacy-token\" fill=\"currentColor\" text-anchor=\"middle\" y=\"497.0\">\n",
       "    <tspan class=\"displacy-word\" fill=\"currentColor\" x=\"4400\">at</tspan>\n",
       "    <tspan class=\"displacy-tag\" dy=\"2em\" fill=\"currentColor\" x=\"4400\">ADP</tspan>\n",
       "</text>\n",
       "\n",
       "<text class=\"displacy-token\" fill=\"currentColor\" text-anchor=\"middle\" y=\"497.0\">\n",
       "    <tspan class=\"displacy-word\" fill=\"currentColor\" x=\"4550\">Lancaster</tspan>\n",
       "    <tspan class=\"displacy-tag\" dy=\"2em\" fill=\"currentColor\" x=\"4550\">PROPN</tspan>\n",
       "</text>\n",
       "\n",
       "<text class=\"displacy-token\" fill=\"currentColor\" text-anchor=\"middle\" y=\"497.0\">\n",
       "    <tspan class=\"displacy-word\" fill=\"currentColor\" x=\"4700\">University</tspan>\n",
       "    <tspan class=\"displacy-tag\" dy=\"2em\" fill=\"currentColor\" x=\"4700\">PROPN</tspan>\n",
       "</text>\n",
       "\n",
       "<text class=\"displacy-token\" fill=\"currentColor\" text-anchor=\"middle\" y=\"497.0\">\n",
       "    <tspan class=\"displacy-word\" fill=\"currentColor\" x=\"4850\">which</tspan>\n",
       "    <tspan class=\"displacy-tag\" dy=\"2em\" fill=\"currentColor\" x=\"4850\">PRON</tspan>\n",
       "</text>\n",
       "\n",
       "<text class=\"displacy-token\" fill=\"currentColor\" text-anchor=\"middle\" y=\"497.0\">\n",
       "    <tspan class=\"displacy-word\" fill=\"currentColor\" x=\"5000\">will</tspan>\n",
       "    <tspan class=\"displacy-tag\" dy=\"2em\" fill=\"currentColor\" x=\"5000\">AUX</tspan>\n",
       "</text>\n",
       "\n",
       "<text class=\"displacy-token\" fill=\"currentColor\" text-anchor=\"middle\" y=\"497.0\">\n",
       "    <tspan class=\"displacy-word\" fill=\"currentColor\" x=\"5150\">run</tspan>\n",
       "    <tspan class=\"displacy-tag\" dy=\"2em\" fill=\"currentColor\" x=\"5150\">VERB</tspan>\n",
       "</text>\n",
       "\n",
       "<text class=\"displacy-token\" fill=\"currentColor\" text-anchor=\"middle\" y=\"497.0\">\n",
       "    <tspan class=\"displacy-word\" fill=\"currentColor\" x=\"5300\">at</tspan>\n",
       "    <tspan class=\"displacy-tag\" dy=\"2em\" fill=\"currentColor\" x=\"5300\">ADP</tspan>\n",
       "</text>\n",
       "\n",
       "<text class=\"displacy-token\" fill=\"currentColor\" text-anchor=\"middle\" y=\"497.0\">\n",
       "    <tspan class=\"displacy-word\" fill=\"currentColor\" x=\"5450\">InfoLab21</tspan>\n",
       "    <tspan class=\"displacy-tag\" dy=\"2em\" fill=\"currentColor\" x=\"5450\">NOUN</tspan>\n",
       "</text>\n",
       "\n",
       "<text class=\"displacy-token\" fill=\"currentColor\" text-anchor=\"middle\" y=\"497.0\">\n",
       "    <tspan class=\"displacy-word\" fill=\"currentColor\" x=\"5600\">at</tspan>\n",
       "    <tspan class=\"displacy-tag\" dy=\"2em\" fill=\"currentColor\" x=\"5600\">ADP</tspan>\n",
       "</text>\n",
       "\n",
       "<text class=\"displacy-token\" fill=\"currentColor\" text-anchor=\"middle\" y=\"497.0\">\n",
       "    <tspan class=\"displacy-word\" fill=\"currentColor\" x=\"5750\">Lancaster</tspan>\n",
       "    <tspan class=\"displacy-tag\" dy=\"2em\" fill=\"currentColor\" x=\"5750\">PROPN</tspan>\n",
       "</text>\n",
       "\n",
       "<text class=\"displacy-token\" fill=\"currentColor\" text-anchor=\"middle\" y=\"497.0\">\n",
       "    <tspan class=\"displacy-word\" fill=\"currentColor\" x=\"5900\">from</tspan>\n",
       "    <tspan class=\"displacy-tag\" dy=\"2em\" fill=\"currentColor\" x=\"5900\">ADP</tspan>\n",
       "</text>\n",
       "\n",
       "<text class=\"displacy-token\" fill=\"currentColor\" text-anchor=\"middle\" y=\"497.0\">\n",
       "    <tspan class=\"displacy-word\" fill=\"currentColor\" x=\"6050\">July</tspan>\n",
       "    <tspan class=\"displacy-tag\" dy=\"2em\" fill=\"currentColor\" x=\"6050\">PROPN</tspan>\n",
       "</text>\n",
       "\n",
       "<text class=\"displacy-token\" fill=\"currentColor\" text-anchor=\"middle\" y=\"497.0\">\n",
       "    <tspan class=\"displacy-word\" fill=\"currentColor\" x=\"6200\">24th</tspan>\n",
       "    <tspan class=\"displacy-tag\" dy=\"2em\" fill=\"currentColor\" x=\"6200\">NOUN</tspan>\n",
       "</text>\n",
       "\n",
       "<text class=\"displacy-token\" fill=\"currentColor\" text-anchor=\"middle\" y=\"497.0\">\n",
       "    <tspan class=\"displacy-word\" fill=\"currentColor\" x=\"6350\">to</tspan>\n",
       "    <tspan class=\"displacy-tag\" dy=\"2em\" fill=\"currentColor\" x=\"6350\">ADP</tspan>\n",
       "</text>\n",
       "\n",
       "<text class=\"displacy-token\" fill=\"currentColor\" text-anchor=\"middle\" y=\"497.0\">\n",
       "    <tspan class=\"displacy-word\" fill=\"currentColor\" x=\"6500\">26th</tspan>\n",
       "    <tspan class=\"displacy-tag\" dy=\"2em\" fill=\"currentColor\" x=\"6500\">NOUN</tspan>\n",
       "</text>\n",
       "\n",
       "<text class=\"displacy-token\" fill=\"currentColor\" text-anchor=\"middle\" y=\"497.0\">\n",
       "    <tspan class=\"displacy-word\" fill=\"currentColor\" x=\"6650\">There</tspan>\n",
       "    <tspan class=\"displacy-tag\" dy=\"2em\" fill=\"currentColor\" x=\"6650\">PRON</tspan>\n",
       "</text>\n",
       "\n",
       "<text class=\"displacy-token\" fill=\"currentColor\" text-anchor=\"middle\" y=\"497.0\">\n",
       "    <tspan class=\"displacy-word\" fill=\"currentColor\" x=\"6800\">will</tspan>\n",
       "    <tspan class=\"displacy-tag\" dy=\"2em\" fill=\"currentColor\" x=\"6800\">AUX</tspan>\n",
       "</text>\n",
       "\n",
       "<text class=\"displacy-token\" fill=\"currentColor\" text-anchor=\"middle\" y=\"497.0\">\n",
       "    <tspan class=\"displacy-word\" fill=\"currentColor\" x=\"6950\">be</tspan>\n",
       "    <tspan class=\"displacy-tag\" dy=\"2em\" fill=\"currentColor\" x=\"6950\">AUX</tspan>\n",
       "</text>\n",
       "\n",
       "<text class=\"displacy-token\" fill=\"currentColor\" text-anchor=\"middle\" y=\"497.0\">\n",
       "    <tspan class=\"displacy-word\" fill=\"currentColor\" x=\"7100\">speakers</tspan>\n",
       "    <tspan class=\"displacy-tag\" dy=\"2em\" fill=\"currentColor\" x=\"7100\">NOUN</tspan>\n",
       "</text>\n",
       "\n",
       "<text class=\"displacy-token\" fill=\"currentColor\" text-anchor=\"middle\" y=\"497.0\">\n",
       "    <tspan class=\"displacy-word\" fill=\"currentColor\" x=\"7250\">and</tspan>\n",
       "    <tspan class=\"displacy-tag\" dy=\"2em\" fill=\"currentColor\" x=\"7250\">CCONJ</tspan>\n",
       "</text>\n",
       "\n",
       "<text class=\"displacy-token\" fill=\"currentColor\" text-anchor=\"middle\" y=\"497.0\">\n",
       "    <tspan class=\"displacy-word\" fill=\"currentColor\" x=\"7400\">NLP</tspan>\n",
       "    <tspan class=\"displacy-tag\" dy=\"2em\" fill=\"currentColor\" x=\"7400\">NOUN</tspan>\n",
       "</text>\n",
       "\n",
       "<text class=\"displacy-token\" fill=\"currentColor\" text-anchor=\"middle\" y=\"497.0\">\n",
       "    <tspan class=\"displacy-word\" fill=\"currentColor\" x=\"7550\">tutorials</tspan>\n",
       "    <tspan class=\"displacy-tag\" dy=\"2em\" fill=\"currentColor\" x=\"7550\">NOUN</tspan>\n",
       "</text>\n",
       "\n",
       "<text class=\"displacy-token\" fill=\"currentColor\" text-anchor=\"middle\" y=\"497.0\">\n",
       "    <tspan class=\"displacy-word\" fill=\"currentColor\" x=\"7700\">as</tspan>\n",
       "    <tspan class=\"displacy-tag\" dy=\"2em\" fill=\"currentColor\" x=\"7700\">ADV</tspan>\n",
       "</text>\n",
       "\n",
       "<text class=\"displacy-token\" fill=\"currentColor\" text-anchor=\"middle\" y=\"497.0\">\n",
       "    <tspan class=\"displacy-word\" fill=\"currentColor\" x=\"7850\">well</tspan>\n",
       "    <tspan class=\"displacy-tag\" dy=\"2em\" fill=\"currentColor\" x=\"7850\">ADV</tspan>\n",
       "</text>\n",
       "\n",
       "<text class=\"displacy-token\" fill=\"currentColor\" text-anchor=\"middle\" y=\"497.0\">\n",
       "    <tspan class=\"displacy-word\" fill=\"currentColor\" x=\"8000\">as</tspan>\n",
       "    <tspan class=\"displacy-tag\" dy=\"2em\" fill=\"currentColor\" x=\"8000\">ADP</tspan>\n",
       "</text>\n",
       "\n",
       "<text class=\"displacy-token\" fill=\"currentColor\" text-anchor=\"middle\" y=\"497.0\">\n",
       "    <tspan class=\"displacy-word\" fill=\"currentColor\" x=\"8150\">breakfast</tspan>\n",
       "    <tspan class=\"displacy-tag\" dy=\"2em\" fill=\"currentColor\" x=\"8150\">NOUN</tspan>\n",
       "</text>\n",
       "\n",
       "<text class=\"displacy-token\" fill=\"currentColor\" text-anchor=\"middle\" y=\"497.0\">\n",
       "    <tspan class=\"displacy-word\" fill=\"currentColor\" x=\"8300\">lunch</tspan>\n",
       "    <tspan class=\"displacy-tag\" dy=\"2em\" fill=\"currentColor\" x=\"8300\">NOUN</tspan>\n",
       "</text>\n",
       "\n",
       "<text class=\"displacy-token\" fill=\"currentColor\" text-anchor=\"middle\" y=\"497.0\">\n",
       "    <tspan class=\"displacy-word\" fill=\"currentColor\" x=\"8450\">and</tspan>\n",
       "    <tspan class=\"displacy-tag\" dy=\"2em\" fill=\"currentColor\" x=\"8450\">CCONJ</tspan>\n",
       "</text>\n",
       "\n",
       "<text class=\"displacy-token\" fill=\"currentColor\" text-anchor=\"middle\" y=\"497.0\">\n",
       "    <tspan class=\"displacy-word\" fill=\"currentColor\" x=\"8600\">dinners</tspan>\n",
       "    <tspan class=\"displacy-tag\" dy=\"2em\" fill=\"currentColor\" x=\"8600\">NOUN</tspan>\n",
       "</text>\n",
       "\n",
       "<text class=\"displacy-token\" fill=\"currentColor\" text-anchor=\"middle\" y=\"497.0\">\n",
       "    <tspan class=\"displacy-word\" fill=\"currentColor\" x=\"8750\">Attendees</tspan>\n",
       "    <tspan class=\"displacy-tag\" dy=\"2em\" fill=\"currentColor\" x=\"8750\">PROPN</tspan>\n",
       "</text>\n",
       "\n",
       "<text class=\"displacy-token\" fill=\"currentColor\" text-anchor=\"middle\" y=\"497.0\">\n",
       "    <tspan class=\"displacy-word\" fill=\"currentColor\" x=\"8900\">will</tspan>\n",
       "    <tspan class=\"displacy-tag\" dy=\"2em\" fill=\"currentColor\" x=\"8900\">AUX</tspan>\n",
       "</text>\n",
       "\n",
       "<text class=\"displacy-token\" fill=\"currentColor\" text-anchor=\"middle\" y=\"497.0\">\n",
       "    <tspan class=\"displacy-word\" fill=\"currentColor\" x=\"9050\">have</tspan>\n",
       "    <tspan class=\"displacy-tag\" dy=\"2em\" fill=\"currentColor\" x=\"9050\">VERB</tspan>\n",
       "</text>\n",
       "\n",
       "<text class=\"displacy-token\" fill=\"currentColor\" text-anchor=\"middle\" y=\"497.0\">\n",
       "    <tspan class=\"displacy-word\" fill=\"currentColor\" x=\"9200\">the</tspan>\n",
       "    <tspan class=\"displacy-tag\" dy=\"2em\" fill=\"currentColor\" x=\"9200\">DET</tspan>\n",
       "</text>\n",
       "\n",
       "<text class=\"displacy-token\" fill=\"currentColor\" text-anchor=\"middle\" y=\"497.0\">\n",
       "    <tspan class=\"displacy-word\" fill=\"currentColor\" x=\"9350\">opportunity</tspan>\n",
       "    <tspan class=\"displacy-tag\" dy=\"2em\" fill=\"currentColor\" x=\"9350\">NOUN</tspan>\n",
       "</text>\n",
       "\n",
       "<text class=\"displacy-token\" fill=\"currentColor\" text-anchor=\"middle\" y=\"497.0\">\n",
       "    <tspan class=\"displacy-word\" fill=\"currentColor\" x=\"9500\">to</tspan>\n",
       "    <tspan class=\"displacy-tag\" dy=\"2em\" fill=\"currentColor\" x=\"9500\">PART</tspan>\n",
       "</text>\n",
       "\n",
       "<text class=\"displacy-token\" fill=\"currentColor\" text-anchor=\"middle\" y=\"497.0\">\n",
       "    <tspan class=\"displacy-word\" fill=\"currentColor\" x=\"9650\">learn</tspan>\n",
       "    <tspan class=\"displacy-tag\" dy=\"2em\" fill=\"currentColor\" x=\"9650\">VERB</tspan>\n",
       "</text>\n",
       "\n",
       "<text class=\"displacy-token\" fill=\"currentColor\" text-anchor=\"middle\" y=\"497.0\">\n",
       "    <tspan class=\"displacy-word\" fill=\"currentColor\" x=\"9800\">from</tspan>\n",
       "    <tspan class=\"displacy-tag\" dy=\"2em\" fill=\"currentColor\" x=\"9800\">ADP</tspan>\n",
       "</text>\n",
       "\n",
       "<text class=\"displacy-token\" fill=\"currentColor\" text-anchor=\"middle\" y=\"497.0\">\n",
       "    <tspan class=\"displacy-word\" fill=\"currentColor\" x=\"9950\">experts</tspan>\n",
       "    <tspan class=\"displacy-tag\" dy=\"2em\" fill=\"currentColor\" x=\"9950\">NOUN</tspan>\n",
       "</text>\n",
       "\n",
       "<text class=\"displacy-token\" fill=\"currentColor\" text-anchor=\"middle\" y=\"497.0\">\n",
       "    <tspan class=\"displacy-word\" fill=\"currentColor\" x=\"10100\">in</tspan>\n",
       "    <tspan class=\"displacy-tag\" dy=\"2em\" fill=\"currentColor\" x=\"10100\">ADP</tspan>\n",
       "</text>\n",
       "\n",
       "<text class=\"displacy-token\" fill=\"currentColor\" text-anchor=\"middle\" y=\"497.0\">\n",
       "    <tspan class=\"displacy-word\" fill=\"currentColor\" x=\"10250\">the</tspan>\n",
       "    <tspan class=\"displacy-tag\" dy=\"2em\" fill=\"currentColor\" x=\"10250\">DET</tspan>\n",
       "</text>\n",
       "\n",
       "<text class=\"displacy-token\" fill=\"currentColor\" text-anchor=\"middle\" y=\"497.0\">\n",
       "    <tspan class=\"displacy-word\" fill=\"currentColor\" x=\"10400\">field</tspan>\n",
       "    <tspan class=\"displacy-tag\" dy=\"2em\" fill=\"currentColor\" x=\"10400\">NOUN</tspan>\n",
       "</text>\n",
       "\n",
       "<text class=\"displacy-token\" fill=\"currentColor\" text-anchor=\"middle\" y=\"497.0\">\n",
       "    <tspan class=\"displacy-word\" fill=\"currentColor\" x=\"10550\">and</tspan>\n",
       "    <tspan class=\"displacy-tag\" dy=\"2em\" fill=\"currentColor\" x=\"10550\">CCONJ</tspan>\n",
       "</text>\n",
       "\n",
       "<text class=\"displacy-token\" fill=\"currentColor\" text-anchor=\"middle\" y=\"497.0\">\n",
       "    <tspan class=\"displacy-word\" fill=\"currentColor\" x=\"10700\">network</tspan>\n",
       "    <tspan class=\"displacy-tag\" dy=\"2em\" fill=\"currentColor\" x=\"10700\">NOUN</tspan>\n",
       "</text>\n",
       "\n",
       "<text class=\"displacy-token\" fill=\"currentColor\" text-anchor=\"middle\" y=\"497.0\">\n",
       "    <tspan class=\"displacy-word\" fill=\"currentColor\" x=\"10850\">with</tspan>\n",
       "    <tspan class=\"displacy-tag\" dy=\"2em\" fill=\"currentColor\" x=\"10850\">ADP</tspan>\n",
       "</text>\n",
       "\n",
       "<text class=\"displacy-token\" fill=\"currentColor\" text-anchor=\"middle\" y=\"497.0\">\n",
       "    <tspan class=\"displacy-word\" fill=\"currentColor\" x=\"11000\">peers</tspan>\n",
       "    <tspan class=\"displacy-tag\" dy=\"2em\" fill=\"currentColor\" x=\"11000\">NOUN</tspan>\n",
       "</text>\n",
       "\n",
       "<g class=\"displacy-arrow\">\n",
       "    <path class=\"displacy-arc\" id=\"arrow-c34a2f7254064dd09e01b2ab4f68a1c0-0-0\" stroke-width=\"2px\" d=\"M62,452.0 62,427.0 185.0,427.0 185.0,452.0\" fill=\"none\" stroke=\"currentColor\"/>\n",
       "    <text dy=\"1.25em\" style=\"font-size: 0.8em; letter-spacing: 1px\">\n",
       "        <textPath xlink:href=\"#arrow-c34a2f7254064dd09e01b2ab4f68a1c0-0-0\" class=\"displacy-label\" startOffset=\"50%\" side=\"left\" fill=\"currentColor\" text-anchor=\"middle\">npadvmod</textPath>\n",
       "    </text>\n",
       "    <path class=\"displacy-arrowhead\" d=\"M62,454.0 L58,446.0 66,446.0\" fill=\"currentColor\"/>\n",
       "</g>\n",
       "\n",
       "<g class=\"displacy-arrow\">\n",
       "    <path class=\"displacy-arc\" id=\"arrow-c34a2f7254064dd09e01b2ab4f68a1c0-0-1\" stroke-width=\"2px\" d=\"M362,452.0 362,427.0 485.0,427.0 485.0,452.0\" fill=\"none\" stroke=\"currentColor\"/>\n",
       "    <text dy=\"1.25em\" style=\"font-size: 0.8em; letter-spacing: 1px\">\n",
       "        <textPath xlink:href=\"#arrow-c34a2f7254064dd09e01b2ab4f68a1c0-0-1\" class=\"displacy-label\" startOffset=\"50%\" side=\"left\" fill=\"currentColor\" text-anchor=\"middle\">compound</textPath>\n",
       "    </text>\n",
       "    <path class=\"displacy-arrowhead\" d=\"M362,454.0 L358,446.0 366,446.0\" fill=\"currentColor\"/>\n",
       "</g>\n",
       "\n",
       "<g class=\"displacy-arrow\">\n",
       "    <path class=\"displacy-arc\" id=\"arrow-c34a2f7254064dd09e01b2ab4f68a1c0-0-2\" stroke-width=\"2px\" d=\"M212,452.0 212,402.0 488.0,402.0 488.0,452.0\" fill=\"none\" stroke=\"currentColor\"/>\n",
       "    <text dy=\"1.25em\" style=\"font-size: 0.8em; letter-spacing: 1px\">\n",
       "        <textPath xlink:href=\"#arrow-c34a2f7254064dd09e01b2ab4f68a1c0-0-2\" class=\"displacy-label\" startOffset=\"50%\" side=\"left\" fill=\"currentColor\" text-anchor=\"middle\">attr</textPath>\n",
       "    </text>\n",
       "    <path class=\"displacy-arrowhead\" d=\"M488.0,454.0 L492.0,446.0 484.0,446.0\" fill=\"currentColor\"/>\n",
       "</g>\n",
       "\n",
       "<g class=\"displacy-arrow\">\n",
       "    <path class=\"displacy-arc\" id=\"arrow-c34a2f7254064dd09e01b2ab4f68a1c0-0-3\" stroke-width=\"2px\" d=\"M512,452.0 512,427.0 635.0,427.0 635.0,452.0\" fill=\"none\" stroke=\"currentColor\"/>\n",
       "    <text dy=\"1.25em\" style=\"font-size: 0.8em; letter-spacing: 1px\">\n",
       "        <textPath xlink:href=\"#arrow-c34a2f7254064dd09e01b2ab4f68a1c0-0-3\" class=\"displacy-label\" startOffset=\"50%\" side=\"left\" fill=\"currentColor\" text-anchor=\"middle\">nummod</textPath>\n",
       "    </text>\n",
       "    <path class=\"displacy-arrowhead\" d=\"M635.0,454.0 L639.0,446.0 631.0,446.0\" fill=\"currentColor\"/>\n",
       "</g>\n",
       "\n",
       "<g class=\"displacy-arrow\">\n",
       "    <path class=\"displacy-arc\" id=\"arrow-c34a2f7254064dd09e01b2ab4f68a1c0-0-4\" stroke-width=\"2px\" d=\"M212,452.0 212,377.0 791.0,377.0 791.0,452.0\" fill=\"none\" stroke=\"currentColor\"/>\n",
       "    <text dy=\"1.25em\" style=\"font-size: 0.8em; letter-spacing: 1px\">\n",
       "        <textPath xlink:href=\"#arrow-c34a2f7254064dd09e01b2ab4f68a1c0-0-4\" class=\"displacy-label\" startOffset=\"50%\" side=\"left\" fill=\"currentColor\" text-anchor=\"middle\">cc</textPath>\n",
       "    </text>\n",
       "    <path class=\"displacy-arrowhead\" d=\"M791.0,454.0 L795.0,446.0 787.0,446.0\" fill=\"currentColor\"/>\n",
       "</g>\n",
       "\n",
       "<g class=\"displacy-arrow\">\n",
       "    <path class=\"displacy-arc\" id=\"arrow-c34a2f7254064dd09e01b2ab4f68a1c0-0-5\" stroke-width=\"2px\" d=\"M962,452.0 962,377.0 1541.0,377.0 1541.0,452.0\" fill=\"none\" stroke=\"currentColor\"/>\n",
       "    <text dy=\"1.25em\" style=\"font-size: 0.8em; letter-spacing: 1px\">\n",
       "        <textPath xlink:href=\"#arrow-c34a2f7254064dd09e01b2ab4f68a1c0-0-5\" class=\"displacy-label\" startOffset=\"50%\" side=\"left\" fill=\"currentColor\" text-anchor=\"middle\">nsubj</textPath>\n",
       "    </text>\n",
       "    <path class=\"displacy-arrowhead\" d=\"M962,454.0 L958,446.0 966,446.0\" fill=\"currentColor\"/>\n",
       "</g>\n",
       "\n",
       "<g class=\"displacy-arrow\">\n",
       "    <path class=\"displacy-arc\" id=\"arrow-c34a2f7254064dd09e01b2ab4f68a1c0-0-6\" stroke-width=\"2px\" d=\"M962,452.0 962,427.0 1085.0,427.0 1085.0,452.0\" fill=\"none\" stroke=\"currentColor\"/>\n",
       "    <text dy=\"1.25em\" style=\"font-size: 0.8em; letter-spacing: 1px\">\n",
       "        <textPath xlink:href=\"#arrow-c34a2f7254064dd09e01b2ab4f68a1c0-0-6\" class=\"displacy-label\" startOffset=\"50%\" side=\"left\" fill=\"currentColor\" text-anchor=\"middle\">cc</textPath>\n",
       "    </text>\n",
       "    <path class=\"displacy-arrowhead\" d=\"M1085.0,454.0 L1089.0,446.0 1081.0,446.0\" fill=\"currentColor\"/>\n",
       "</g>\n",
       "\n",
       "<g class=\"displacy-arrow\">\n",
       "    <path class=\"displacy-arc\" id=\"arrow-c34a2f7254064dd09e01b2ab4f68a1c0-0-7\" stroke-width=\"2px\" d=\"M962,452.0 962,402.0 1238.0,402.0 1238.0,452.0\" fill=\"none\" stroke=\"currentColor\"/>\n",
       "    <text dy=\"1.25em\" style=\"font-size: 0.8em; letter-spacing: 1px\">\n",
       "        <textPath xlink:href=\"#arrow-c34a2f7254064dd09e01b2ab4f68a1c0-0-7\" class=\"displacy-label\" startOffset=\"50%\" side=\"left\" fill=\"currentColor\" text-anchor=\"middle\">conj</textPath>\n",
       "    </text>\n",
       "    <path class=\"displacy-arrowhead\" d=\"M1238.0,454.0 L1242.0,446.0 1234.0,446.0\" fill=\"currentColor\"/>\n",
       "</g>\n",
       "\n",
       "<g class=\"displacy-arrow\">\n",
       "    <path class=\"displacy-arc\" id=\"arrow-c34a2f7254064dd09e01b2ab4f68a1c0-0-8\" stroke-width=\"2px\" d=\"M1412,452.0 1412,427.0 1535.0,427.0 1535.0,452.0\" fill=\"none\" stroke=\"currentColor\"/>\n",
       "    <text dy=\"1.25em\" style=\"font-size: 0.8em; letter-spacing: 1px\">\n",
       "        <textPath xlink:href=\"#arrow-c34a2f7254064dd09e01b2ab4f68a1c0-0-8\" class=\"displacy-label\" startOffset=\"50%\" side=\"left\" fill=\"currentColor\" text-anchor=\"middle\">aux</textPath>\n",
       "    </text>\n",
       "    <path class=\"displacy-arrowhead\" d=\"M1412,454.0 L1408,446.0 1416,446.0\" fill=\"currentColor\"/>\n",
       "</g>\n",
       "\n",
       "<g class=\"displacy-arrow\">\n",
       "    <path class=\"displacy-arc\" id=\"arrow-c34a2f7254064dd09e01b2ab4f68a1c0-0-9\" stroke-width=\"2px\" d=\"M212,452.0 212,352.0 1544.0,352.0 1544.0,452.0\" fill=\"none\" stroke=\"currentColor\"/>\n",
       "    <text dy=\"1.25em\" style=\"font-size: 0.8em; letter-spacing: 1px\">\n",
       "        <textPath xlink:href=\"#arrow-c34a2f7254064dd09e01b2ab4f68a1c0-0-9\" class=\"displacy-label\" startOffset=\"50%\" side=\"left\" fill=\"currentColor\" text-anchor=\"middle\">conj</textPath>\n",
       "    </text>\n",
       "    <path class=\"displacy-arrowhead\" d=\"M1544.0,454.0 L1548.0,446.0 1540.0,446.0\" fill=\"currentColor\"/>\n",
       "</g>\n",
       "\n",
       "<g class=\"displacy-arrow\">\n",
       "    <path class=\"displacy-arc\" id=\"arrow-c34a2f7254064dd09e01b2ab4f68a1c0-0-10\" stroke-width=\"2px\" d=\"M1562,452.0 1562,427.0 1685.0,427.0 1685.0,452.0\" fill=\"none\" stroke=\"currentColor\"/>\n",
       "    <text dy=\"1.25em\" style=\"font-size: 0.8em; letter-spacing: 1px\">\n",
       "        <textPath xlink:href=\"#arrow-c34a2f7254064dd09e01b2ab4f68a1c0-0-10\" class=\"displacy-label\" startOffset=\"50%\" side=\"left\" fill=\"currentColor\" text-anchor=\"middle\">dobj</textPath>\n",
       "    </text>\n",
       "    <path class=\"displacy-arrowhead\" d=\"M1685.0,454.0 L1689.0,446.0 1681.0,446.0\" fill=\"currentColor\"/>\n",
       "</g>\n",
       "\n",
       "<g class=\"displacy-arrow\">\n",
       "    <path class=\"displacy-arc\" id=\"arrow-c34a2f7254064dd09e01b2ab4f68a1c0-0-11\" stroke-width=\"2px\" d=\"M1862,452.0 1862,402.0 2138.0,402.0 2138.0,452.0\" fill=\"none\" stroke=\"currentColor\"/>\n",
       "    <text dy=\"1.25em\" style=\"font-size: 0.8em; letter-spacing: 1px\">\n",
       "        <textPath xlink:href=\"#arrow-c34a2f7254064dd09e01b2ab4f68a1c0-0-11\" class=\"displacy-label\" startOffset=\"50%\" side=\"left\" fill=\"currentColor\" text-anchor=\"middle\">advmod</textPath>\n",
       "    </text>\n",
       "    <path class=\"displacy-arrowhead\" d=\"M1862,454.0 L1858,446.0 1866,446.0\" fill=\"currentColor\"/>\n",
       "</g>\n",
       "\n",
       "<g class=\"displacy-arrow\">\n",
       "    <path class=\"displacy-arc\" id=\"arrow-c34a2f7254064dd09e01b2ab4f68a1c0-0-12\" stroke-width=\"2px\" d=\"M2012,452.0 2012,427.0 2135.0,427.0 2135.0,452.0\" fill=\"none\" stroke=\"currentColor\"/>\n",
       "    <text dy=\"1.25em\" style=\"font-size: 0.8em; letter-spacing: 1px\">\n",
       "        <textPath xlink:href=\"#arrow-c34a2f7254064dd09e01b2ab4f68a1c0-0-12\" class=\"displacy-label\" startOffset=\"50%\" side=\"left\" fill=\"currentColor\" text-anchor=\"middle\">aux</textPath>\n",
       "    </text>\n",
       "    <path class=\"displacy-arrowhead\" d=\"M2012,454.0 L2008,446.0 2016,446.0\" fill=\"currentColor\"/>\n",
       "</g>\n",
       "\n",
       "<g class=\"displacy-arrow\">\n",
       "    <path class=\"displacy-arc\" id=\"arrow-c34a2f7254064dd09e01b2ab4f68a1c0-0-13\" stroke-width=\"2px\" d=\"M1562,452.0 1562,377.0 2141.0,377.0 2141.0,452.0\" fill=\"none\" stroke=\"currentColor\"/>\n",
       "    <text dy=\"1.25em\" style=\"font-size: 0.8em; letter-spacing: 1px\">\n",
       "        <textPath xlink:href=\"#arrow-c34a2f7254064dd09e01b2ab4f68a1c0-0-13\" class=\"displacy-label\" startOffset=\"50%\" side=\"left\" fill=\"currentColor\" text-anchor=\"middle\">xcomp</textPath>\n",
       "    </text>\n",
       "    <path class=\"displacy-arrowhead\" d=\"M2141.0,454.0 L2145.0,446.0 2137.0,446.0\" fill=\"currentColor\"/>\n",
       "</g>\n",
       "\n",
       "<g class=\"displacy-arrow\">\n",
       "    <path class=\"displacy-arc\" id=\"arrow-c34a2f7254064dd09e01b2ab4f68a1c0-0-14\" stroke-width=\"2px\" d=\"M2162,452.0 2162,427.0 2285.0,427.0 2285.0,452.0\" fill=\"none\" stroke=\"currentColor\"/>\n",
       "    <text dy=\"1.25em\" style=\"font-size: 0.8em; letter-spacing: 1px\">\n",
       "        <textPath xlink:href=\"#arrow-c34a2f7254064dd09e01b2ab4f68a1c0-0-14\" class=\"displacy-label\" startOffset=\"50%\" side=\"left\" fill=\"currentColor\" text-anchor=\"middle\">dobj</textPath>\n",
       "    </text>\n",
       "    <path class=\"displacy-arrowhead\" d=\"M2285.0,454.0 L2289.0,446.0 2281.0,446.0\" fill=\"currentColor\"/>\n",
       "</g>\n",
       "\n",
       "<g class=\"displacy-arrow\">\n",
       "    <path class=\"displacy-arc\" id=\"arrow-c34a2f7254064dd09e01b2ab4f68a1c0-0-15\" stroke-width=\"2px\" d=\"M2162,452.0 2162,402.0 2438.0,402.0 2438.0,452.0\" fill=\"none\" stroke=\"currentColor\"/>\n",
       "    <text dy=\"1.25em\" style=\"font-size: 0.8em; letter-spacing: 1px\">\n",
       "        <textPath xlink:href=\"#arrow-c34a2f7254064dd09e01b2ab4f68a1c0-0-15\" class=\"displacy-label\" startOffset=\"50%\" side=\"left\" fill=\"currentColor\" text-anchor=\"middle\">advmod</textPath>\n",
       "    </text>\n",
       "    <path class=\"displacy-arrowhead\" d=\"M2438.0,454.0 L2442.0,446.0 2434.0,446.0\" fill=\"currentColor\"/>\n",
       "</g>\n",
       "\n",
       "<g class=\"displacy-arrow\">\n",
       "    <path class=\"displacy-arc\" id=\"arrow-c34a2f7254064dd09e01b2ab4f68a1c0-0-16\" stroke-width=\"2px\" d=\"M2162,452.0 2162,377.0 2591.0,377.0 2591.0,452.0\" fill=\"none\" stroke=\"currentColor\"/>\n",
       "    <text dy=\"1.25em\" style=\"font-size: 0.8em; letter-spacing: 1px\">\n",
       "        <textPath xlink:href=\"#arrow-c34a2f7254064dd09e01b2ab4f68a1c0-0-16\" class=\"displacy-label\" startOffset=\"50%\" side=\"left\" fill=\"currentColor\" text-anchor=\"middle\">prep</textPath>\n",
       "    </text>\n",
       "    <path class=\"displacy-arrowhead\" d=\"M2591.0,454.0 L2595.0,446.0 2587.0,446.0\" fill=\"currentColor\"/>\n",
       "</g>\n",
       "\n",
       "<g class=\"displacy-arrow\">\n",
       "    <path class=\"displacy-arc\" id=\"arrow-c34a2f7254064dd09e01b2ab4f68a1c0-0-17\" stroke-width=\"2px\" d=\"M2762,452.0 2762,427.0 2885.0,427.0 2885.0,452.0\" fill=\"none\" stroke=\"currentColor\"/>\n",
       "    <text dy=\"1.25em\" style=\"font-size: 0.8em; letter-spacing: 1px\">\n",
       "        <textPath xlink:href=\"#arrow-c34a2f7254064dd09e01b2ab4f68a1c0-0-17\" class=\"displacy-label\" startOffset=\"50%\" side=\"left\" fill=\"currentColor\" text-anchor=\"middle\">compound</textPath>\n",
       "    </text>\n",
       "    <path class=\"displacy-arrowhead\" d=\"M2762,454.0 L2758,446.0 2766,446.0\" fill=\"currentColor\"/>\n",
       "</g>\n",
       "\n",
       "<g class=\"displacy-arrow\">\n",
       "    <path class=\"displacy-arc\" id=\"arrow-c34a2f7254064dd09e01b2ab4f68a1c0-0-18\" stroke-width=\"2px\" d=\"M2612,452.0 2612,402.0 2888.0,402.0 2888.0,452.0\" fill=\"none\" stroke=\"currentColor\"/>\n",
       "    <text dy=\"1.25em\" style=\"font-size: 0.8em; letter-spacing: 1px\">\n",
       "        <textPath xlink:href=\"#arrow-c34a2f7254064dd09e01b2ab4f68a1c0-0-18\" class=\"displacy-label\" startOffset=\"50%\" side=\"left\" fill=\"currentColor\" text-anchor=\"middle\">pobj</textPath>\n",
       "    </text>\n",
       "    <path class=\"displacy-arrowhead\" d=\"M2888.0,454.0 L2892.0,446.0 2884.0,446.0\" fill=\"currentColor\"/>\n",
       "</g>\n",
       "\n",
       "<g class=\"displacy-arrow\">\n",
       "    <path class=\"displacy-arc\" id=\"arrow-c34a2f7254064dd09e01b2ab4f68a1c0-0-19\" stroke-width=\"2px\" d=\"M3062,452.0 3062,427.0 3185.0,427.0 3185.0,452.0\" fill=\"none\" stroke=\"currentColor\"/>\n",
       "    <text dy=\"1.25em\" style=\"font-size: 0.8em; letter-spacing: 1px\">\n",
       "        <textPath xlink:href=\"#arrow-c34a2f7254064dd09e01b2ab4f68a1c0-0-19\" class=\"displacy-label\" startOffset=\"50%\" side=\"left\" fill=\"currentColor\" text-anchor=\"middle\">nsubj</textPath>\n",
       "    </text>\n",
       "    <path class=\"displacy-arrowhead\" d=\"M3062,454.0 L3058,446.0 3066,446.0\" fill=\"currentColor\"/>\n",
       "</g>\n",
       "\n",
       "<g class=\"displacy-arrow\">\n",
       "    <path class=\"displacy-arc\" id=\"arrow-c34a2f7254064dd09e01b2ab4f68a1c0-0-20\" stroke-width=\"2px\" d=\"M3212,452.0 3212,302.0 6950.0,302.0 6950.0,452.0\" fill=\"none\" stroke=\"currentColor\"/>\n",
       "    <text dy=\"1.25em\" style=\"font-size: 0.8em; letter-spacing: 1px\">\n",
       "        <textPath xlink:href=\"#arrow-c34a2f7254064dd09e01b2ab4f68a1c0-0-20\" class=\"displacy-label\" startOffset=\"50%\" side=\"left\" fill=\"currentColor\" text-anchor=\"middle\">ccomp</textPath>\n",
       "    </text>\n",
       "    <path class=\"displacy-arrowhead\" d=\"M3212,454.0 L3208,446.0 3216,446.0\" fill=\"currentColor\"/>\n",
       "</g>\n",
       "\n",
       "<g class=\"displacy-arrow\">\n",
       "    <path class=\"displacy-arc\" id=\"arrow-c34a2f7254064dd09e01b2ab4f68a1c0-0-21\" stroke-width=\"2px\" d=\"M3212,452.0 3212,427.0 3335.0,427.0 3335.0,452.0\" fill=\"none\" stroke=\"currentColor\"/>\n",
       "    <text dy=\"1.25em\" style=\"font-size: 0.8em; letter-spacing: 1px\">\n",
       "        <textPath xlink:href=\"#arrow-c34a2f7254064dd09e01b2ab4f68a1c0-0-21\" class=\"displacy-label\" startOffset=\"50%\" side=\"left\" fill=\"currentColor\" text-anchor=\"middle\">attr</textPath>\n",
       "    </text>\n",
       "    <path class=\"displacy-arrowhead\" d=\"M3335.0,454.0 L3339.0,446.0 3331.0,446.0\" fill=\"currentColor\"/>\n",
       "</g>\n",
       "\n",
       "<g class=\"displacy-arrow\">\n",
       "    <path class=\"displacy-arc\" id=\"arrow-c34a2f7254064dd09e01b2ab4f68a1c0-0-22\" stroke-width=\"2px\" d=\"M3362,452.0 3362,427.0 3485.0,427.0 3485.0,452.0\" fill=\"none\" stroke=\"currentColor\"/>\n",
       "    <text dy=\"1.25em\" style=\"font-size: 0.8em; letter-spacing: 1px\">\n",
       "        <textPath xlink:href=\"#arrow-c34a2f7254064dd09e01b2ab4f68a1c0-0-22\" class=\"displacy-label\" startOffset=\"50%\" side=\"left\" fill=\"currentColor\" text-anchor=\"middle\">prep</textPath>\n",
       "    </text>\n",
       "    <path class=\"displacy-arrowhead\" d=\"M3485.0,454.0 L3489.0,446.0 3481.0,446.0\" fill=\"currentColor\"/>\n",
       "</g>\n",
       "\n",
       "<g class=\"displacy-arrow\">\n",
       "    <path class=\"displacy-arc\" id=\"arrow-c34a2f7254064dd09e01b2ab4f68a1c0-0-23\" stroke-width=\"2px\" d=\"M3662,452.0 3662,352.0 4244.0,352.0 4244.0,452.0\" fill=\"none\" stroke=\"currentColor\"/>\n",
       "    <text dy=\"1.25em\" style=\"font-size: 0.8em; letter-spacing: 1px\">\n",
       "        <textPath xlink:href=\"#arrow-c34a2f7254064dd09e01b2ab4f68a1c0-0-23\" class=\"displacy-label\" startOffset=\"50%\" side=\"left\" fill=\"currentColor\" text-anchor=\"middle\">det</textPath>\n",
       "    </text>\n",
       "    <path class=\"displacy-arrowhead\" d=\"M3662,454.0 L3658,446.0 3666,446.0\" fill=\"currentColor\"/>\n",
       "</g>\n",
       "\n",
       "<g class=\"displacy-arrow\">\n",
       "    <path class=\"displacy-arc\" id=\"arrow-c34a2f7254064dd09e01b2ab4f68a1c0-0-24\" stroke-width=\"2px\" d=\"M3812,452.0 3812,377.0 4241.0,377.0 4241.0,452.0\" fill=\"none\" stroke=\"currentColor\"/>\n",
       "    <text dy=\"1.25em\" style=\"font-size: 0.8em; letter-spacing: 1px\">\n",
       "        <textPath xlink:href=\"#arrow-c34a2f7254064dd09e01b2ab4f68a1c0-0-24\" class=\"displacy-label\" startOffset=\"50%\" side=\"left\" fill=\"currentColor\" text-anchor=\"middle\">compound</textPath>\n",
       "    </text>\n",
       "    <path class=\"displacy-arrowhead\" d=\"M3812,454.0 L3808,446.0 3816,446.0\" fill=\"currentColor\"/>\n",
       "</g>\n",
       "\n",
       "<g class=\"displacy-arrow\">\n",
       "    <path class=\"displacy-arc\" id=\"arrow-c34a2f7254064dd09e01b2ab4f68a1c0-0-25\" stroke-width=\"2px\" d=\"M3962,452.0 3962,402.0 4238.0,402.0 4238.0,452.0\" fill=\"none\" stroke=\"currentColor\"/>\n",
       "    <text dy=\"1.25em\" style=\"font-size: 0.8em; letter-spacing: 1px\">\n",
       "        <textPath xlink:href=\"#arrow-c34a2f7254064dd09e01b2ab4f68a1c0-0-25\" class=\"displacy-label\" startOffset=\"50%\" side=\"left\" fill=\"currentColor\" text-anchor=\"middle\">compound</textPath>\n",
       "    </text>\n",
       "    <path class=\"displacy-arrowhead\" d=\"M3962,454.0 L3958,446.0 3966,446.0\" fill=\"currentColor\"/>\n",
       "</g>\n",
       "\n",
       "<g class=\"displacy-arrow\">\n",
       "    <path class=\"displacy-arc\" id=\"arrow-c34a2f7254064dd09e01b2ab4f68a1c0-0-26\" stroke-width=\"2px\" d=\"M4112,452.0 4112,427.0 4235.0,427.0 4235.0,452.0\" fill=\"none\" stroke=\"currentColor\"/>\n",
       "    <text dy=\"1.25em\" style=\"font-size: 0.8em; letter-spacing: 1px\">\n",
       "        <textPath xlink:href=\"#arrow-c34a2f7254064dd09e01b2ab4f68a1c0-0-26\" class=\"displacy-label\" startOffset=\"50%\" side=\"left\" fill=\"currentColor\" text-anchor=\"middle\">compound</textPath>\n",
       "    </text>\n",
       "    <path class=\"displacy-arrowhead\" d=\"M4112,454.0 L4108,446.0 4116,446.0\" fill=\"currentColor\"/>\n",
       "</g>\n",
       "\n",
       "<g class=\"displacy-arrow\">\n",
       "    <path class=\"displacy-arc\" id=\"arrow-c34a2f7254064dd09e01b2ab4f68a1c0-0-27\" stroke-width=\"2px\" d=\"M3512,452.0 3512,327.0 4247.0,327.0 4247.0,452.0\" fill=\"none\" stroke=\"currentColor\"/>\n",
       "    <text dy=\"1.25em\" style=\"font-size: 0.8em; letter-spacing: 1px\">\n",
       "        <textPath xlink:href=\"#arrow-c34a2f7254064dd09e01b2ab4f68a1c0-0-27\" class=\"displacy-label\" startOffset=\"50%\" side=\"left\" fill=\"currentColor\" text-anchor=\"middle\">pobj</textPath>\n",
       "    </text>\n",
       "    <path class=\"displacy-arrowhead\" d=\"M4247.0,454.0 L4251.0,446.0 4243.0,446.0\" fill=\"currentColor\"/>\n",
       "</g>\n",
       "\n",
       "<g class=\"displacy-arrow\">\n",
       "    <path class=\"displacy-arc\" id=\"arrow-c34a2f7254064dd09e01b2ab4f68a1c0-0-28\" stroke-width=\"2px\" d=\"M4262,452.0 4262,427.0 4385.0,427.0 4385.0,452.0\" fill=\"none\" stroke=\"currentColor\"/>\n",
       "    <text dy=\"1.25em\" style=\"font-size: 0.8em; letter-spacing: 1px\">\n",
       "        <textPath xlink:href=\"#arrow-c34a2f7254064dd09e01b2ab4f68a1c0-0-28\" class=\"displacy-label\" startOffset=\"50%\" side=\"left\" fill=\"currentColor\" text-anchor=\"middle\">prep</textPath>\n",
       "    </text>\n",
       "    <path class=\"displacy-arrowhead\" d=\"M4385.0,454.0 L4389.0,446.0 4381.0,446.0\" fill=\"currentColor\"/>\n",
       "</g>\n",
       "\n",
       "<g class=\"displacy-arrow\">\n",
       "    <path class=\"displacy-arc\" id=\"arrow-c34a2f7254064dd09e01b2ab4f68a1c0-0-29\" stroke-width=\"2px\" d=\"M4562,452.0 4562,427.0 4685.0,427.0 4685.0,452.0\" fill=\"none\" stroke=\"currentColor\"/>\n",
       "    <text dy=\"1.25em\" style=\"font-size: 0.8em; letter-spacing: 1px\">\n",
       "        <textPath xlink:href=\"#arrow-c34a2f7254064dd09e01b2ab4f68a1c0-0-29\" class=\"displacy-label\" startOffset=\"50%\" side=\"left\" fill=\"currentColor\" text-anchor=\"middle\">compound</textPath>\n",
       "    </text>\n",
       "    <path class=\"displacy-arrowhead\" d=\"M4562,454.0 L4558,446.0 4566,446.0\" fill=\"currentColor\"/>\n",
       "</g>\n",
       "\n",
       "<g class=\"displacy-arrow\">\n",
       "    <path class=\"displacy-arc\" id=\"arrow-c34a2f7254064dd09e01b2ab4f68a1c0-0-30\" stroke-width=\"2px\" d=\"M4412,452.0 4412,402.0 4688.0,402.0 4688.0,452.0\" fill=\"none\" stroke=\"currentColor\"/>\n",
       "    <text dy=\"1.25em\" style=\"font-size: 0.8em; letter-spacing: 1px\">\n",
       "        <textPath xlink:href=\"#arrow-c34a2f7254064dd09e01b2ab4f68a1c0-0-30\" class=\"displacy-label\" startOffset=\"50%\" side=\"left\" fill=\"currentColor\" text-anchor=\"middle\">pobj</textPath>\n",
       "    </text>\n",
       "    <path class=\"displacy-arrowhead\" d=\"M4688.0,454.0 L4692.0,446.0 4684.0,446.0\" fill=\"currentColor\"/>\n",
       "</g>\n",
       "\n",
       "<g class=\"displacy-arrow\">\n",
       "    <path class=\"displacy-arc\" id=\"arrow-c34a2f7254064dd09e01b2ab4f68a1c0-0-31\" stroke-width=\"2px\" d=\"M4862,452.0 4862,402.0 5138.0,402.0 5138.0,452.0\" fill=\"none\" stroke=\"currentColor\"/>\n",
       "    <text dy=\"1.25em\" style=\"font-size: 0.8em; letter-spacing: 1px\">\n",
       "        <textPath xlink:href=\"#arrow-c34a2f7254064dd09e01b2ab4f68a1c0-0-31\" class=\"displacy-label\" startOffset=\"50%\" side=\"left\" fill=\"currentColor\" text-anchor=\"middle\">nsubj</textPath>\n",
       "    </text>\n",
       "    <path class=\"displacy-arrowhead\" d=\"M4862,454.0 L4858,446.0 4866,446.0\" fill=\"currentColor\"/>\n",
       "</g>\n",
       "\n",
       "<g class=\"displacy-arrow\">\n",
       "    <path class=\"displacy-arc\" id=\"arrow-c34a2f7254064dd09e01b2ab4f68a1c0-0-32\" stroke-width=\"2px\" d=\"M5012,452.0 5012,427.0 5135.0,427.0 5135.0,452.0\" fill=\"none\" stroke=\"currentColor\"/>\n",
       "    <text dy=\"1.25em\" style=\"font-size: 0.8em; letter-spacing: 1px\">\n",
       "        <textPath xlink:href=\"#arrow-c34a2f7254064dd09e01b2ab4f68a1c0-0-32\" class=\"displacy-label\" startOffset=\"50%\" side=\"left\" fill=\"currentColor\" text-anchor=\"middle\">aux</textPath>\n",
       "    </text>\n",
       "    <path class=\"displacy-arrowhead\" d=\"M5012,454.0 L5008,446.0 5016,446.0\" fill=\"currentColor\"/>\n",
       "</g>\n",
       "\n",
       "<g class=\"displacy-arrow\">\n",
       "    <path class=\"displacy-arc\" id=\"arrow-c34a2f7254064dd09e01b2ab4f68a1c0-0-33\" stroke-width=\"2px\" d=\"M4262,452.0 4262,377.0 5141.0,377.0 5141.0,452.0\" fill=\"none\" stroke=\"currentColor\"/>\n",
       "    <text dy=\"1.25em\" style=\"font-size: 0.8em; letter-spacing: 1px\">\n",
       "        <textPath xlink:href=\"#arrow-c34a2f7254064dd09e01b2ab4f68a1c0-0-33\" class=\"displacy-label\" startOffset=\"50%\" side=\"left\" fill=\"currentColor\" text-anchor=\"middle\">relcl</textPath>\n",
       "    </text>\n",
       "    <path class=\"displacy-arrowhead\" d=\"M5141.0,454.0 L5145.0,446.0 5137.0,446.0\" fill=\"currentColor\"/>\n",
       "</g>\n",
       "\n",
       "<g class=\"displacy-arrow\">\n",
       "    <path class=\"displacy-arc\" id=\"arrow-c34a2f7254064dd09e01b2ab4f68a1c0-0-34\" stroke-width=\"2px\" d=\"M5162,452.0 5162,427.0 5285.0,427.0 5285.0,452.0\" fill=\"none\" stroke=\"currentColor\"/>\n",
       "    <text dy=\"1.25em\" style=\"font-size: 0.8em; letter-spacing: 1px\">\n",
       "        <textPath xlink:href=\"#arrow-c34a2f7254064dd09e01b2ab4f68a1c0-0-34\" class=\"displacy-label\" startOffset=\"50%\" side=\"left\" fill=\"currentColor\" text-anchor=\"middle\">prep</textPath>\n",
       "    </text>\n",
       "    <path class=\"displacy-arrowhead\" d=\"M5285.0,454.0 L5289.0,446.0 5281.0,446.0\" fill=\"currentColor\"/>\n",
       "</g>\n",
       "\n",
       "<g class=\"displacy-arrow\">\n",
       "    <path class=\"displacy-arc\" id=\"arrow-c34a2f7254064dd09e01b2ab4f68a1c0-0-35\" stroke-width=\"2px\" d=\"M5312,452.0 5312,427.0 5435.0,427.0 5435.0,452.0\" fill=\"none\" stroke=\"currentColor\"/>\n",
       "    <text dy=\"1.25em\" style=\"font-size: 0.8em; letter-spacing: 1px\">\n",
       "        <textPath xlink:href=\"#arrow-c34a2f7254064dd09e01b2ab4f68a1c0-0-35\" class=\"displacy-label\" startOffset=\"50%\" side=\"left\" fill=\"currentColor\" text-anchor=\"middle\">pobj</textPath>\n",
       "    </text>\n",
       "    <path class=\"displacy-arrowhead\" d=\"M5435.0,454.0 L5439.0,446.0 5431.0,446.0\" fill=\"currentColor\"/>\n",
       "</g>\n",
       "\n",
       "<g class=\"displacy-arrow\">\n",
       "    <path class=\"displacy-arc\" id=\"arrow-c34a2f7254064dd09e01b2ab4f68a1c0-0-36\" stroke-width=\"2px\" d=\"M5162,452.0 5162,402.0 5588.0,402.0 5588.0,452.0\" fill=\"none\" stroke=\"currentColor\"/>\n",
       "    <text dy=\"1.25em\" style=\"font-size: 0.8em; letter-spacing: 1px\">\n",
       "        <textPath xlink:href=\"#arrow-c34a2f7254064dd09e01b2ab4f68a1c0-0-36\" class=\"displacy-label\" startOffset=\"50%\" side=\"left\" fill=\"currentColor\" text-anchor=\"middle\">prep</textPath>\n",
       "    </text>\n",
       "    <path class=\"displacy-arrowhead\" d=\"M5588.0,454.0 L5592.0,446.0 5584.0,446.0\" fill=\"currentColor\"/>\n",
       "</g>\n",
       "\n",
       "<g class=\"displacy-arrow\">\n",
       "    <path class=\"displacy-arc\" id=\"arrow-c34a2f7254064dd09e01b2ab4f68a1c0-0-37\" stroke-width=\"2px\" d=\"M5612,452.0 5612,427.0 5735.0,427.0 5735.0,452.0\" fill=\"none\" stroke=\"currentColor\"/>\n",
       "    <text dy=\"1.25em\" style=\"font-size: 0.8em; letter-spacing: 1px\">\n",
       "        <textPath xlink:href=\"#arrow-c34a2f7254064dd09e01b2ab4f68a1c0-0-37\" class=\"displacy-label\" startOffset=\"50%\" side=\"left\" fill=\"currentColor\" text-anchor=\"middle\">pobj</textPath>\n",
       "    </text>\n",
       "    <path class=\"displacy-arrowhead\" d=\"M5735.0,454.0 L5739.0,446.0 5731.0,446.0\" fill=\"currentColor\"/>\n",
       "</g>\n",
       "\n",
       "<g class=\"displacy-arrow\">\n",
       "    <path class=\"displacy-arc\" id=\"arrow-c34a2f7254064dd09e01b2ab4f68a1c0-0-38\" stroke-width=\"2px\" d=\"M5162,452.0 5162,377.0 5891.0,377.0 5891.0,452.0\" fill=\"none\" stroke=\"currentColor\"/>\n",
       "    <text dy=\"1.25em\" style=\"font-size: 0.8em; letter-spacing: 1px\">\n",
       "        <textPath xlink:href=\"#arrow-c34a2f7254064dd09e01b2ab4f68a1c0-0-38\" class=\"displacy-label\" startOffset=\"50%\" side=\"left\" fill=\"currentColor\" text-anchor=\"middle\">prep</textPath>\n",
       "    </text>\n",
       "    <path class=\"displacy-arrowhead\" d=\"M5891.0,454.0 L5895.0,446.0 5887.0,446.0\" fill=\"currentColor\"/>\n",
       "</g>\n",
       "\n",
       "<g class=\"displacy-arrow\">\n",
       "    <path class=\"displacy-arc\" id=\"arrow-c34a2f7254064dd09e01b2ab4f68a1c0-0-39\" stroke-width=\"2px\" d=\"M6062,452.0 6062,427.0 6185.0,427.0 6185.0,452.0\" fill=\"none\" stroke=\"currentColor\"/>\n",
       "    <text dy=\"1.25em\" style=\"font-size: 0.8em; letter-spacing: 1px\">\n",
       "        <textPath xlink:href=\"#arrow-c34a2f7254064dd09e01b2ab4f68a1c0-0-39\" class=\"displacy-label\" startOffset=\"50%\" side=\"left\" fill=\"currentColor\" text-anchor=\"middle\">compound</textPath>\n",
       "    </text>\n",
       "    <path class=\"displacy-arrowhead\" d=\"M6062,454.0 L6058,446.0 6066,446.0\" fill=\"currentColor\"/>\n",
       "</g>\n",
       "\n",
       "<g class=\"displacy-arrow\">\n",
       "    <path class=\"displacy-arc\" id=\"arrow-c34a2f7254064dd09e01b2ab4f68a1c0-0-40\" stroke-width=\"2px\" d=\"M5912,452.0 5912,402.0 6188.0,402.0 6188.0,452.0\" fill=\"none\" stroke=\"currentColor\"/>\n",
       "    <text dy=\"1.25em\" style=\"font-size: 0.8em; letter-spacing: 1px\">\n",
       "        <textPath xlink:href=\"#arrow-c34a2f7254064dd09e01b2ab4f68a1c0-0-40\" class=\"displacy-label\" startOffset=\"50%\" side=\"left\" fill=\"currentColor\" text-anchor=\"middle\">pobj</textPath>\n",
       "    </text>\n",
       "    <path class=\"displacy-arrowhead\" d=\"M6188.0,454.0 L6192.0,446.0 6184.0,446.0\" fill=\"currentColor\"/>\n",
       "</g>\n",
       "\n",
       "<g class=\"displacy-arrow\">\n",
       "    <path class=\"displacy-arc\" id=\"arrow-c34a2f7254064dd09e01b2ab4f68a1c0-0-41\" stroke-width=\"2px\" d=\"M5162,452.0 5162,352.0 6344.0,352.0 6344.0,452.0\" fill=\"none\" stroke=\"currentColor\"/>\n",
       "    <text dy=\"1.25em\" style=\"font-size: 0.8em; letter-spacing: 1px\">\n",
       "        <textPath xlink:href=\"#arrow-c34a2f7254064dd09e01b2ab4f68a1c0-0-41\" class=\"displacy-label\" startOffset=\"50%\" side=\"left\" fill=\"currentColor\" text-anchor=\"middle\">prep</textPath>\n",
       "    </text>\n",
       "    <path class=\"displacy-arrowhead\" d=\"M6344.0,454.0 L6348.0,446.0 6340.0,446.0\" fill=\"currentColor\"/>\n",
       "</g>\n",
       "\n",
       "<g class=\"displacy-arrow\">\n",
       "    <path class=\"displacy-arc\" id=\"arrow-c34a2f7254064dd09e01b2ab4f68a1c0-0-42\" stroke-width=\"2px\" d=\"M6362,452.0 6362,427.0 6485.0,427.0 6485.0,452.0\" fill=\"none\" stroke=\"currentColor\"/>\n",
       "    <text dy=\"1.25em\" style=\"font-size: 0.8em; letter-spacing: 1px\">\n",
       "        <textPath xlink:href=\"#arrow-c34a2f7254064dd09e01b2ab4f68a1c0-0-42\" class=\"displacy-label\" startOffset=\"50%\" side=\"left\" fill=\"currentColor\" text-anchor=\"middle\">pobj</textPath>\n",
       "    </text>\n",
       "    <path class=\"displacy-arrowhead\" d=\"M6485.0,454.0 L6489.0,446.0 6481.0,446.0\" fill=\"currentColor\"/>\n",
       "</g>\n",
       "\n",
       "<g class=\"displacy-arrow\">\n",
       "    <path class=\"displacy-arc\" id=\"arrow-c34a2f7254064dd09e01b2ab4f68a1c0-0-43\" stroke-width=\"2px\" d=\"M6662,452.0 6662,402.0 6938.0,402.0 6938.0,452.0\" fill=\"none\" stroke=\"currentColor\"/>\n",
       "    <text dy=\"1.25em\" style=\"font-size: 0.8em; letter-spacing: 1px\">\n",
       "        <textPath xlink:href=\"#arrow-c34a2f7254064dd09e01b2ab4f68a1c0-0-43\" class=\"displacy-label\" startOffset=\"50%\" side=\"left\" fill=\"currentColor\" text-anchor=\"middle\">expl</textPath>\n",
       "    </text>\n",
       "    <path class=\"displacy-arrowhead\" d=\"M6662,454.0 L6658,446.0 6666,446.0\" fill=\"currentColor\"/>\n",
       "</g>\n",
       "\n",
       "<g class=\"displacy-arrow\">\n",
       "    <path class=\"displacy-arc\" id=\"arrow-c34a2f7254064dd09e01b2ab4f68a1c0-0-44\" stroke-width=\"2px\" d=\"M6812,452.0 6812,427.0 6935.0,427.0 6935.0,452.0\" fill=\"none\" stroke=\"currentColor\"/>\n",
       "    <text dy=\"1.25em\" style=\"font-size: 0.8em; letter-spacing: 1px\">\n",
       "        <textPath xlink:href=\"#arrow-c34a2f7254064dd09e01b2ab4f68a1c0-0-44\" class=\"displacy-label\" startOffset=\"50%\" side=\"left\" fill=\"currentColor\" text-anchor=\"middle\">aux</textPath>\n",
       "    </text>\n",
       "    <path class=\"displacy-arrowhead\" d=\"M6812,454.0 L6808,446.0 6816,446.0\" fill=\"currentColor\"/>\n",
       "</g>\n",
       "\n",
       "<g class=\"displacy-arrow\">\n",
       "    <path class=\"displacy-arc\" id=\"arrow-c34a2f7254064dd09e01b2ab4f68a1c0-0-45\" stroke-width=\"2px\" d=\"M7112,452.0 7112,327.0 9047.0,327.0 9047.0,452.0\" fill=\"none\" stroke=\"currentColor\"/>\n",
       "    <text dy=\"1.25em\" style=\"font-size: 0.8em; letter-spacing: 1px\">\n",
       "        <textPath xlink:href=\"#arrow-c34a2f7254064dd09e01b2ab4f68a1c0-0-45\" class=\"displacy-label\" startOffset=\"50%\" side=\"left\" fill=\"currentColor\" text-anchor=\"middle\">nsubj</textPath>\n",
       "    </text>\n",
       "    <path class=\"displacy-arrowhead\" d=\"M7112,454.0 L7108,446.0 7116,446.0\" fill=\"currentColor\"/>\n",
       "</g>\n",
       "\n",
       "<g class=\"displacy-arrow\">\n",
       "    <path class=\"displacy-arc\" id=\"arrow-c34a2f7254064dd09e01b2ab4f68a1c0-0-46\" stroke-width=\"2px\" d=\"M7112,452.0 7112,427.0 7235.0,427.0 7235.0,452.0\" fill=\"none\" stroke=\"currentColor\"/>\n",
       "    <text dy=\"1.25em\" style=\"font-size: 0.8em; letter-spacing: 1px\">\n",
       "        <textPath xlink:href=\"#arrow-c34a2f7254064dd09e01b2ab4f68a1c0-0-46\" class=\"displacy-label\" startOffset=\"50%\" side=\"left\" fill=\"currentColor\" text-anchor=\"middle\">cc</textPath>\n",
       "    </text>\n",
       "    <path class=\"displacy-arrowhead\" d=\"M7235.0,454.0 L7239.0,446.0 7231.0,446.0\" fill=\"currentColor\"/>\n",
       "</g>\n",
       "\n",
       "<g class=\"displacy-arrow\">\n",
       "    <path class=\"displacy-arc\" id=\"arrow-c34a2f7254064dd09e01b2ab4f68a1c0-0-47\" stroke-width=\"2px\" d=\"M7412,452.0 7412,427.0 7535.0,427.0 7535.0,452.0\" fill=\"none\" stroke=\"currentColor\"/>\n",
       "    <text dy=\"1.25em\" style=\"font-size: 0.8em; letter-spacing: 1px\">\n",
       "        <textPath xlink:href=\"#arrow-c34a2f7254064dd09e01b2ab4f68a1c0-0-47\" class=\"displacy-label\" startOffset=\"50%\" side=\"left\" fill=\"currentColor\" text-anchor=\"middle\">compound</textPath>\n",
       "    </text>\n",
       "    <path class=\"displacy-arrowhead\" d=\"M7412,454.0 L7408,446.0 7416,446.0\" fill=\"currentColor\"/>\n",
       "</g>\n",
       "\n",
       "<g class=\"displacy-arrow\">\n",
       "    <path class=\"displacy-arc\" id=\"arrow-c34a2f7254064dd09e01b2ab4f68a1c0-0-48\" stroke-width=\"2px\" d=\"M7112,452.0 7112,402.0 7538.0,402.0 7538.0,452.0\" fill=\"none\" stroke=\"currentColor\"/>\n",
       "    <text dy=\"1.25em\" style=\"font-size: 0.8em; letter-spacing: 1px\">\n",
       "        <textPath xlink:href=\"#arrow-c34a2f7254064dd09e01b2ab4f68a1c0-0-48\" class=\"displacy-label\" startOffset=\"50%\" side=\"left\" fill=\"currentColor\" text-anchor=\"middle\">conj</textPath>\n",
       "    </text>\n",
       "    <path class=\"displacy-arrowhead\" d=\"M7538.0,454.0 L7542.0,446.0 7534.0,446.0\" fill=\"currentColor\"/>\n",
       "</g>\n",
       "\n",
       "<g class=\"displacy-arrow\">\n",
       "    <path class=\"displacy-arc\" id=\"arrow-c34a2f7254064dd09e01b2ab4f68a1c0-0-49\" stroke-width=\"2px\" d=\"M7712,452.0 7712,402.0 7988.0,402.0 7988.0,452.0\" fill=\"none\" stroke=\"currentColor\"/>\n",
       "    <text dy=\"1.25em\" style=\"font-size: 0.8em; letter-spacing: 1px\">\n",
       "        <textPath xlink:href=\"#arrow-c34a2f7254064dd09e01b2ab4f68a1c0-0-49\" class=\"displacy-label\" startOffset=\"50%\" side=\"left\" fill=\"currentColor\" text-anchor=\"middle\">advmod</textPath>\n",
       "    </text>\n",
       "    <path class=\"displacy-arrowhead\" d=\"M7712,454.0 L7708,446.0 7716,446.0\" fill=\"currentColor\"/>\n",
       "</g>\n",
       "\n",
       "<g class=\"displacy-arrow\">\n",
       "    <path class=\"displacy-arc\" id=\"arrow-c34a2f7254064dd09e01b2ab4f68a1c0-0-50\" stroke-width=\"2px\" d=\"M7862,452.0 7862,427.0 7985.0,427.0 7985.0,452.0\" fill=\"none\" stroke=\"currentColor\"/>\n",
       "    <text dy=\"1.25em\" style=\"font-size: 0.8em; letter-spacing: 1px\">\n",
       "        <textPath xlink:href=\"#arrow-c34a2f7254064dd09e01b2ab4f68a1c0-0-50\" class=\"displacy-label\" startOffset=\"50%\" side=\"left\" fill=\"currentColor\" text-anchor=\"middle\">advmod</textPath>\n",
       "    </text>\n",
       "    <path class=\"displacy-arrowhead\" d=\"M7862,454.0 L7858,446.0 7866,446.0\" fill=\"currentColor\"/>\n",
       "</g>\n",
       "\n",
       "<g class=\"displacy-arrow\">\n",
       "    <path class=\"displacy-arc\" id=\"arrow-c34a2f7254064dd09e01b2ab4f68a1c0-0-51\" stroke-width=\"2px\" d=\"M7562,452.0 7562,377.0 7991.0,377.0 7991.0,452.0\" fill=\"none\" stroke=\"currentColor\"/>\n",
       "    <text dy=\"1.25em\" style=\"font-size: 0.8em; letter-spacing: 1px\">\n",
       "        <textPath xlink:href=\"#arrow-c34a2f7254064dd09e01b2ab4f68a1c0-0-51\" class=\"displacy-label\" startOffset=\"50%\" side=\"left\" fill=\"currentColor\" text-anchor=\"middle\">cc</textPath>\n",
       "    </text>\n",
       "    <path class=\"displacy-arrowhead\" d=\"M7991.0,454.0 L7995.0,446.0 7987.0,446.0\" fill=\"currentColor\"/>\n",
       "</g>\n",
       "\n",
       "<g class=\"displacy-arrow\">\n",
       "    <path class=\"displacy-arc\" id=\"arrow-c34a2f7254064dd09e01b2ab4f68a1c0-0-52\" stroke-width=\"2px\" d=\"M8162,452.0 8162,427.0 8285.0,427.0 8285.0,452.0\" fill=\"none\" stroke=\"currentColor\"/>\n",
       "    <text dy=\"1.25em\" style=\"font-size: 0.8em; letter-spacing: 1px\">\n",
       "        <textPath xlink:href=\"#arrow-c34a2f7254064dd09e01b2ab4f68a1c0-0-52\" class=\"displacy-label\" startOffset=\"50%\" side=\"left\" fill=\"currentColor\" text-anchor=\"middle\">compound</textPath>\n",
       "    </text>\n",
       "    <path class=\"displacy-arrowhead\" d=\"M8162,454.0 L8158,446.0 8166,446.0\" fill=\"currentColor\"/>\n",
       "</g>\n",
       "\n",
       "<g class=\"displacy-arrow\">\n",
       "    <path class=\"displacy-arc\" id=\"arrow-c34a2f7254064dd09e01b2ab4f68a1c0-0-53\" stroke-width=\"2px\" d=\"M7562,452.0 7562,352.0 8294.0,352.0 8294.0,452.0\" fill=\"none\" stroke=\"currentColor\"/>\n",
       "    <text dy=\"1.25em\" style=\"font-size: 0.8em; letter-spacing: 1px\">\n",
       "        <textPath xlink:href=\"#arrow-c34a2f7254064dd09e01b2ab4f68a1c0-0-53\" class=\"displacy-label\" startOffset=\"50%\" side=\"left\" fill=\"currentColor\" text-anchor=\"middle\">conj</textPath>\n",
       "    </text>\n",
       "    <path class=\"displacy-arrowhead\" d=\"M8294.0,454.0 L8298.0,446.0 8290.0,446.0\" fill=\"currentColor\"/>\n",
       "</g>\n",
       "\n",
       "<g class=\"displacy-arrow\">\n",
       "    <path class=\"displacy-arc\" id=\"arrow-c34a2f7254064dd09e01b2ab4f68a1c0-0-54\" stroke-width=\"2px\" d=\"M8312,452.0 8312,427.0 8435.0,427.0 8435.0,452.0\" fill=\"none\" stroke=\"currentColor\"/>\n",
       "    <text dy=\"1.25em\" style=\"font-size: 0.8em; letter-spacing: 1px\">\n",
       "        <textPath xlink:href=\"#arrow-c34a2f7254064dd09e01b2ab4f68a1c0-0-54\" class=\"displacy-label\" startOffset=\"50%\" side=\"left\" fill=\"currentColor\" text-anchor=\"middle\">cc</textPath>\n",
       "    </text>\n",
       "    <path class=\"displacy-arrowhead\" d=\"M8435.0,454.0 L8439.0,446.0 8431.0,446.0\" fill=\"currentColor\"/>\n",
       "</g>\n",
       "\n",
       "<g class=\"displacy-arrow\">\n",
       "    <path class=\"displacy-arc\" id=\"arrow-c34a2f7254064dd09e01b2ab4f68a1c0-0-55\" stroke-width=\"2px\" d=\"M8312,452.0 8312,402.0 8588.0,402.0 8588.0,452.0\" fill=\"none\" stroke=\"currentColor\"/>\n",
       "    <text dy=\"1.25em\" style=\"font-size: 0.8em; letter-spacing: 1px\">\n",
       "        <textPath xlink:href=\"#arrow-c34a2f7254064dd09e01b2ab4f68a1c0-0-55\" class=\"displacy-label\" startOffset=\"50%\" side=\"left\" fill=\"currentColor\" text-anchor=\"middle\">conj</textPath>\n",
       "    </text>\n",
       "    <path class=\"displacy-arrowhead\" d=\"M8588.0,454.0 L8592.0,446.0 8584.0,446.0\" fill=\"currentColor\"/>\n",
       "</g>\n",
       "\n",
       "<g class=\"displacy-arrow\">\n",
       "    <path class=\"displacy-arc\" id=\"arrow-c34a2f7254064dd09e01b2ab4f68a1c0-0-56\" stroke-width=\"2px\" d=\"M8312,452.0 8312,377.0 8741.0,377.0 8741.0,452.0\" fill=\"none\" stroke=\"currentColor\"/>\n",
       "    <text dy=\"1.25em\" style=\"font-size: 0.8em; letter-spacing: 1px\">\n",
       "        <textPath xlink:href=\"#arrow-c34a2f7254064dd09e01b2ab4f68a1c0-0-56\" class=\"displacy-label\" startOffset=\"50%\" side=\"left\" fill=\"currentColor\" text-anchor=\"middle\">conj</textPath>\n",
       "    </text>\n",
       "    <path class=\"displacy-arrowhead\" d=\"M8741.0,454.0 L8745.0,446.0 8737.0,446.0\" fill=\"currentColor\"/>\n",
       "</g>\n",
       "\n",
       "<g class=\"displacy-arrow\">\n",
       "    <path class=\"displacy-arc\" id=\"arrow-c34a2f7254064dd09e01b2ab4f68a1c0-0-57\" stroke-width=\"2px\" d=\"M8912,452.0 8912,427.0 9035.0,427.0 9035.0,452.0\" fill=\"none\" stroke=\"currentColor\"/>\n",
       "    <text dy=\"1.25em\" style=\"font-size: 0.8em; letter-spacing: 1px\">\n",
       "        <textPath xlink:href=\"#arrow-c34a2f7254064dd09e01b2ab4f68a1c0-0-57\" class=\"displacy-label\" startOffset=\"50%\" side=\"left\" fill=\"currentColor\" text-anchor=\"middle\">aux</textPath>\n",
       "    </text>\n",
       "    <path class=\"displacy-arrowhead\" d=\"M8912,454.0 L8908,446.0 8916,446.0\" fill=\"currentColor\"/>\n",
       "</g>\n",
       "\n",
       "<g class=\"displacy-arrow\">\n",
       "    <path class=\"displacy-arc\" id=\"arrow-c34a2f7254064dd09e01b2ab4f68a1c0-0-58\" stroke-width=\"2px\" d=\"M6962,452.0 6962,302.0 9050.0,302.0 9050.0,452.0\" fill=\"none\" stroke=\"currentColor\"/>\n",
       "    <text dy=\"1.25em\" style=\"font-size: 0.8em; letter-spacing: 1px\">\n",
       "        <textPath xlink:href=\"#arrow-c34a2f7254064dd09e01b2ab4f68a1c0-0-58\" class=\"displacy-label\" startOffset=\"50%\" side=\"left\" fill=\"currentColor\" text-anchor=\"middle\">ccomp</textPath>\n",
       "    </text>\n",
       "    <path class=\"displacy-arrowhead\" d=\"M9050.0,454.0 L9054.0,446.0 9046.0,446.0\" fill=\"currentColor\"/>\n",
       "</g>\n",
       "\n",
       "<g class=\"displacy-arrow\">\n",
       "    <path class=\"displacy-arc\" id=\"arrow-c34a2f7254064dd09e01b2ab4f68a1c0-0-59\" stroke-width=\"2px\" d=\"M9212,452.0 9212,427.0 9335.0,427.0 9335.0,452.0\" fill=\"none\" stroke=\"currentColor\"/>\n",
       "    <text dy=\"1.25em\" style=\"font-size: 0.8em; letter-spacing: 1px\">\n",
       "        <textPath xlink:href=\"#arrow-c34a2f7254064dd09e01b2ab4f68a1c0-0-59\" class=\"displacy-label\" startOffset=\"50%\" side=\"left\" fill=\"currentColor\" text-anchor=\"middle\">det</textPath>\n",
       "    </text>\n",
       "    <path class=\"displacy-arrowhead\" d=\"M9212,454.0 L9208,446.0 9216,446.0\" fill=\"currentColor\"/>\n",
       "</g>\n",
       "\n",
       "<g class=\"displacy-arrow\">\n",
       "    <path class=\"displacy-arc\" id=\"arrow-c34a2f7254064dd09e01b2ab4f68a1c0-0-60\" stroke-width=\"2px\" d=\"M9062,452.0 9062,402.0 9338.0,402.0 9338.0,452.0\" fill=\"none\" stroke=\"currentColor\"/>\n",
       "    <text dy=\"1.25em\" style=\"font-size: 0.8em; letter-spacing: 1px\">\n",
       "        <textPath xlink:href=\"#arrow-c34a2f7254064dd09e01b2ab4f68a1c0-0-60\" class=\"displacy-label\" startOffset=\"50%\" side=\"left\" fill=\"currentColor\" text-anchor=\"middle\">dobj</textPath>\n",
       "    </text>\n",
       "    <path class=\"displacy-arrowhead\" d=\"M9338.0,454.0 L9342.0,446.0 9334.0,446.0\" fill=\"currentColor\"/>\n",
       "</g>\n",
       "\n",
       "<g class=\"displacy-arrow\">\n",
       "    <path class=\"displacy-arc\" id=\"arrow-c34a2f7254064dd09e01b2ab4f68a1c0-0-61\" stroke-width=\"2px\" d=\"M9512,452.0 9512,427.0 9635.0,427.0 9635.0,452.0\" fill=\"none\" stroke=\"currentColor\"/>\n",
       "    <text dy=\"1.25em\" style=\"font-size: 0.8em; letter-spacing: 1px\">\n",
       "        <textPath xlink:href=\"#arrow-c34a2f7254064dd09e01b2ab4f68a1c0-0-61\" class=\"displacy-label\" startOffset=\"50%\" side=\"left\" fill=\"currentColor\" text-anchor=\"middle\">aux</textPath>\n",
       "    </text>\n",
       "    <path class=\"displacy-arrowhead\" d=\"M9512,454.0 L9508,446.0 9516,446.0\" fill=\"currentColor\"/>\n",
       "</g>\n",
       "\n",
       "<g class=\"displacy-arrow\">\n",
       "    <path class=\"displacy-arc\" id=\"arrow-c34a2f7254064dd09e01b2ab4f68a1c0-0-62\" stroke-width=\"2px\" d=\"M9362,452.0 9362,402.0 9638.0,402.0 9638.0,452.0\" fill=\"none\" stroke=\"currentColor\"/>\n",
       "    <text dy=\"1.25em\" style=\"font-size: 0.8em; letter-spacing: 1px\">\n",
       "        <textPath xlink:href=\"#arrow-c34a2f7254064dd09e01b2ab4f68a1c0-0-62\" class=\"displacy-label\" startOffset=\"50%\" side=\"left\" fill=\"currentColor\" text-anchor=\"middle\">acl</textPath>\n",
       "    </text>\n",
       "    <path class=\"displacy-arrowhead\" d=\"M9638.0,454.0 L9642.0,446.0 9634.0,446.0\" fill=\"currentColor\"/>\n",
       "</g>\n",
       "\n",
       "<g class=\"displacy-arrow\">\n",
       "    <path class=\"displacy-arc\" id=\"arrow-c34a2f7254064dd09e01b2ab4f68a1c0-0-63\" stroke-width=\"2px\" d=\"M9662,452.0 9662,427.0 9785.0,427.0 9785.0,452.0\" fill=\"none\" stroke=\"currentColor\"/>\n",
       "    <text dy=\"1.25em\" style=\"font-size: 0.8em; letter-spacing: 1px\">\n",
       "        <textPath xlink:href=\"#arrow-c34a2f7254064dd09e01b2ab4f68a1c0-0-63\" class=\"displacy-label\" startOffset=\"50%\" side=\"left\" fill=\"currentColor\" text-anchor=\"middle\">prep</textPath>\n",
       "    </text>\n",
       "    <path class=\"displacy-arrowhead\" d=\"M9785.0,454.0 L9789.0,446.0 9781.0,446.0\" fill=\"currentColor\"/>\n",
       "</g>\n",
       "\n",
       "<g class=\"displacy-arrow\">\n",
       "    <path class=\"displacy-arc\" id=\"arrow-c34a2f7254064dd09e01b2ab4f68a1c0-0-64\" stroke-width=\"2px\" d=\"M9812,452.0 9812,427.0 9935.0,427.0 9935.0,452.0\" fill=\"none\" stroke=\"currentColor\"/>\n",
       "    <text dy=\"1.25em\" style=\"font-size: 0.8em; letter-spacing: 1px\">\n",
       "        <textPath xlink:href=\"#arrow-c34a2f7254064dd09e01b2ab4f68a1c0-0-64\" class=\"displacy-label\" startOffset=\"50%\" side=\"left\" fill=\"currentColor\" text-anchor=\"middle\">pobj</textPath>\n",
       "    </text>\n",
       "    <path class=\"displacy-arrowhead\" d=\"M9935.0,454.0 L9939.0,446.0 9931.0,446.0\" fill=\"currentColor\"/>\n",
       "</g>\n",
       "\n",
       "<g class=\"displacy-arrow\">\n",
       "    <path class=\"displacy-arc\" id=\"arrow-c34a2f7254064dd09e01b2ab4f68a1c0-0-65\" stroke-width=\"2px\" d=\"M9962,452.0 9962,427.0 10085.0,427.0 10085.0,452.0\" fill=\"none\" stroke=\"currentColor\"/>\n",
       "    <text dy=\"1.25em\" style=\"font-size: 0.8em; letter-spacing: 1px\">\n",
       "        <textPath xlink:href=\"#arrow-c34a2f7254064dd09e01b2ab4f68a1c0-0-65\" class=\"displacy-label\" startOffset=\"50%\" side=\"left\" fill=\"currentColor\" text-anchor=\"middle\">prep</textPath>\n",
       "    </text>\n",
       "    <path class=\"displacy-arrowhead\" d=\"M10085.0,454.0 L10089.0,446.0 10081.0,446.0\" fill=\"currentColor\"/>\n",
       "</g>\n",
       "\n",
       "<g class=\"displacy-arrow\">\n",
       "    <path class=\"displacy-arc\" id=\"arrow-c34a2f7254064dd09e01b2ab4f68a1c0-0-66\" stroke-width=\"2px\" d=\"M10262,452.0 10262,427.0 10385.0,427.0 10385.0,452.0\" fill=\"none\" stroke=\"currentColor\"/>\n",
       "    <text dy=\"1.25em\" style=\"font-size: 0.8em; letter-spacing: 1px\">\n",
       "        <textPath xlink:href=\"#arrow-c34a2f7254064dd09e01b2ab4f68a1c0-0-66\" class=\"displacy-label\" startOffset=\"50%\" side=\"left\" fill=\"currentColor\" text-anchor=\"middle\">det</textPath>\n",
       "    </text>\n",
       "    <path class=\"displacy-arrowhead\" d=\"M10262,454.0 L10258,446.0 10266,446.0\" fill=\"currentColor\"/>\n",
       "</g>\n",
       "\n",
       "<g class=\"displacy-arrow\">\n",
       "    <path class=\"displacy-arc\" id=\"arrow-c34a2f7254064dd09e01b2ab4f68a1c0-0-67\" stroke-width=\"2px\" d=\"M10112,452.0 10112,402.0 10388.0,402.0 10388.0,452.0\" fill=\"none\" stroke=\"currentColor\"/>\n",
       "    <text dy=\"1.25em\" style=\"font-size: 0.8em; letter-spacing: 1px\">\n",
       "        <textPath xlink:href=\"#arrow-c34a2f7254064dd09e01b2ab4f68a1c0-0-67\" class=\"displacy-label\" startOffset=\"50%\" side=\"left\" fill=\"currentColor\" text-anchor=\"middle\">pobj</textPath>\n",
       "    </text>\n",
       "    <path class=\"displacy-arrowhead\" d=\"M10388.0,454.0 L10392.0,446.0 10384.0,446.0\" fill=\"currentColor\"/>\n",
       "</g>\n",
       "\n",
       "<g class=\"displacy-arrow\">\n",
       "    <path class=\"displacy-arc\" id=\"arrow-c34a2f7254064dd09e01b2ab4f68a1c0-0-68\" stroke-width=\"2px\" d=\"M10412,452.0 10412,427.0 10535.0,427.0 10535.0,452.0\" fill=\"none\" stroke=\"currentColor\"/>\n",
       "    <text dy=\"1.25em\" style=\"font-size: 0.8em; letter-spacing: 1px\">\n",
       "        <textPath xlink:href=\"#arrow-c34a2f7254064dd09e01b2ab4f68a1c0-0-68\" class=\"displacy-label\" startOffset=\"50%\" side=\"left\" fill=\"currentColor\" text-anchor=\"middle\">cc</textPath>\n",
       "    </text>\n",
       "    <path class=\"displacy-arrowhead\" d=\"M10535.0,454.0 L10539.0,446.0 10531.0,446.0\" fill=\"currentColor\"/>\n",
       "</g>\n",
       "\n",
       "<g class=\"displacy-arrow\">\n",
       "    <path class=\"displacy-arc\" id=\"arrow-c34a2f7254064dd09e01b2ab4f68a1c0-0-69\" stroke-width=\"2px\" d=\"M10412,452.0 10412,402.0 10688.0,402.0 10688.0,452.0\" fill=\"none\" stroke=\"currentColor\"/>\n",
       "    <text dy=\"1.25em\" style=\"font-size: 0.8em; letter-spacing: 1px\">\n",
       "        <textPath xlink:href=\"#arrow-c34a2f7254064dd09e01b2ab4f68a1c0-0-69\" class=\"displacy-label\" startOffset=\"50%\" side=\"left\" fill=\"currentColor\" text-anchor=\"middle\">conj</textPath>\n",
       "    </text>\n",
       "    <path class=\"displacy-arrowhead\" d=\"M10688.0,454.0 L10692.0,446.0 10684.0,446.0\" fill=\"currentColor\"/>\n",
       "</g>\n",
       "\n",
       "<g class=\"displacy-arrow\">\n",
       "    <path class=\"displacy-arc\" id=\"arrow-c34a2f7254064dd09e01b2ab4f68a1c0-0-70\" stroke-width=\"2px\" d=\"M9662,452.0 9662,377.0 10841.0,377.0 10841.0,452.0\" fill=\"none\" stroke=\"currentColor\"/>\n",
       "    <text dy=\"1.25em\" style=\"font-size: 0.8em; letter-spacing: 1px\">\n",
       "        <textPath xlink:href=\"#arrow-c34a2f7254064dd09e01b2ab4f68a1c0-0-70\" class=\"displacy-label\" startOffset=\"50%\" side=\"left\" fill=\"currentColor\" text-anchor=\"middle\">prep</textPath>\n",
       "    </text>\n",
       "    <path class=\"displacy-arrowhead\" d=\"M10841.0,454.0 L10845.0,446.0 10837.0,446.0\" fill=\"currentColor\"/>\n",
       "</g>\n",
       "\n",
       "<g class=\"displacy-arrow\">\n",
       "    <path class=\"displacy-arc\" id=\"arrow-c34a2f7254064dd09e01b2ab4f68a1c0-0-71\" stroke-width=\"2px\" d=\"M10862,452.0 10862,427.0 10985.0,427.0 10985.0,452.0\" fill=\"none\" stroke=\"currentColor\"/>\n",
       "    <text dy=\"1.25em\" style=\"font-size: 0.8em; letter-spacing: 1px\">\n",
       "        <textPath xlink:href=\"#arrow-c34a2f7254064dd09e01b2ab4f68a1c0-0-71\" class=\"displacy-label\" startOffset=\"50%\" side=\"left\" fill=\"currentColor\" text-anchor=\"middle\">pobj</textPath>\n",
       "    </text>\n",
       "    <path class=\"displacy-arrowhead\" d=\"M10985.0,454.0 L10989.0,446.0 10981.0,446.0\" fill=\"currentColor\"/>\n",
       "</g>\n",
       "</svg></span>"
      ],
      "text/plain": [
       "<IPython.core.display.HTML object>"
      ]
     },
     "metadata": {},
     "output_type": "display_data"
    }
   ],
   "source": [
    "# Render the text with SpaCy's displaCy visualizer to show syntactic dependencies or named entities\n",
    "#Can we make it look a bit cooler? (for more options https://spacy.io/api/top-level#displacy_options)\n",
    "options = {\"compact\": True, \"bg\": \"lightblue\",\n",
    "           \"color\": \"black\", \"font\": \"Source Sans Pro\"}\n",
    "displacy.render(doc, style=\"dep\", options=options,)"
   ]
  },
  {
   "cell_type": "markdown",
   "metadata": {
    "id": "4tSd2qAjmqfE"
   },
   "source": [
    "# To save in Scalable Vector Graphics (SVG)"
   ]
  },
  {
   "cell_type": "code",
   "execution_count": 30,
   "metadata": {
    "colab": {
     "base_uri": "https://localhost:8080/"
    },
    "id": "ISr-bRNAkqMW",
    "outputId": "a741d6ec-7d12-4de1-d7a9-a66ab83303e1"
   },
   "outputs": [
    {
     "data": {
      "text/plain": [
       "61182"
      ]
     },
     "execution_count": 30,
     "metadata": {},
     "output_type": "execute_result"
    }
   ],
   "source": [
    "# Render the text with SpaCy's displaCy visualizer to show syntactic dependencies or named entities\n",
    "#to save in Scalable Vector Graphics (SVG) so you can view it in full screen:\n",
    "from pathlib import Path\n",
    "svg = displacy.render(doc, style=\"dep\", options=options,jupyter=False)\n",
    "\n",
    "output_path = Path(\"./plots/dependency_plot.svg\")\n",
    "output_path.open(\"w\", encoding=\"utf-8\").write(svg)"
   ]
  },
  {
   "cell_type": "markdown",
   "metadata": {
    "id": "g-7IooBBm9xz"
   },
   "source": [
    "# What about named entities (**NER**)?"
   ]
  },
  {
   "cell_type": "markdown",
   "metadata": {
    "id": "fed7b32c"
   },
   "source": [
    "## Step 4: Named Entity Recognition (NER)\n",
    "\n",
    "Named Entity Recognition is a technique used to identify and classify named entities in text. Here, we will visualise the named entities present in our sample text using spaCy."
   ]
  },
  {
   "cell_type": "markdown",
   "metadata": {
    "id": "sFP58lqhnoyp"
   },
   "source": [
    "Named Entity Recognition (NER) is a crucial technique in Natural Language Processing (NLP) used to identify and classify entities in text. Entities can be names of people, organizations, dates, locations, etc.\n",
    "\n",
    "1. **Extracting Entity Details**:\n",
    "   ```python\n",
    "   from tabulate import tabulate\n",
    "\n",
    "   # Extract entity details\n",
    "   data = [(ent.text, ent.start_char, ent.end_char, ent.label_) for ent in doc.ents]\n",
    "   headers = ['Entity', 'Start Char', 'End Char', 'Label']\n",
    "   ```\n",
    "   - The `doc.ents` attribute contains the named entities identified in the `doc` object.\n",
    "   - A list comprehension is used to create a list of tuples, each containing the text of the entity (`ent.text`), its starting character index (`ent.start_char`), its ending character index (`ent.end_char`), and its label (`ent.label_`). The label indicates the type of entity (e.g., DATE, PERSON, ORG).\n",
    "\n",
    "2. **Displaying Entities in a Table**:\n",
    "   ```python\n",
    "   # Display the table using tabulate\n",
    "   print(tabulate(data, headers=headers, tablefmt=\"pretty\"))\n",
    "   ```\n",
    "   - The extracted entity details are converted into a table using the `tabulate` library for better visualization. The table is formatted with headers 'Entity', 'Start Char', 'End Char', and 'Label'.\n",
    "\n",
    "\n",
    "\n",
    "\n"
   ]
  },
  {
   "cell_type": "markdown",
   "metadata": {
    "id": "9eLME7oQsjyZ"
   },
   "source": [
    "\n",
    "\n",
    "\n",
    "---\n",
    "\n",
    "> The following code cell is designed to perform the operations described above. Let's execute it to see the results.\n",
    "---"
   ]
  },
  {
   "cell_type": "code",
   "execution_count": 31,
   "metadata": {
    "colab": {
     "base_uri": "https://localhost:8080/"
    },
    "id": "0Asu1ySWkqMW",
    "outputId": "8b8a1218-15e7-4ac2-aa56-a64fd0b3b4ce"
   },
   "outputs": [
    {
     "name": "stdout",
     "output_type": "stream",
     "text": [
      "+-------------------------+------------+----------+--------+\n",
      "|         Entity          | Start Char | End Char | Label  |\n",
      "+-------------------------+------------+----------+--------+\n",
      "| Today is July 24th 2024 |     0      |    23    |  DATE  |\n",
      "|           Mo            |     28     |    30    |  GPE   |\n",
      "|         Nouran          |     35     |    41    | PERSON |\n",
      "|  Lancaster University   |     89     |   109    |  ORG   |\n",
      "| UCREL NLP Summer School |    128     |   151    |  ORG   |\n",
      "|  Lancaster University   |    155     |   175    |  ORG   |\n",
      "|        InfoLab21        |    194     |   203    |  GPE   |\n",
      "|        Lancaster        |    207     |   216    |  GPE   |\n",
      "|    July 24th to 26th    |    222     |   239    |  DATE  |\n",
      "|           NLP           |    267     |   270    |  ORG   |\n",
      "|        Attendees        |    320     |   329    | PERSON |\n",
      "+-------------------------+------------+----------+--------+\n"
     ]
    }
   ],
   "source": [
    "from tabulate import tabulate\n",
    "\n",
    "# Extract entity details\n",
    "data = [(ent.text, ent.start_char, ent.end_char, ent.label_) for ent in doc.ents]\n",
    "headers = ['Entity', 'Start Char', 'End Char', 'Label']\n",
    "\n",
    "# Display the table using tabulate\n",
    "print(tabulate(data, headers=headers, tablefmt=\"pretty\"))\n"
   ]
  },
  {
   "cell_type": "markdown",
   "metadata": {
    "id": "tghQhZDjoXZ5"
   },
   "source": [
    "# Can we visualise named entities? Well, of course! :-)"
   ]
  },
  {
   "cell_type": "markdown",
   "metadata": {
    "id": "ULTF1RwMoJ3R"
   },
   "source": [
    "3. **Visualising Entities with displaCy**:\n",
    "   ```python\n",
    "   # Render the text with SpaCy's displaCy visualizer to show syntactic dependencies or named entities\n",
    "   displacy.render(doc, style=\"ent\")\n",
    "   ```\n",
    "   - The `displacy.render` function is used to visualize the named entities within the text. The `style=\"ent\"` parameter specifies that the named entity recognition (NER) visualization should be generated.\n",
    "   \n"
   ]
  },
  {
   "cell_type": "markdown",
   "metadata": {
    "id": "4BkGH5UAsohI"
   },
   "source": [
    "\n",
    "\n",
    "\n",
    "---\n",
    "\n",
    "> The following code cell is designed to perform the operations described above. Let's execute it to see the results.\n",
    "---"
   ]
  },
  {
   "cell_type": "code",
   "execution_count": 32,
   "metadata": {
    "colab": {
     "base_uri": "https://localhost:8080/",
     "height": 157
    },
    "id": "KF2UCiVWkqMW",
    "outputId": "bbdb267e-7a66-4729-b812-ca6e908f8a16"
   },
   "outputs": [
    {
     "data": {
      "text/html": [
       "<span class=\"tex2jax_ignore\"><div class=\"entities\" style=\"line-height: 2.5; direction: ltr\">\n",
       "<mark class=\"entity\" style=\"background: #bfe1d9; padding: 0.45em 0.6em; margin: 0 0.25em; line-height: 1; border-radius: 0.35em;\">\n",
       "    Today is July 24th 2024\n",
       "    <span style=\"font-size: 0.8em; font-weight: bold; line-height: 1; border-radius: 0.35em; vertical-align: middle; margin-left: 0.5rem\">DATE</span>\n",
       "</mark>\n",
       " and \n",
       "<mark class=\"entity\" style=\"background: #feca74; padding: 0.45em 0.6em; margin: 0 0.25em; line-height: 1; border-radius: 0.35em;\">\n",
       "    Mo\n",
       "    <span style=\"font-size: 0.8em; font-weight: bold; line-height: 1; border-radius: 0.35em; vertical-align: middle; margin-left: 0.5rem\">GPE</span>\n",
       "</mark>\n",
       " and \n",
       "<mark class=\"entity\" style=\"background: #aa9cfc; padding: 0.45em 0.6em; margin: 0 0.25em; line-height: 1; border-radius: 0.35em;\">\n",
       "    Nouran\n",
       "    <span style=\"font-size: 0.8em; font-weight: bold; line-height: 1; border-radius: 0.35em; vertical-align: middle; margin-left: 0.5rem\">PERSON</span>\n",
       "</mark>\n",
       " are showing us how to visualise text online at \n",
       "<mark class=\"entity\" style=\"background: #7aecec; padding: 0.45em 0.6em; margin: 0 0.25em; line-height: 1; border-radius: 0.35em;\">\n",
       "    Lancaster University\n",
       "    <span style=\"font-size: 0.8em; font-weight: bold; line-height: 1; border-radius: 0.35em; vertical-align: middle; margin-left: 0.5rem\">ORG</span>\n",
       "</mark>\n",
       " This is part of a \n",
       "<mark class=\"entity\" style=\"background: #7aecec; padding: 0.45em 0.6em; margin: 0 0.25em; line-height: 1; border-radius: 0.35em;\">\n",
       "    UCREL NLP Summer School\n",
       "    <span style=\"font-size: 0.8em; font-weight: bold; line-height: 1; border-radius: 0.35em; vertical-align: middle; margin-left: 0.5rem\">ORG</span>\n",
       "</mark>\n",
       " at \n",
       "<mark class=\"entity\" style=\"background: #7aecec; padding: 0.45em 0.6em; margin: 0 0.25em; line-height: 1; border-radius: 0.35em;\">\n",
       "    Lancaster University\n",
       "    <span style=\"font-size: 0.8em; font-weight: bold; line-height: 1; border-radius: 0.35em; vertical-align: middle; margin-left: 0.5rem\">ORG</span>\n",
       "</mark>\n",
       " which will run at \n",
       "<mark class=\"entity\" style=\"background: #feca74; padding: 0.45em 0.6em; margin: 0 0.25em; line-height: 1; border-radius: 0.35em;\">\n",
       "    InfoLab21\n",
       "    <span style=\"font-size: 0.8em; font-weight: bold; line-height: 1; border-radius: 0.35em; vertical-align: middle; margin-left: 0.5rem\">GPE</span>\n",
       "</mark>\n",
       " at \n",
       "<mark class=\"entity\" style=\"background: #feca74; padding: 0.45em 0.6em; margin: 0 0.25em; line-height: 1; border-radius: 0.35em;\">\n",
       "    Lancaster\n",
       "    <span style=\"font-size: 0.8em; font-weight: bold; line-height: 1; border-radius: 0.35em; vertical-align: middle; margin-left: 0.5rem\">GPE</span>\n",
       "</mark>\n",
       " from \n",
       "<mark class=\"entity\" style=\"background: #bfe1d9; padding: 0.45em 0.6em; margin: 0 0.25em; line-height: 1; border-radius: 0.35em;\">\n",
       "    July 24th to 26th\n",
       "    <span style=\"font-size: 0.8em; font-weight: bold; line-height: 1; border-radius: 0.35em; vertical-align: middle; margin-left: 0.5rem\">DATE</span>\n",
       "</mark>\n",
       " There will be speakers and \n",
       "<mark class=\"entity\" style=\"background: #7aecec; padding: 0.45em 0.6em; margin: 0 0.25em; line-height: 1; border-radius: 0.35em;\">\n",
       "    NLP\n",
       "    <span style=\"font-size: 0.8em; font-weight: bold; line-height: 1; border-radius: 0.35em; vertical-align: middle; margin-left: 0.5rem\">ORG</span>\n",
       "</mark>\n",
       " tutorials as well as breakfast lunch and dinners \n",
       "<mark class=\"entity\" style=\"background: #aa9cfc; padding: 0.45em 0.6em; margin: 0 0.25em; line-height: 1; border-radius: 0.35em;\">\n",
       "    Attendees\n",
       "    <span style=\"font-size: 0.8em; font-weight: bold; line-height: 1; border-radius: 0.35em; vertical-align: middle; margin-left: 0.5rem\">PERSON</span>\n",
       "</mark>\n",
       " will have the opportunity to learn from experts in the field and network with peers</div></span>"
      ],
      "text/plain": [
       "<IPython.core.display.HTML object>"
      ]
     },
     "metadata": {},
     "output_type": "display_data"
    }
   ],
   "source": [
    "# Render the text with SpaCy's displaCy visualizer to show syntactic dependencies or named entities\n",
    "#can we visualise named entities? Well, of course! :-)\n",
    "displacy.render(doc, style=\"ent\")"
   ]
  },
  {
   "cell_type": "markdown",
   "metadata": {
    "id": "HtfDkWapoN0b"
   },
   "source": [
    "   **Visual Output**:\n",
    "   - The visual output highlights each entity in the text, color-coded by its type (e.g., DATE, PERSON, ORG). This interactive visualization helps in quickly identifying and understanding the different entities present in the text."
   ]
  },
  {
   "cell_type": "markdown",
   "metadata": {
    "id": "e2JHFDA7ofNP"
   },
   "source": [
    "# To save in Scalable Vector Graphics (SVG) so you can view it in full screen:"
   ]
  },
  {
   "cell_type": "code",
   "execution_count": 34,
   "metadata": {
    "colab": {
     "base_uri": "https://localhost:8080/"
    },
    "id": "L_0YlOBJkqMW",
    "outputId": "5b28ea53-5bba-4082-cf52-382f3db91503"
   },
   "outputs": [
    {
     "data": {
      "text/plain": [
       "3724"
      ]
     },
     "execution_count": 34,
     "metadata": {},
     "output_type": "execute_result"
    }
   ],
   "source": [
    "# Render the text with SpaCy's displaCy visualizer to show syntactic dependencies or named entities\n",
    "#to save in Scalable Vector Graphics (SVG) so you can view it in full screen:\n",
    "from pathlib import Path\n",
    "html = displacy.render(doc, style=\"ent\",jupyter=False)#withouth jupyter = False you'll get a\n",
    "\n",
    "output_path = Path(\"./plots/ner_plot.html\")\n",
    "output_path.open(\"w\", encoding=\"utf-8\").write(html)"
   ]
  }
 ],
 "metadata": {
  "colab": {
   "include_colab_link": true,
   "provenance": []
  },
  "kernelspec": {
   "display_name": "Python 3 (ipykernel)",
   "language": "python",
   "name": "python3"
  },
  "language_info": {
   "codemirror_mode": {
    "name": "ipython",
    "version": 3
   },
   "file_extension": ".py",
   "mimetype": "text/x-python",
   "name": "python",
   "nbconvert_exporter": "python",
   "pygments_lexer": "ipython3",
   "version": "3.11.1"
  },
  "varInspector": {
   "cols": {
    "lenName": 16,
    "lenType": 16,
    "lenVar": 40
   },
   "kernels_config": {
    "python": {
     "delete_cmd_postfix": "",
     "delete_cmd_prefix": "del ",
     "library": "var_list.py",
     "varRefreshCmd": "print(var_dic_list())"
    },
    "r": {
     "delete_cmd_postfix": ") ",
     "delete_cmd_prefix": "rm(",
     "library": "var_list.r",
     "varRefreshCmd": "cat(var_dic_list()) "
    }
   },
   "types_to_exclude": [
    "module",
    "function",
    "builtin_function_or_method",
    "instance",
    "_Feature"
   ],
   "window_display": false
  }
 },
 "nbformat": 4,
 "nbformat_minor": 1
}
